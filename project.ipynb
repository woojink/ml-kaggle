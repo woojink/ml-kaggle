{
 "cells": [
  {
   "cell_type": "markdown",
   "metadata": {},
   "source": [
    "# ML Kaggle Competition"
   ]
  },
  {
   "cell_type": "code",
   "execution_count": 1,
   "metadata": {
    "collapsed": false
   },
   "outputs": [],
   "source": [
    "import csv\n",
    "import numpy as np\n",
    "import pandas as pd\n",
    "import random\n",
    "from sklearn.model_selection import KFold\n",
    "\n",
    "train = pd.read_csv('data.csv', sep=\",\")\n",
    "train_data = train.iloc[:,:-1]\n",
    "train_labels = train.iloc[:,-1]\n",
    "\n",
    "test_data = pd.read_csv('quiz.csv', sep=\",\")\n",
    "\n",
    "all_data = pd.concat([train_data, test_data])\n",
    "train_obs = len(train_data)\n",
    "test_obs = len(test_data)\n",
    "\n",
    "# Change dtype of categorical columns\n",
    "categorical_columns = ['0','5','7','8','9','14','16','17','18','20','23','25','26','56','57','58']\n",
    "for i in range(0,len(categorical_columns)):\n",
    "    all_data[categorical_columns[i]] = all_data[categorical_columns[i]].astype('category')"
   ]
  },
  {
   "cell_type": "code",
   "execution_count": 7,
   "metadata": {
    "collapsed": false
   },
   "outputs": [],
   "source": [
    "from sklearn.ensemble import AdaBoostClassifier, BaggingClassifier, ExtraTreesClassifier, RandomForestClassifier, GradientBoostingClassifier\n",
    "from sklearn.linear_model import LogisticRegression, SGDClassifier\n",
    "from sklearn.naive_bayes import GaussianNB, MultinomialNB\n",
    "from sklearn.neighbors import KNeighborsClassifier\n",
    "from sklearn.neural_network import MLPClassifier\n",
    "from sklearn.svm import SVR\n",
    "from xgboost import XGBClassifier\n",
    "\n",
    "from sklearn.tree import ExtraTreeClassifier\n",
    "\n",
    "def pred_and_error(model, test_data, test_labels):\n",
    "    preds = model.predict(test_data)\n",
    "    error = 1 - sum(preds == test_labels)/float(len(test_labels))\n",
    "    return preds, error\n",
    "\n",
    "def cv_run_ada(train_data, train_labels, test_data, test_labels):\n",
    "    model = AdaBoostClassifier().fit(train_data, train_labels)\n",
    "    return pred_and_error(model, test_data, test_labels)\n",
    "\n",
    "def cv_run_bag(train_data, train_labels, test_data, test_labels):\n",
    "    model = BaggingClassifier(max_features=0.394512412319, n_estimators=435,\n",
    "                              random_state=1, n_jobs=-1).fit(train_data, train_labels)\n",
    "    return pred_and_error(model, test_data, test_labels)\n",
    "\n",
    "def cv_run_et(train_data, train_labels, test_data, test_labels):\n",
    "    model = ExtraTreesClassifier(n_jobs=-1, min_samples_leaf=2, n_estimators=99,\n",
    "                                 min_samples_split=3, random_state=1,\n",
    "                                 max_features=1611, max_depth=None).fit(train_data, train_labels)\n",
    "    return pred_and_error(model, test_data, test_labels)\n",
    "\n",
    "def cv_run_gb(train_data, train_labels, test_data, test_labels):\n",
    "    model = GradientBoostingClassifier(loss='exponential', n_estimators=200, \n",
    "                                       max_features=None, random_state=1).fit(train_data, train_labels)\n",
    "    return pred_and_error(model, test_data, test_labels)\n",
    "\n",
    "def cv_run_knn(train_data, train_labels, test_data, test_labels, n_neigh):\n",
    "    model = KNeighborsClassifier(n_jobs=-1, n_neighbors=n_neigh).fit(train_data, train_labels)\n",
    "    return pred_and_error(model, test_data, test_labels)\n",
    "\n",
    "def cv_run_logistic(train_data, train_labels, test_data, test_labels):\n",
    "    model = LogisticRegression(penalty='l1', C=0.9029677391429398,\n",
    "                               n_jobs=-1, random_state=1).fit(train_data, train_labels)\n",
    "    return pred_and_error(model, test_data, test_labels)\n",
    "\n",
    "def cv_run_nb(train_data, train_labels, test_data, test_labels):\n",
    "    model = GaussianNB().fit(train_data, train_labels)\n",
    "    return pred_and_error(model, test_data, test_labels)\n",
    "\n",
    "def cv_run_neural(train_data, train_labels, test_data, test_labels):\n",
    "    model = MLPClassifier(hidden_layer_sizes=(1000,)).fit(train_data, train_labels)\n",
    "    return pred_and_error(model, test_data, test_labels)\n",
    "\n",
    "def cv_run_rf(train_data, train_labels, test_data, test_labels):\n",
    "    model = RandomForestClassifier(n_jobs=-1, random_state=1).fit(train_data, train_labels)\n",
    "    return pred_and_error(model, test_data, test_labels)\n",
    "\n",
    "def cv_run_sgd(train_data, train_labels, test_data, test_labels):    \n",
    "    model = SGDClassifier(loss='perceptron').fit(train_data, train_labels)\n",
    "    return pred_and_error(model, test_data, test_labels)\n",
    "\n",
    "def cv_run_svm(train_data, train_labels, test_data, test_labels):    \n",
    "    model = SVR().fit(train_data, train_labels)\n",
    "    return pred_and_error(model, test_data, test_labels)\n",
    "\n",
    "def cv_run_xg(train_data, train_labels, test_data, test_labels):\n",
    "    model = XGBClassifier().fit(train_data, train_labels)\n",
    "    return pred_and_error(model, test_data, test_labels)"
   ]
  },
  {
   "cell_type": "markdown",
   "metadata": {},
   "source": [
    "## Simple prediction with only numerical variables\n",
    "\n",
    "Quick benchmarking predictions only using the numerical variables."
   ]
  },
  {
   "cell_type": "code",
   "execution_count": 3,
   "metadata": {
    "collapsed": true
   },
   "outputs": [],
   "source": [
    "all_data_num = all_data.drop(categorical_columns, axis=1)\n",
    "train_data_num = all_data_num.iloc[0:train_obs,]\n",
    "test_data_num = all_data_num.iloc[train_obs:,]"
   ]
  },
  {
   "cell_type": "code",
   "execution_count": 4,
   "metadata": {
    "collapsed": false
   },
   "outputs": [
    {
     "name": "stderr",
     "output_type": "stream",
     "text": [
      "/usr/local/lib/python3.5/site-packages/ipykernel/__main__.py:1: SettingWithCopyWarning: \n",
      "A value is trying to be set on a copy of a slice from a DataFrame.\n",
      "Try using .loc[row_indexer,col_indexer] = value instead\n",
      "\n",
      "See the caveats in the documentation: http://pandas.pydata.org/pandas-docs/stable/indexing.html#indexing-view-versus-copy\n",
      "  if __name__ == '__main__':\n",
      "/usr/local/lib/python3.5/site-packages/pandas/core/indexing.py:508: SettingWithCopyWarning: \n",
      "A value is trying to be set on a copy of a slice from a DataFrame.\n",
      "Try using .loc[row_indexer,col_indexer] = value instead\n",
      "\n",
      "See the caveats in the documentation: http://pandas.pydata.org/pandas-docs/stable/indexing.html#indexing-view-versus-copy\n",
      "  self.obj[item_labels[indexer[info_axis]]] = value\n",
      "/usr/local/lib/python3.5/site-packages/ipykernel/__main__.py:4: SettingWithCopyWarning: \n",
      "A value is trying to be set on a copy of a slice from a DataFrame.\n",
      "Try using .loc[row_indexer,col_indexer] = value instead\n",
      "\n",
      "See the caveats in the documentation: http://pandas.pydata.org/pandas-docs/stable/indexing.html#indexing-view-versus-copy\n"
     ]
    }
   ],
   "source": [
    "train_data_num['div'] = (train_data_num.loc[:,'60'] / train_data_num.loc[:,'59'])\n",
    "train_data_num.loc[:,'div'] = train_data_num.loc[:,'div'].fillna(0)\n",
    "\n",
    "test_data_num['div'] = (test_data_num.loc[:,'60'] / test_data_num.loc[:,'59'])\n",
    "test_data_num.loc[:,'div'] = test_data_num.loc[:,'div'].fillna(0)"
   ]
  },
  {
   "cell_type": "code",
   "execution_count": 39,
   "metadata": {
    "collapsed": true
   },
   "outputs": [],
   "source": [
    "# from sklearn.preprocessing import PolynomialFeatures, MinMaxScaler\n",
    "\n",
    "# min_max_scaler = MinMaxScaler()\n",
    "# train_data_num = pd.DataFrame(min_max_scaler.fit_transform(train_data_num))\n",
    "\n",
    "# knn_classifier = KNeighborsClassifier(n_neighbors=1, n_jobs=-1).fit(train_data_num, train_labels)\n",
    "# dists1 = knn_classifier.kneighbors(train_data_num, n_neighbors=1)\n",
    "# dists1 = [i[0] for i in dists1[1]]\n",
    "\n",
    "# dists2 = knn_classifier.kneighbors(train_data_num, n_neighbors=2)\n",
    "# dists2 = [i+j for (i,j) in dists2[1]]\n",
    "\n",
    "# dists4 = knn_classifier.kneighbors(train_data_num, n_neighbors=4)\n",
    "# dists4 = [sum(i) for i in dists4[1]]\n",
    "\n",
    "# Feature engineering\n",
    "\n",
    "# train_data_num = pd.concat((train_data_num,\n",
    "#                             np.sum(train_data_num, axis=1),\n",
    "#                             np.sum(train_data_num != 0, axis=1),\n",
    "#                             pd.Series(dists1), pd.Series(dists2), pd.Series(dists4)), axis=1)\n",
    "# train_data_num = pd.concat((train_data_num,\n",
    "#                             np.log(train_data_num.loc[:,'59']+1),\n",
    "#                             np.log(train_data_num.loc[:,'60']+1)), axis=1)\n",
    "# train_data_num = pd.concat((train_data_num, np.sum(train_data_num, axis=1)), axis=1)\n",
    "# poly = PolynomialFeatures(2)\n",
    "# train_data_num = pd.DataFrame(poly.fit_transform(train_data_num))"
   ]
  },
  {
   "cell_type": "code",
   "execution_count": 81,
   "metadata": {
    "collapsed": false
   },
   "outputs": [
    {
     "name": "stdout",
     "output_type": "stream",
     "text": [
      "Starting fold #1\n",
      " Fold error (#1): 0.2408152002522863\n",
      "Starting fold #2\n",
      " Fold error (#2): 0.2505124566382845\n",
      "Starting fold #3\n",
      " Fold error (#3): 0.2454369850593291\n",
      "Starting fold #4\n",
      " Fold error (#4): 0.2454369850593291\n",
      "Starting fold #5\n",
      " Fold error (#5): 0.24456971656088622\n",
      "0.245354268714\n"
     ]
    }
   ],
   "source": [
    "n_folds = 5\n",
    "kf = KFold(n_folds=n_folds, shuffle=True, random_state=1)\n",
    "cv_errors = []\n",
    "for i, (train, test) in enumerate(kf.split(train_data_num)):\n",
    "    cv_train_data = train_data_num.iloc[train,:]\n",
    "    cv_train_labels = train_labels[train]\n",
    "    cv_test_data = train_data_num.iloc[test,:]\n",
    "    cv_test_labels = train_labels[test]\n",
    "   \n",
    "    print(\"Starting fold #{}\".format(i+1))\n",
    "    _, fold_error = cv_run_neural(cv_train_data, cv_train_labels, cv_test_data, cv_test_labels)\n",
    "    print(\" Fold error (#{}): {}\".format(i+1, fold_error))\n",
    "    cv_errors.append(fold_error)\n",
    "\n",
    "print(sum(cv_errors)/float(n_folds))"
   ]
  },
  {
   "cell_type": "code",
   "execution_count": null,
   "metadata": {
    "collapsed": true
   },
   "outputs": [],
   "source": [
    "model = AdaBoostClassifier().fit(train_data_num, train_labels)\n",
    "preds = model.predict(test_data_num)\n",
    "\n",
    "# with open('simple_results.csv', 'w', newline='') as f:\n",
    "#     writer = csv.writer(f)\n",
    "#     writer.writerow((\"Id\",\"Prediction\"))\n",
    "#     writer.writerows(zip(range(1,len(preds)+1), preds))"
   ]
  },
  {
   "cell_type": "markdown",
   "metadata": {},
   "source": [
    "## Incorporating Categorical Variable with One Hot Encoding\n",
    "\n",
    "Combine training and testing data so that the encoder sees every category, the split again once the columns are ready."
   ]
  },
  {
   "cell_type": "code",
   "execution_count": 5,
   "metadata": {
    "collapsed": false
   },
   "outputs": [],
   "source": [
    "all_data_cat = pd.get_dummies(all_data[categorical_columns])\n",
    "train_data_cat = all_data_cat.iloc[0:train_obs,]\n",
    "test_data_cat = all_data_cat.iloc[train_obs:,]\n",
    "\n",
    "train_data_combo = pd.concat([train_data_num, train_data_cat], axis=1)\n",
    "test_data_combo = pd.concat([test_data_num, test_data_cat], axis=1)"
   ]
  },
  {
   "cell_type": "code",
   "execution_count": null,
   "metadata": {
    "collapsed": false
   },
   "outputs": [],
   "source": [
    "random.seed(1)\n",
    "n_folds = 5\n",
    "num_train = len(train_data_combo)\n",
    "indices = random.sample(range(num_train), num_train)\n",
    "cv_folds = np.array_split(indices, n_folds)\n",
    "\n",
    "cv_errors = []\n",
    "for i, fold in enumerate(cv_folds):\n",
    "    cv_train_index = np.setxor1d(indices, fold)\n",
    "    cv_test_index = fold\n",
    "    \n",
    "    cv_train_data = train_data_combo.iloc[cv_train_index,:]\n",
    "    cv_train_labels = train_labels[cv_train_index]\n",
    "\n",
    "    cv_test_data = train_data_combo.iloc[cv_test_index,:]\n",
    "    cv_test_labels = train_labels[cv_test_index]\n",
    "    \n",
    "    print(\"Starting fold #{}\".format(i+1))\n",
    "    _, fold_error = cv_run_bag(cv_train_data, cv_train_labels, cv_test_data, cv_test_labels)\n",
    "    print(\" Fold error (#{}): {}\".format(i+1, fold_error))\n",
    "    cv_errors.append(fold_error)\n",
    "\n",
    "print(sum(cv_errors)/float(n_folds))"
   ]
  },
  {
   "cell_type": "code",
   "execution_count": null,
   "metadata": {
    "collapsed": true
   },
   "outputs": [],
   "source": [
    "model = RandomForestClassifier(n_jobs=-1, min_samples_leaf=1, n_estimators=77,\n",
    "                                   min_samples_split=2, random_state=1, max_features=771,\n",
    "                                   max_depth=None).fit(train_data_combo, train_labels)\n",
    "preds = model.predict(test_data_combo)\n",
    "\n",
    "with open('results/20160420(rf).csv', 'w', newline='') as f:\n",
    "    writer = csv.writer(f)\n",
    "    writer.writerow((\"Id\",\"Prediction\"))\n",
    "    writer.writerows(zip(range(1,len(preds)+1), preds))"
   ]
  },
  {
   "cell_type": "markdown",
   "metadata": {},
   "source": [
    "## Ignoring two large columns\n",
    "\n",
    "Columns 23 and 58 contibute 3,031 and 2,090 categories/columns (total 5,121). Removing them should make training a lot easier for some methods."
   ]
  },
  {
   "cell_type": "code",
   "execution_count": 6,
   "metadata": {
    "collapsed": true
   },
   "outputs": [],
   "source": [
    "# all_data['23'].cat.categories\n",
    "# all_data['58'].cat.categories\n",
    "categorical_columns_tiny = ['0','5','7','8','9','14','16','17','18','20','25','26','56','57']\n",
    "\n",
    "all_data_cat_tiny = pd.get_dummies(all_data[categorical_columns_tiny])\n",
    "train_data_cat_tiny = all_data_cat_tiny.iloc[0:train_obs,]\n",
    "test_data_cat_tiny = all_data_cat_tiny.iloc[train_obs:,]\n",
    "\n",
    "train_data_combo_tiny = pd.concat([train_data_num, train_data_cat_tiny], axis=1)\n",
    "test_data_combo_tiny = pd.concat([test_data_num, test_data_cat_tiny], axis=1)"
   ]
  },
  {
   "cell_type": "code",
   "execution_count": null,
   "metadata": {
    "collapsed": false
   },
   "outputs": [],
   "source": [
    "random.seed(1)\n",
    "n_folds = 5\n",
    "num_train = len(train_data_combo_tiny)\n",
    "indices = random.sample(range(num_train), num_train)\n",
    "cv_folds = np.array_split(indices, n_folds)\n",
    "\n",
    "cv_errors = []\n",
    "for i, fold in enumerate(cv_folds):\n",
    "    cv_train_index = np.setxor1d(indices, fold)\n",
    "    cv_test_index = fold\n",
    "    \n",
    "    cv_train_data = train_data_combo_tiny.iloc[cv_train_index,:]\n",
    "    cv_train_labels = train_labels[cv_train_index]\n",
    "\n",
    "    cv_test_data = train_data_combo_tiny.iloc[cv_test_index,:]\n",
    "    cv_test_labels = train_labels[cv_test_index]\n",
    "    \n",
    "    print(\"Starting fold #{}\".format(i+1))\n",
    "    _, fold_error = cv_run_neural(cv_train_data, cv_train_labels, cv_test_data, cv_test_labels)\n",
    "    print(\" Fold error (#{}): {}\".format(i+1, fold_error))\n",
    "    cv_errors.append(fold_error)\n",
    "\n",
    "print(sum(cv_errors)/float(n_folds))"
   ]
  }
 ],
 "metadata": {
  "kernelspec": {
   "display_name": "Python 3",
   "language": "python",
   "name": "python3"
  },
  "language_info": {
   "codemirror_mode": {
    "name": "ipython",
    "version": 3
   },
   "file_extension": ".py",
   "mimetype": "text/x-python",
   "name": "python",
   "nbconvert_exporter": "python",
   "pygments_lexer": "ipython3",
   "version": "3.5.1"
  }
 },
 "nbformat": 4,
 "nbformat_minor": 0
}
