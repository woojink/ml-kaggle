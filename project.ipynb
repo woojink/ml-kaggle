{
 "cells": [
  {
   "cell_type": "markdown",
   "metadata": {},
   "source": [
    "# ML Kaggle Competition"
   ]
  },
  {
   "cell_type": "code",
   "execution_count": 1,
   "metadata": {
    "collapsed": false
   },
   "outputs": [],
   "source": [
    "import csv\n",
    "import numpy as np\n",
    "import pandas as pd\n",
    "import random\n",
    "\n",
    "train = pd.read_csv('data.csv', sep=\",\")\n",
    "train_data = train.iloc[:,:-1]\n",
    "train_labels = train.iloc[:,-1]\n",
    "\n",
    "test_data = pd.read_csv('quiz.csv', sep=\",\")\n",
    "\n",
    "all_data = pd.concat([train_data, test_data])\n",
    "train_obs = len(train_data)\n",
    "test_obs = len(test_data)\n",
    "\n",
    "# Change dtype of categorical columns\n",
    "categorical_columns = ['0','5','7','8','9','14','16','17','18','20','23','25','26','56','57','58']\n",
    "for i in range(0,len(categorical_columns)):\n",
    "    all_data[categorical_columns[i]] = all_data[categorical_columns[i]].astype('category')"
   ]
  },
  {
   "cell_type": "code",
   "execution_count": 2,
   "metadata": {
    "collapsed": false
   },
   "outputs": [],
   "source": [
    "from sklearn.ensemble import AdaBoostClassifier, BaggingClassifier, ExtraTreesClassifier, RandomForestClassifier, GradientBoostingClassifier\n",
    "from sklearn.linear_model import LogisticRegression, SGDClassifier\n",
    "from sklearn.naive_bayes import GaussianNB, MultinomialNB\n",
    "from sklearn.neighbors import KNeighborsClassifier\n",
    "from sklearn.neural_network import MLPClassifier\n",
    "from sklearn.svm import SVR\n",
    "from xgboost import XGBClassifier\n",
    "\n",
    "from sklearn.tree import ExtraTreeClassifier\n",
    "\n",
    "def cv_run_ada(train_data, train_labels, test_data, test_labels):\n",
    "    model = AdaBoostClassifier(base_estimator=ExtraTreeClassifier()).fit(train_data, train_labels)\n",
    "    preds = model.predict(test_data)\n",
    "    error = 1 - sum(preds == test_labels)/float(len(test_labels))\n",
    "    return error\n",
    "\n",
    "def cv_run_bag(train_data, train_labels, test_data, test_labels):\n",
    "    model = BaggingClassifier(max_features=0.75, random_state=1).fit(train_data, train_labels)\n",
    "    preds = model.predict(test_data)\n",
    "    error = 1 - sum(preds == test_labels)/float(len(test_labels))\n",
    "    return error\n",
    "\n",
    "def cv_run_et(train_data, train_labels, test_data, test_labels):\n",
    "#     model = ExtraTreesClassifier(max_features=None, n_jobs=-1, random_state=1).fit(train_data, train_labels)\n",
    "    model = ExtraTreesClassifier(n_jobs=-1, min_samples_leaf=1, n_estimators=40,\n",
    "                                 min_samples_split=3, random_state=1,\n",
    "                                 max_features=1743, max_depth=None).fit(train_data, train_labels)\n",
    "    preds = model.predict(test_data)\n",
    "    error = 1 - sum(preds == test_labels)/float(len(test_labels))\n",
    "    return error\n",
    "\n",
    "def cv_run_gb(train_data, train_labels, test_data, test_labels):\n",
    "    model = GradientBoostingClassifier(loss='exponential', n_estimators=200, \n",
    "                                       max_features=None, random_state=1).fit(train_data, train_labels)\n",
    "    preds = model.predict(test_data)\n",
    "    error = 1 - sum(preds == test_labels)/float(len(test_labels))\n",
    "    return error\n",
    "\n",
    "def cv_run_knn(train_data, train_labels, test_data, test_labels, n_neigh):\n",
    "    model = KNeighborsClassifier(n_neighbors=n_neigh).fit(train_data, train_labels)\n",
    "    preds = model.predict(test_data)\n",
    "    error = 1 - sum(preds == test_labels)/float(len(test_labels))\n",
    "    return error\n",
    "\n",
    "def cv_run_logistic(train_data, train_labels, test_data, test_labels):\n",
    "    model = LogisticRegression(penalty='l1',\n",
    "                               C=0.9029677391429398,\n",
    "                               n_jobs=-1, random_state=1).fit(train_data, train_labels)\n",
    "    preds = model.predict(test_data)\n",
    "    error = 1 - sum(preds == test_labels)/float(len(test_labels))\n",
    "    return error\n",
    "\n",
    "def cv_run_nb(train_data, train_labels, test_data, test_labels):\n",
    "    model = GaussianNB().fit(train_data, train_labels)\n",
    "    preds = model.predict(test_data)\n",
    "    error = 1 - sum(preds == test_labels)/float(len(test_labels))\n",
    "    return error\n",
    "\n",
    "def cv_run_neural(train_data, train_labels, test_data, test_labels):\n",
    "    model = MLPClassifier().fit(train_data, train_labels)\n",
    "    preds = model.predict(test_data)\n",
    "    error = 1 - sum(preds == test_labels)/float(len(test_labels))\n",
    "    return error\n",
    "\n",
    "def cv_run_rf(train_data, train_labels, test_data, test_labels):\n",
    "    model = RandomForestClassifier(n_jobs=-1, min_samples_leaf=1, n_estimators=50,\n",
    "                                   min_samples_split=4, random_state=1, max_features=966,\n",
    "                                   max_depth=None).fit(train_data, train_labels)\n",
    "    preds = model.predict(test_data)\n",
    "    error = 1 - sum(preds == test_labels)/float(len(test_labels))\n",
    "    return error\n",
    "\n",
    "def cv_run_sgd(train_data, train_labels, test_data, test_labels):    \n",
    "    model = SGDClassifier(loss='perceptron').fit(train_data, train_labels)\n",
    "    preds = model.predict(test_data)\n",
    "    error = 1 - sum(preds == test_labels)/float(len(test_labels))\n",
    "    return error\n",
    "\n",
    "def cv_run_svm(train_data, train_labels, test_data, test_labels):    \n",
    "    model = SVR().fit(train_data, train_labels)\n",
    "    preds = model.predict(test_data)\n",
    "    error = 1 - sum(preds == test_labels)/float(len(test_labels))\n",
    "    return error\n",
    "\n",
    "def cv_run_xg(train_data, train_labels, test_data, test_labels):\n",
    "    model = XGBClassifier().fit(train_data, train_labels)\n",
    "    preds = model.predict(test_data)\n",
    "    error = 1 - sum(preds == test_labels)/float(len(test_labels))\n",
    "    return error"
   ]
  },
  {
   "cell_type": "markdown",
   "metadata": {},
   "source": [
    "## Simple prediction with only numerical variables\n",
    "\n",
    "Quick benchmarking predictions only using the numerical variables."
   ]
  },
  {
   "cell_type": "code",
   "execution_count": 3,
   "metadata": {
    "collapsed": true
   },
   "outputs": [],
   "source": [
    "all_data_num = all_data.drop(categorical_columns, axis=1)\n",
    "train_data_num = all_data_num.iloc[0:train_obs,]\n",
    "test_data_num = all_data_num.iloc[train_obs:,]"
   ]
  },
  {
   "cell_type": "code",
   "execution_count": null,
   "metadata": {
    "collapsed": false
   },
   "outputs": [],
   "source": [
    "random.seed(1)\n",
    "n_folds = 5\n",
    "num_train = len(train_data_num)\n",
    "indices = random.sample(range(num_train), num_train)\n",
    "cv_folds = np.array_split(indices, n_folds)\n",
    "\n",
    "cv_errors = []\n",
    "for i, fold in enumerate(cv_folds):\n",
    "    cv_train_index = np.setxor1d(indices, fold)\n",
    "    cv_test_index = fold\n",
    "    \n",
    "    cv_train_data = train_data_num.iloc[cv_train_index,:]\n",
    "    cv_train_labels = train_labels[cv_train_index]\n",
    "\n",
    "    cv_test_data = train_data_num.iloc[cv_test_index,:]\n",
    "    cv_test_labels = train_labels[cv_test_index]\n",
    "    \n",
    "    print(\"Starting fold #{}\".format(i+1))\n",
    "#     fold_error = cv_run_ada(cv_train_data, cv_train_labels, cv_test_data, cv_test_labels)\n",
    "#     fold_error = cv_run_neural(cv_train_data, cv_train_labels, cv_test_data, cv_test_labels)\n",
    "#     fold_error = cv_run_xg(cv_train_data, cv_train_labels, cv_test_data, cv_test_labels)\n",
    "#     fold_error = cv_run_svm(cv_train_data, cv_train_labels, cv_test_data, cv_test_labels)\n",
    "#     fold_error = cv_run_knn(cv_train_data, cv_train_labels, cv_test_data, cv_test_labels, 20)\n",
    "#     fold_error = cv_run_nb(cv_train_data, cv_train_labels, cv_test_data, cv_test_labels)\n",
    "#     fold_error = cv_run_logistic(cv_train_data, cv_train_labels, cv_test_data, cv_test_labels)\n",
    "#     fold_error = cv_run_rf(cv_train_data, cv_train_labels, cv_test_data, cv_test_labels)\n",
    "#     fold_error = cv_run_et(cv_train_data, cv_train_labels, cv_test_data, cv_test_labels)\n",
    "#     fold_error = cv_run_bag(cv_train_data, cv_train_labels, cv_test_data, cv_test_labels)\n",
    "#     fold_error = cv_run_sgd(cv_train_data, cv_train_labels, cv_test_data, cv_test_labels)\n",
    "    fold_error = cv_run_et(cv_train_data, cv_train_labels, cv_test_data, cv_test_labels)\n",
    "    print(\" Fold error (#{}): {}\".format(i+1, fold_error))\n",
    "    cv_errors.append(fold_error)\n",
    "\n",
    "print(sum(cv_errors)/float(n_folds))\n",
    "\n",
    "# AdaBoost, default: 0.269290547594\n",
    "# AdaBoost (n_estimators=200, learning_rate=0.5): 0.269448216614\n",
    "# AdaBoost (n_estimators=200, learning_rate=0.1): 0.269053944606\n",
    "# AdaBoost (base_estimator=ExtraTreeClassifier(max_depth=1)): 0.28954478716\n",
    "# AdaBoost (base_estimator=ExtraTreeClassifier(max_depth=2)): 0.274588670919\n",
    "# AdaBoost (base_estimator=ExtraTreeClassifier()): 0.117907238733 (?)\n",
    "# Neural network, default settings: 0.25234751258\n",
    "# Neural network, default ('logistic'): 0.244794532236\n",
    "# XGBoost, default: 0.25718831277\n",
    "# kNN, k=1: 0.139336326082\n",
    "# kNN, k=2: 0.135756900122\n",
    "# kNN, k=3: 0.153677542531\n",
    "# kNN, k=5: 0.170470769768\n",
    "# kNN, k=10: 0.192979920115\n",
    "# kNN, k=20: 0.216529877817\n",
    "# Gaussian NB: 0.326915637508\n",
    "# Logistic Regression: 0.278767271043\n",
    "# Random Forest, default, random_state=1: 0.117308028517\n",
    "# Random Forest, random_state=1, criterion='entropy': 0.117615504054\n",
    "# Random Forest, n_estimators=20: 0.114233264756\n",
    "# Random Forest, max_features=None: 0.116054499698\n",
    "# Random Forest, n_estimators=20, max_features=None: 0.11560505746\n",
    "# Extra Trees, default: 0.111379161105\n",
    "# Extra Trees, n_estimators=15: 0.11488761941\n",
    "# Extra Trees, n_estimators=20: 0.112687928843\n",
    "# Extra Trees, n_estimators=30: 0.112538147811\n",
    "# Extra Trees, n_estimators=50: 0.112459332881\n",
    "# Extra Trees, max_features=None: 0.11061440569\n",
    "# Bagging, default: 0.114848167656\n",
    "# Bagging, n_estimators=20: 0.113973028885\n",
    "# SGD, loss='perceptron': 0.350607692135\n",
    "# Gradient Boosting, default: 0.256360526245\n",
    "# Gradient Boosting, loss='exponential', n_estimators=200, max_features=None, random_state=1: 0.253285713067"
   ]
  },
  {
   "cell_type": "code",
   "execution_count": null,
   "metadata": {
    "collapsed": true
   },
   "outputs": [],
   "source": [
    "model = AdaBoostClassifier().fit(train_data_num, train_labels)\n",
    "preds = model.predict(test_data_num)\n",
    "\n",
    "# with open('simple_results.csv', 'w', newline='') as f:\n",
    "#     writer = csv.writer(f)\n",
    "#     writer.writerow((\"Id\",\"Prediction\"))\n",
    "#     writer.writerows(zip(range(1,len(preds)+1), preds))"
   ]
  },
  {
   "cell_type": "markdown",
   "metadata": {},
   "source": [
    "## Incorporating Categorical Variable with One Hot Encoding\n",
    "\n",
    "Combine training and testing data so that the encoder sees every category, the split again once the columns are ready."
   ]
  },
  {
   "cell_type": "code",
   "execution_count": 4,
   "metadata": {
    "collapsed": false
   },
   "outputs": [],
   "source": [
    "all_data_cat = pd.get_dummies(all_data[categorical_columns])\n",
    "train_data_cat = all_data_cat.iloc[0:train_obs,]\n",
    "test_data_cat = all_data_cat.iloc[train_obs:,]\n",
    "\n",
    "train_data_combo = pd.concat([train_data_num, train_data_cat], axis=1)\n",
    "test_data_combo = pd.concat([test_data_num, test_data_cat], axis=1)"
   ]
  },
  {
   "cell_type": "code",
   "execution_count": 5,
   "metadata": {
    "collapsed": false
   },
   "outputs": [
    {
     "name": "stdout",
     "output_type": "stream",
     "text": [
      "Starting fold #1\n",
      " Fold error (#1): 0.05376852727846104\n",
      "Starting fold #2\n",
      " Fold error (#2): 0.05392620624408706\n",
      "Starting fold #3\n",
      " Fold error (#3): 0.05487444317420276\n",
      "Starting fold #4\n",
      " Fold error (#4): 0.054204281152678724\n",
      "Starting fold #5\n",
      " Fold error (#5): 0.05448023022036508\n",
      "0.054250737614\n"
     ]
    }
   ],
   "source": [
    "random.seed(1)\n",
    "n_folds = 5\n",
    "num_train = len(train_data_combo)\n",
    "indices = random.sample(range(num_train), num_train)\n",
    "cv_folds = np.array_split(indices, n_folds)\n",
    "\n",
    "cv_errors = []\n",
    "for i, fold in enumerate(cv_folds):\n",
    "    cv_train_index = np.setxor1d(indices, fold)\n",
    "    cv_test_index = fold\n",
    "    \n",
    "    cv_train_data = train_data_combo.iloc[cv_train_index,:]\n",
    "    cv_train_labels = train_labels[cv_train_index]\n",
    "\n",
    "    cv_test_data = train_data_combo.iloc[cv_test_index,:]\n",
    "    cv_test_labels = train_labels[cv_test_index]\n",
    "    \n",
    "    print(\"Starting fold #{}\".format(i+1))\n",
    "#     fold_error = cv_run_knn(cv_train_data, cv_train_labels, cv_test_data, cv_test_labels, 2)\n",
    "    fold_error = cv_run_rf(cv_train_data, cv_train_labels, cv_test_data, cv_test_labels)\n",
    "    print(\" Fold error (#{}): {}\".format(i+1, fold_error))\n",
    "    cv_errors.append(fold_error)\n",
    "\n",
    "print(sum(cv_errors)/float(n_folds))\n",
    "# AdaBoost (n_estimators=200, learning_rate=0.5): 0.117260743164\n",
    "# Extra Trees, default: 0.0631676876621\n",
    "#    max_features = sqrt(5932) ~ 77\n",
    "# Extra Trees, max_features=100: 0.0618510371579\n",
    "# Extra Trees, max_features=200: 0.060558039058\n",
    "# Extra Trees, max_features=300: 0.0605028501147\n",
    "# Extra Trees, max_features=400: 0.0586185419081\n",
    "# Extra Trees, max_features=400, n_estimators=20: 0.0582874082484\n",
    "# Extra Trees, max_features=700: 0.0591231265325\n",
    "# Extra Trees, max_features=1000, n_jobs=-1, random_state=1: 0.0587289197947\n",
    "# Extra Trees, max_features=1500, n_jobs=-1, random_state=1: 0.0560088826335\n",
    "# Extra Trees, max_features=2500, n_jobs=-1, random_state=1: 0.0558354488247\n",
    "# Extra Trees, max_features=2500, n_estimators=20, n_jobs=-1, random_state=1: 0.0560798378573\n",
    "# Extra Trees, max_features=None, n_jobs=-1, random_state=1: 0.0557408324323 (0.94658)\n",
    "# Extra Trees, n_jobs: -1, min_samples_leaf: 2, n_estimators: 97,\n",
    "#                                  min_samples_split: 2, random_state: 1,\n",
    "#                                  max_features: 2551, max_depth: None: 0.0576172547022\n",
    "# Extra Trees, n_jobs=-1, min_samples_leaf=1, n_estimators=40,\n",
    "#                                  min_samples_split=3, random_state=1,\n",
    "#                                  max_features=1743, max_depth=None: 0.0544951412539\n",
    "# Random Forest, default, random_state=1: 0.0604555488096\n",
    "# Random Forest, max_features=200: 0.0577512973628\n",
    "# Random Forest, n_jobs=-1, min_samples_leaf=1, n_estimators=77,\n",
    "#                                    min_samples_split=2, random_state=1, max_features=771,\n",
    "#                                    max_depth=None: 0.0534938540261\n",
    "# Random Forest: n_jobs=-1, min_samples_leaf=1, n_estimators=71,\n",
    "#                                    min_samples_split=4, random_state=1, max_features=1148,\n",
    "#                                    max_depth=None: 0.054361106674\n",
    "# Random Forest: n_jobs=-1, min_samples_leaf=1, n_estimators=50,\n",
    "#                                    min_samples_split=4, random_state=1, max_features=966,\n",
    "#                                    max_depth=None: 0.054250737614\n",
    "# Logistic: 0.106388517105\n",
    "# Logistic, penalty='l2', C=4, n_jobs=-1: 0.106625055755\n",
    "# Logistic, penalty='l1', C=0.9029677391429398, n_jobs=-1: 0.106506785964\n",
    "# Bagging, max_features=0.07, random_state=1: 0.130285290212\n",
    "# Bagging, max_features=0.20, random_state=1: 0.0653121753236\n",
    "# Bagging, max_features=0.50, random_state=1: 0.0560640870545\n",
    "# Bagging, max_features=0.75, random_state=1: 0.0568524849905"
   ]
  },
  {
   "cell_type": "code",
   "execution_count": 10,
   "metadata": {
    "collapsed": true
   },
   "outputs": [],
   "source": [
    "# model = AdaBoostClassifier(n_estimators=200, learning_rate=0.5).fit(train_data_combo, train_labels)\n",
    "model = RandomForestClassifier(n_jobs=-1, min_samples_leaf=1, n_estimators=77,\n",
    "                                   min_samples_split=2, random_state=1, max_features=771,\n",
    "                                   max_depth=None).fit(train_data_combo, train_labels)\n",
    "preds = model.predict(test_data_combo)\n",
    "\n",
    "with open('results/20160413(rf).csv', 'w', newline='') as f:\n",
    "    writer = csv.writer(f)\n",
    "    writer.writerow((\"Id\",\"Prediction\"))\n",
    "    writer.writerows(zip(range(1,len(preds)+1), preds))"
   ]
  },
  {
   "cell_type": "markdown",
   "metadata": {},
   "source": [
    "## Ignoring two large columns\n",
    "\n",
    "Columns 23 and 58 contibute 3,031 and 2,090 categories/columns (total 5,121). Removing them should make training a lot easier for some methods."
   ]
  },
  {
   "cell_type": "code",
   "execution_count": 15,
   "metadata": {
    "collapsed": true
   },
   "outputs": [],
   "source": [
    "# all_data['23'].cat.categories\n",
    "# all_data['58'].cat.categories\n",
    "categorical_columns_tiny = ['0','5','7','8','9','14','16','17','18','20','25','26','56','57']\n",
    "\n",
    "all_data_cat_tiny = pd.get_dummies(all_data[categorical_columns_tiny])\n",
    "train_data_cat_tiny = all_data_cat_tiny.iloc[0:train_obs,]\n",
    "test_data_cat_tiny = all_data_cat_tiny.iloc[train_obs:,]\n",
    "\n",
    "train_data_combo_tiny = pd.concat([train_data_num, train_data_cat_tiny], axis=1)\n",
    "test_data_combo_tiny = pd.concat([test_data_num, test_data_cat_tiny], axis=1)"
   ]
  },
  {
   "cell_type": "code",
   "execution_count": 35,
   "metadata": {
    "collapsed": false
   },
   "outputs": [
    {
     "name": "stdout",
     "output_type": "stream",
     "text": [
      "Starting fold #1\n",
      " Fold error (#1): 0.05845947650583416\n",
      "Starting fold #2\n",
      " Fold error (#2): 0.05905077262693159\n",
      "Starting fold #3\n",
      " Fold error (#3): 0.059486734734103375\n",
      "Starting fold #4\n",
      " Fold error (#4): 0.05649071628493707\n",
      "Starting fold #5\n",
      " Fold error (#5): 0.058304095872590334\n",
      "0.0583583592049\n"
     ]
    }
   ],
   "source": [
    "random.seed(1)\n",
    "n_folds = 5\n",
    "num_train = len(train_data_combo_tiny)\n",
    "indices = random.sample(range(num_train), num_train)\n",
    "cv_folds = np.array_split(indices, n_folds)\n",
    "\n",
    "cv_errors = []\n",
    "for i, fold in enumerate(cv_folds):\n",
    "    cv_train_index = np.setxor1d(indices, fold)\n",
    "    cv_test_index = fold\n",
    "    \n",
    "    cv_train_data = train_data_combo_tiny.iloc[cv_train_index,:]\n",
    "    cv_train_labels = train_labels[cv_train_index]\n",
    "\n",
    "    cv_test_data = train_data_combo_tiny.iloc[cv_test_index,:]\n",
    "    cv_test_labels = train_labels[cv_test_index]\n",
    "    \n",
    "    print(\"Starting fold #{}\".format(i+1))\n",
    "#     fold_error = cv_run_neural(cv_train_data, cv_train_labels, cv_test_data, cv_test_labels)\n",
    "#     fold_error = cv_run_knn(cv_train_data, cv_train_labels, cv_test_data, cv_test_labels, 10)\n",
    "    fold_error = cv_run_bag(cv_train_data, cv_train_labels, cv_test_data, cv_test_labels)\n",
    "#     fold_error = cv_run_rf(cv_train_data, cv_train_labels, cv_test_data, cv_test_labels)\n",
    "    print(\" Fold error (#{}): {}\".format(i+1, fold_error))\n",
    "    cv_errors.append(fold_error)\n",
    "\n",
    "print(sum(cv_errors)/float(n_folds))\n",
    "\n",
    "# XGBoost, default: 0.113224072446\n",
    "# kNN, k=1: 0.08194771365\n",
    "# kNN, k=2: 0.0818609774763\n",
    "# kNN, k=5: 0.108130910389\n",
    "# kNN, k=10: 0.124293373591\n",
    "# Bagging, default: 0.0595804119027\n",
    "# Bagging, n_estimators=20: 0.0583583592049"
   ]
  }
 ],
 "metadata": {
  "kernelspec": {
   "display_name": "Python 3",
   "language": "python",
   "name": "python3"
  },
  "language_info": {
   "codemirror_mode": {
    "name": "ipython",
    "version": 3
   },
   "file_extension": ".py",
   "mimetype": "text/x-python",
   "name": "python",
   "nbconvert_exporter": "python",
   "pygments_lexer": "ipython3",
   "version": "3.5.1"
  }
 },
 "nbformat": 4,
 "nbformat_minor": 0
}
