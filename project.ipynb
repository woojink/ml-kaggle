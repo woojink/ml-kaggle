{
 "cells": [
  {
   "cell_type": "markdown",
   "metadata": {},
   "source": [
    "# ML Kaggle Competition"
   ]
  },
  {
   "cell_type": "code",
   "execution_count": 25,
   "metadata": {
    "collapsed": false
   },
   "outputs": [],
   "source": [
    "import csv\n",
    "import numpy as np\n",
    "import pandas as pd\n",
    "import random\n",
    "from sklearn.ensemble import AdaBoostClassifier\n",
    "\n",
    "train = pd.read_csv('data.csv', sep=\",\")\n",
    "train_data = train.iloc[:,:-1]\n",
    "train_labels = train.iloc[:,-1]\n",
    "\n",
    "test_data = pd.read_csv('quiz.csv', sep=\",\")\n",
    "\n",
    "all_data = pd.concat([train_data, test_data])\n",
    "train_obs = len(train_data)\n",
    "test_obs = len(test_data)\n",
    "\n",
    "# Change dtype of categorical columns\n",
    "categorical_columns = ['0','5','7','8','9','14','16','17','18','20','23','25','26','56','57','58']\n",
    "for i in range(0,len(categorical_columns)):\n",
    "    all_data[categorical_columns[i]] = all_data[categorical_columns[i]].astype('category')"
   ]
  },
  {
   "cell_type": "markdown",
   "metadata": {},
   "source": [
    "## Simple prediction with only numerical variables"
   ]
  },
  {
   "cell_type": "code",
   "execution_count": 26,
   "metadata": {
    "collapsed": false
   },
   "outputs": [
    {
     "name": "stdout",
     "output_type": "stream",
     "text": [
      "Starting fold #1\n",
      "Starting fold #2\n",
      "Starting fold #3\n",
      "Starting fold #4\n",
      "Starting fold #5\n",
      "Starting fold #6\n",
      "Starting fold #7\n",
      "Starting fold #8\n",
      "Starting fold #9\n",
      "Starting fold #10\n",
      "0.269290547594\n"
     ]
    }
   ],
   "source": [
    "all_data_num = all_data.drop(categorical_columns, axis=1)\n",
    "train_data_num = all_data_num.iloc[0:train_obs,]\n",
    "test_data_num = all_data_num.iloc[train_obs:,]\n",
    "\n",
    "def cv_run(train_data, train_labels, test_data, test_labels):    \n",
    "    model = AdaBoostClassifier().fit(train_data, train_labels)\n",
    "    preds = model.predict(test_data)\n",
    "    error = 1 - sum(preds == test_labels)/float(len(test_labels))\n",
    "    \n",
    "    return error\n",
    "\n",
    "num_train = len(train_data_num)\n",
    "indices = random.sample(range(num_train), num_train)\n",
    "cv_folds = np.array_split(indices, 10)\n",
    "\n",
    "cv_error = 0\n",
    "for i, fold in enumerate(cv_folds):\n",
    "    cv_train_index = np.setxor1d(indices, fold)\n",
    "    cv_test_index = fold\n",
    "    \n",
    "    cv_train_data = train_data_num.iloc[cv_train_index,:]\n",
    "    cv_train_labels = train_labels[cv_train_index]\n",
    "\n",
    "    cv_test_data = train_data_num.iloc[cv_test_index,:]\n",
    "    cv_test_labels = train_labels[cv_test_index]\n",
    "    \n",
    "    print(\"Starting fold #{}\".format(i+1))\n",
    "    fold_error = cv_run(cv_train_data, cv_train_labels, cv_test_data, cv_test_labels)\n",
    "    cv_error = cv_error + fold_error\n",
    "\n",
    "cv_error = cv_error/float(10)\n",
    "print(cv_error)\n",
    "\n",
    "model = AdaBoostClassifier().fit(train_data_num, train_labels)\n",
    "preds = model.predict(test_data_num)\n",
    "\n",
    "# with open('simple_results.csv', 'w', newline='') as f:\n",
    "#     writer = csv.writer(f)\n",
    "#     writer.writerow((\"Id\",\"Prediction\"))\n",
    "#     writer.writerows(zip(range(1,len(preds)+1), preds))"
   ]
  },
  {
   "cell_type": "markdown",
   "metadata": {},
   "source": [
    "## Incorporating Categorical Variable with One Hot Encoding"
   ]
  },
  {
   "cell_type": "code",
   "execution_count": 27,
   "metadata": {
    "collapsed": true
   },
   "outputs": [],
   "source": [
    "all_data_cat = pd.get_dummies(all_data[categorical_columns])\n",
    "train_data_cat = all_data_cat.iloc[0:train_obs,]\n",
    "test_data_cat = all_data_cat.iloc[train_obs:,]"
   ]
  },
  {
   "cell_type": "code",
   "execution_count": 30,
   "metadata": {
    "collapsed": false
   },
   "outputs": [],
   "source": [
    "train_data_combo = pd.concat([train_data_num, train_data_cat], axis=1)\n",
    "test_data_combo = pd.concat([test_data_num, test_data_cat], axis=1)"
   ]
  },
  {
   "cell_type": "code",
   "execution_count": 35,
   "metadata": {
    "collapsed": false
   },
   "outputs": [
    {
     "name": "stdout",
     "output_type": "stream",
     "text": [
      "Starting fold #1\n",
      "Starting fold #2\n",
      "Starting fold #3\n",
      "Starting fold #4\n",
      "Starting fold #5\n",
      "0.128519289526\n"
     ]
    }
   ],
   "source": [
    "def cv_run(train_data, train_labels, test_data, test_labels):    \n",
    "    model = AdaBoostClassifier().fit(train_data, train_labels)\n",
    "    preds = model.predict(test_data)\n",
    "    error = 1 - sum(preds == test_labels)/float(len(test_labels))\n",
    "    \n",
    "    return error\n",
    "\n",
    "n_folds = 5\n",
    "num_train = len(train_data_combo)\n",
    "indices = random.sample(range(num_train), num_train)\n",
    "cv_folds = np.array_split(indices, n_folds)\n",
    "\n",
    "cv_error = 0\n",
    "for i, fold in enumerate(cv_folds):\n",
    "    cv_train_index = np.setxor1d(indices, fold)\n",
    "    cv_test_index = fold\n",
    "    \n",
    "    cv_train_data = train_data_combo.iloc[cv_train_index,:]\n",
    "    cv_train_labels = train_labels[cv_train_index]\n",
    "\n",
    "    cv_test_data = train_data_combo.iloc[cv_test_index,:]\n",
    "    cv_test_labels = train_labels[cv_test_index]\n",
    "    \n",
    "    print(\"Starting fold #{}\".format(i+1))\n",
    "    fold_error = cv_run(cv_train_data, cv_train_labels, cv_test_data, cv_test_labels)\n",
    "    cv_error = cv_error + fold_error\n",
    "\n",
    "cv_error = cv_error/float(n_folds)\n",
    "print(cv_error)"
   ]
  },
  {
   "cell_type": "code",
   "execution_count": 36,
   "metadata": {
    "collapsed": true
   },
   "outputs": [],
   "source": [
    "model = AdaBoostClassifier().fit(train_data_combo, train_labels)\n",
    "preds = model.predict(test_data_combo)\n",
    "\n",
    "with open('expanded_results.csv', 'w', newline='') as f:\n",
    "    writer = csv.writer(f)\n",
    "    writer.writerow((\"Id\",\"Prediction\"))\n",
    "    writer.writerows(zip(range(1,len(preds)+1), preds))"
   ]
  },
  {
   "cell_type": "code",
   "execution_count": null,
   "metadata": {
    "collapsed": true
   },
   "outputs": [],
   "source": []
  }
 ],
 "metadata": {
  "kernelspec": {
   "display_name": "Python 3",
   "language": "python",
   "name": "python3"
  },
  "language_info": {
   "codemirror_mode": {
    "name": "ipython",
    "version": 3
   },
   "file_extension": ".py",
   "mimetype": "text/x-python",
   "name": "python",
   "nbconvert_exporter": "python",
   "pygments_lexer": "ipython3",
   "version": "3.5.1"
  }
 },
 "nbformat": 4,
 "nbformat_minor": 0
}
