{
 "cells": [
  {
   "cell_type": "code",
   "execution_count": 1,
   "metadata": {
    "collapsed": false
   },
   "outputs": [],
   "source": [
    "import csv\n",
    "import numpy as np\n",
    "import pandas as pd\n",
    "import random\n",
    "\n",
    "from scipy.stats import randint as sp_randint\n",
    "from sklearn.model_selection import GridSearchCV, RandomizedSearchCV, train_test_split\n",
    "from sklearn.ensemble import AdaBoostClassifier, BaggingClassifier, ExtraTreesClassifier, RandomForestClassifier, GradientBoostingClassifier\n",
    "from sklearn.linear_model import LogisticRegression, SGDClassifier\n",
    "from sklearn.naive_bayes import GaussianNB, MultinomialNB\n",
    "from sklearn.neighbors import KNeighborsClassifier"
   ]
  },
  {
   "cell_type": "code",
   "execution_count": 2,
   "metadata": {
    "collapsed": false
   },
   "outputs": [
    {
     "name": "stderr",
     "output_type": "stream",
     "text": [
      "/usr/local/lib/python2.7/site-packages/ipykernel/__main__.py:25: SettingWithCopyWarning: \n",
      "A value is trying to be set on a copy of a slice from a DataFrame.\n",
      "Try using .loc[row_indexer,col_indexer] = value instead\n",
      "\n",
      "See the caveats in the documentation: http://pandas.pydata.org/pandas-docs/stable/indexing.html#indexing-view-versus-copy\n",
      "/usr/local/lib/python2.7/site-packages/ipykernel/__main__.py:26: SettingWithCopyWarning: \n",
      "A value is trying to be set on a copy of a slice from a DataFrame.\n",
      "Try using .loc[row_indexer,col_indexer] = value instead\n",
      "\n",
      "See the caveats in the documentation: http://pandas.pydata.org/pandas-docs/stable/indexing.html#indexing-view-versus-copy\n",
      "/usr/local/lib/python2.7/site-packages/ipykernel/__main__.py:27: SettingWithCopyWarning: \n",
      "A value is trying to be set on a copy of a slice from a DataFrame.\n",
      "Try using .loc[row_indexer,col_indexer] = value instead\n",
      "\n",
      "See the caveats in the documentation: http://pandas.pydata.org/pandas-docs/stable/indexing.html#indexing-view-versus-copy\n"
     ]
    },
    {
     "name": "stdout",
     "output_type": "stream",
     "text": [
      "Processing numerical data...\n",
      "Processing categorical data...\n",
      "Combining data...\n",
      "Processing finished!\n"
     ]
    },
    {
     "name": "stderr",
     "output_type": "stream",
     "text": [
      "/usr/local/lib/python2.7/site-packages/ipykernel/__main__.py:28: SettingWithCopyWarning: \n",
      "A value is trying to be set on a copy of a slice from a DataFrame.\n",
      "Try using .loc[row_indexer,col_indexer] = value instead\n",
      "\n",
      "See the caveats in the documentation: http://pandas.pydata.org/pandas-docs/stable/indexing.html#indexing-view-versus-copy\n"
     ]
    }
   ],
   "source": [
    "train = pd.read_csv('data.csv', sep=\",\")\n",
    "test_data = pd.read_csv('quiz.csv', sep=\",\")\n",
    "\n",
    "train_data = train.iloc[:,:-1]\n",
    "train_labels = train.iloc[:,-1]\n",
    "\n",
    "train_data, holdout_data, train_labels, holdout_label = train_test_split(train_data, train_labels, \n",
    "                                                                         test_size=0.2, random_state=1)\n",
    "all_data = pd.concat([train_data, test_data])\n",
    "train_obs = len(train_data)\n",
    "test_obs = len(test_data)\n",
    "\n",
    "# Change dtype of categorical columns\n",
    "categorical_columns = ['0','5','7','8','9','14','16','17','18','20','23','25','26','56','57','58']\n",
    "for i in range(0,len(categorical_columns)):\n",
    "    all_data[categorical_columns[i]] = all_data[categorical_columns[i]].astype('category')\n",
    "    \n",
    "# Only numerical data\n",
    "print('Processing numerical data...')\n",
    "all_data_num = all_data.drop(categorical_columns, axis=1)\n",
    "train_data_num = all_data_num.iloc[0:train_obs,]\n",
    "test_data_num = all_data_num.iloc[train_obs:,]\n",
    "\n",
    "## Feature engineering\n",
    "train_data_num['div'] = (train_data_num.loc[:,'60'] / train_data_num.loc[:,'59'])\n",
    "train_data_num['div'] = train_data_num['div'].fillna(0)\n",
    "test_data_num['div'] = (test_data_num.loc[:,'60'] / test_data_num.loc[:,'59'])\n",
    "test_data_num['div'] = test_data_num['div'].fillna(0)\n",
    "\n",
    "# Only categorical data\n",
    "print('Processing categorical data...')\n",
    "all_data_cat = pd.get_dummies(all_data[categorical_columns])\n",
    "train_data_cat = all_data_cat.iloc[0:train_obs,]\n",
    "test_data_cat = all_data_cat.iloc[train_obs:,]\n",
    "\n",
    "# Combine the two\n",
    "print('Combining data...')\n",
    "train_data_combo = pd.concat([train_data_num, train_data_cat], axis=1)\n",
    "test_data_combo = pd.concat([test_data_num, test_data_cat], axis=1)\n",
    "\n",
    "print('Processing finished!')"
   ]
  },
  {
   "cell_type": "code",
   "execution_count": 4,
   "metadata": {
    "collapsed": false
   },
   "outputs": [
    {
     "name": "stdout",
     "output_type": "stream",
     "text": [
      "Fitting 3 folds for each of 30 candidates, totalling 90 fits\n",
      "[CV] n_jobs=-1, min_samples_leaf=2, n_estimators=53, min_samples_split=2, random_state=1, max_features=2183, max_depth=None \n",
      "[CV]  n_jobs=-1, min_samples_leaf=2, n_estimators=53, min_samples_split=2, random_state=1, max_features=2183, max_depth=None, score=0.937382 - 2.2min\n",
      "[CV] n_jobs=-1, min_samples_leaf=2, n_estimators=53, min_samples_split=2, random_state=1, max_features=2183, max_depth=None \n",
      "[CV]  n_jobs=-1, min_samples_leaf=2, n_estimators=53, min_samples_split=2, random_state=1, max_features=2183, max_depth=None, score=0.938976 - 2.0min\n",
      "[CV] n_jobs=-1, min_samples_leaf=2, n_estimators=53, min_samples_split=2, random_state=1, max_features=2183, max_depth=None \n",
      "[CV]  n_jobs=-1, min_samples_leaf=2, n_estimators=53, min_samples_split=2, random_state=1, max_features=2183, max_depth=None, score=0.940423 - 2.0min\n",
      "[CV] n_jobs=-1, min_samples_leaf=1, n_estimators=43, min_samples_split=4, random_state=1, max_features=2962, max_depth=None \n",
      "[CV]  n_jobs=-1, min_samples_leaf=1, n_estimators=43, min_samples_split=4, random_state=1, max_features=2962, max_depth=None, score=0.938771 - 2.4min\n",
      "[CV] n_jobs=-1, min_samples_leaf=1, n_estimators=43, min_samples_split=4, random_state=1, max_features=2962, max_depth=None \n",
      "[CV]  n_jobs=-1, min_samples_leaf=1, n_estimators=43, min_samples_split=4, random_state=1, max_features=2962, max_depth=None, score=0.939449 - 2.3min\n",
      "[CV] n_jobs=-1, min_samples_leaf=1, n_estimators=43, min_samples_split=4, random_state=1, max_features=2962, max_depth=None \n",
      "[CV]  n_jobs=-1, min_samples_leaf=1, n_estimators=43, min_samples_split=4, random_state=1, max_features=2962, max_depth=None, score=0.940689 - 2.3min\n",
      "[CV] n_jobs=-1, min_samples_leaf=4, n_estimators=76, min_samples_split=4, random_state=1, max_features=1201, max_depth=None \n",
      "[CV]  n_jobs=-1, min_samples_leaf=4, n_estimators=76, min_samples_split=4, random_state=1, max_features=1201, max_depth=None, score=0.934277 - 1.7min\n",
      "[CV] n_jobs=-1, min_samples_leaf=4, n_estimators=76, min_samples_split=4, random_state=1, max_features=1201, max_depth=None \n",
      "[CV]  n_jobs=-1, min_samples_leaf=4, n_estimators=76, min_samples_split=4, random_state=1, max_features=1201, max_depth=None, score=0.935251 - 1.7min\n",
      "[CV] n_jobs=-1, min_samples_leaf=4, n_estimators=76, min_samples_split=4, random_state=1, max_features=1201, max_depth=None \n",
      "[CV]  n_jobs=-1, min_samples_leaf=4, n_estimators=76, min_samples_split=4, random_state=1, max_features=1201, max_depth=None, score=0.936609 - 1.7min\n",
      "[CV] n_jobs=-1, min_samples_leaf=2, n_estimators=97, min_samples_split=4, random_state=1, max_features=913, max_depth=None \n",
      "[CV]  n_jobs=-1, min_samples_leaf=2, n_estimators=97, min_samples_split=4, random_state=1, max_features=913, max_depth=None, score=0.939481 - 2.0min\n",
      "[CV] n_jobs=-1, min_samples_leaf=2, n_estimators=97, min_samples_split=4, random_state=1, max_features=913, max_depth=None \n",
      "[CV]  n_jobs=-1, min_samples_leaf=2, n_estimators=97, min_samples_split=4, random_state=1, max_features=913, max_depth=None, score=0.939627 - 2.0min\n",
      "[CV] n_jobs=-1, min_samples_leaf=2, n_estimators=97, min_samples_split=4, random_state=1, max_features=913, max_depth=None \n",
      "[CV]  n_jobs=-1, min_samples_leaf=2, n_estimators=97, min_samples_split=4, random_state=1, max_features=913, max_depth=None, score=0.941340 - 2.0min\n",
      "[CV] n_jobs=-1, min_samples_leaf=2, n_estimators=99, min_samples_split=3, random_state=1, max_features=1950, max_depth=None \n",
      "[CV]  n_jobs=-1, min_samples_leaf=2, n_estimators=99, min_samples_split=3, random_state=1, max_features=1950, max_depth=None, score=0.938712 - 3.2min\n",
      "[CV] n_jobs=-1, min_samples_leaf=2, n_estimators=99, min_samples_split=3, random_state=1, max_features=1950, max_depth=None \n",
      "[CV]  n_jobs=-1, min_samples_leaf=2, n_estimators=99, min_samples_split=3, random_state=1, max_features=1950, max_depth=None, score=0.939065 - 3.2min\n",
      "[CV] n_jobs=-1, min_samples_leaf=2, n_estimators=99, min_samples_split=3, random_state=1, max_features=1950, max_depth=None \n",
      "[CV]  n_jobs=-1, min_samples_leaf=2, n_estimators=99, min_samples_split=3, random_state=1, max_features=1950, max_depth=None, score=0.941340 - 3.2min\n",
      "[CV] n_jobs=-1, min_samples_leaf=4, n_estimators=44, min_samples_split=2, random_state=1, max_features=1712, max_depth=None \n",
      "[CV]  n_jobs=-1, min_samples_leaf=4, n_estimators=44, min_samples_split=2, random_state=1, max_features=1712, max_depth=None, score=0.934337 - 1.3min\n",
      "[CV] n_jobs=-1, min_samples_leaf=4, n_estimators=44, min_samples_split=2, random_state=1, max_features=1712, max_depth=None \n",
      "[CV]  n_jobs=-1, min_samples_leaf=4, n_estimators=44, min_samples_split=2, random_state=1, max_features=1712, max_depth=None, score=0.934275 - 1.3min\n",
      "[CV] n_jobs=-1, min_samples_leaf=4, n_estimators=44, min_samples_split=2, random_state=1, max_features=1712, max_depth=None \n",
      "[CV]  n_jobs=-1, min_samples_leaf=4, n_estimators=44, min_samples_split=2, random_state=1, max_features=1712, max_depth=None, score=0.936225 - 1.3min\n",
      "[CV] n_jobs=-1, min_samples_leaf=2, n_estimators=66, min_samples_split=3, random_state=1, max_features=2803, max_depth=None \n",
      "[CV]  n_jobs=-1, min_samples_leaf=2, n_estimators=66, min_samples_split=3, random_state=1, max_features=2803, max_depth=None, score=0.937648 - 3.0min\n",
      "[CV] n_jobs=-1, min_samples_leaf=2, n_estimators=66, min_samples_split=3, random_state=1, max_features=2803, max_depth=None \n",
      "[CV]  n_jobs=-1, min_samples_leaf=2, n_estimators=66, min_samples_split=3, random_state=1, max_features=2803, max_depth=None, score=0.938740 - 2.9min\n",
      "[CV] n_jobs=-1, min_samples_leaf=2, n_estimators=66, min_samples_split=3, random_state=1, max_features=2803, max_depth=None \n",
      "[CV]  n_jobs=-1, min_samples_leaf=2, n_estimators=66, min_samples_split=3, random_state=1, max_features=2803, max_depth=None, score=0.940719 - 2.9min\n",
      "[CV] n_jobs=-1, min_samples_leaf=1, n_estimators=40, min_samples_split=2, random_state=1, max_features=1709, max_depth=None \n",
      "[CV]  n_jobs=-1, min_samples_leaf=1, n_estimators=40, min_samples_split=2, random_state=1, max_features=1709, max_depth=None, score=0.940338 - 1.5min\n",
      "[CV] n_jobs=-1, min_samples_leaf=1, n_estimators=40, min_samples_split=2, random_state=1, max_features=1709, max_depth=None \n",
      "[CV]  n_jobs=-1, min_samples_leaf=1, n_estimators=40, min_samples_split=2, random_state=1, max_features=1709, max_depth=None, score=0.940455 - 1.5min\n",
      "[CV] n_jobs=-1, min_samples_leaf=1, n_estimators=40, min_samples_split=2, random_state=1, max_features=1709, max_depth=None \n",
      "[CV]  n_jobs=-1, min_samples_leaf=1, n_estimators=40, min_samples_split=2, random_state=1, max_features=1709, max_depth=None, score=0.942138 - 1.4min\n",
      "[CV] n_jobs=-1, min_samples_leaf=1, n_estimators=88, min_samples_split=3, random_state=1, max_features=2427, max_depth=None \n",
      "[CV]  n_jobs=-1, min_samples_leaf=1, n_estimators=88, min_samples_split=3, random_state=1, max_features=2427, max_depth=None, score=0.940250 - 3.8min\n",
      "[CV] n_jobs=-1, min_samples_leaf=1, n_estimators=88, min_samples_split=3, random_state=1, max_features=2427, max_depth=None \n",
      "[CV]  n_jobs=-1, min_samples_leaf=1, n_estimators=88, min_samples_split=3, random_state=1, max_features=2427, max_depth=None, score=0.939834 - 3.8min\n",
      "[CV] n_jobs=-1, min_samples_leaf=1, n_estimators=88, min_samples_split=3, random_state=1, max_features=2427, max_depth=None \n",
      "[CV]  n_jobs=-1, min_samples_leaf=1, n_estimators=88, min_samples_split=3, random_state=1, max_features=2427, max_depth=None, score=0.941872 - 3.7min\n",
      "[CV] n_jobs=-1, min_samples_leaf=3, n_estimators=77, min_samples_split=3, random_state=1, max_features=1621, max_depth=None \n",
      "[CV]  n_jobs=-1, min_samples_leaf=3, n_estimators=77, min_samples_split=3, random_state=1, max_features=1621, max_depth=None, score=0.937057 - 2.1min\n",
      "[CV] n_jobs=-1, min_samples_leaf=3, n_estimators=77, min_samples_split=3, random_state=1, max_features=1621, max_depth=None \n",
      "[CV]  n_jobs=-1, min_samples_leaf=3, n_estimators=77, min_samples_split=3, random_state=1, max_features=1621, max_depth=None, score=0.937498 - 2.2min\n",
      "[CV] n_jobs=-1, min_samples_leaf=3, n_estimators=77, min_samples_split=3, random_state=1, max_features=1621, max_depth=None \n",
      "[CV]  n_jobs=-1, min_samples_leaf=3, n_estimators=77, min_samples_split=3, random_state=1, max_features=1621, max_depth=None, score=0.939300 - 2.1min\n",
      "[CV] n_jobs=-1, min_samples_leaf=1, n_estimators=55, min_samples_split=3, random_state=1, max_features=2968, max_depth=None \n",
      "[CV]  n_jobs=-1, min_samples_leaf=1, n_estimators=55, min_samples_split=3, random_state=1, max_features=2968, max_depth=None, score=0.939067 - 2.9min\n",
      "[CV] n_jobs=-1, min_samples_leaf=1, n_estimators=55, min_samples_split=3, random_state=1, max_features=2968, max_depth=None \n",
      "[CV]  n_jobs=-1, min_samples_leaf=1, n_estimators=55, min_samples_split=3, random_state=1, max_features=2968, max_depth=None, score=0.940632 - 2.9min\n",
      "[CV] n_jobs=-1, min_samples_leaf=1, n_estimators=55, min_samples_split=3, random_state=1, max_features=2968, max_depth=None \n",
      "[CV]  n_jobs=-1, min_samples_leaf=1, n_estimators=55, min_samples_split=3, random_state=1, max_features=2968, max_depth=None, score=0.940867 - 2.9min\n",
      "[CV] n_jobs=-1, min_samples_leaf=4, n_estimators=71, min_samples_split=3, random_state=1, max_features=1342, max_depth=None \n",
      "[CV]  n_jobs=-1, min_samples_leaf=4, n_estimators=71, min_samples_split=3, random_state=1, max_features=1342, max_depth=None, score=0.935105 - 1.7min\n",
      "[CV] n_jobs=-1, min_samples_leaf=4, n_estimators=71, min_samples_split=3, random_state=1, max_features=1342, max_depth=None \n",
      "[CV]  n_jobs=-1, min_samples_leaf=4, n_estimators=71, min_samples_split=3, random_state=1, max_features=1342, max_depth=None, score=0.934157 - 1.7min\n",
      "[CV] n_jobs=-1, min_samples_leaf=4, n_estimators=71, min_samples_split=3, random_state=1, max_features=1342, max_depth=None \n",
      "[CV]  n_jobs=-1, min_samples_leaf=4, n_estimators=71, min_samples_split=3, random_state=1, max_features=1342, max_depth=None, score=0.936994 - 1.7min\n",
      "[CV] n_jobs=-1, min_samples_leaf=1, n_estimators=81, min_samples_split=3, random_state=1, max_features=1801, max_depth=None \n",
      "[CV]  n_jobs=-1, min_samples_leaf=1, n_estimators=81, min_samples_split=3, random_state=1, max_features=1801, max_depth=None, score=0.940220 - 2.8min\n",
      "[CV] n_jobs=-1, min_samples_leaf=1, n_estimators=81, min_samples_split=3, random_state=1, max_features=1801, max_depth=None \n",
      "[CV]  n_jobs=-1, min_samples_leaf=1, n_estimators=81, min_samples_split=3, random_state=1, max_features=1801, max_depth=None, score=0.940662 - 2.8min\n",
      "[CV] n_jobs=-1, min_samples_leaf=1, n_estimators=81, min_samples_split=3, random_state=1, max_features=1801, max_depth=None \n",
      "[CV]  n_jobs=-1, min_samples_leaf=1, n_estimators=81, min_samples_split=3, random_state=1, max_features=1801, max_depth=None, score=0.942345 - 2.8min\n",
      "[CV] n_jobs=-1, min_samples_leaf=1, n_estimators=62, min_samples_split=4, random_state=1, max_features=1648, max_depth=None \n",
      "[CV]  n_jobs=-1, min_samples_leaf=1, n_estimators=62, min_samples_split=4, random_state=1, max_features=1648, max_depth=None, score=0.940161 - 2.1min\n",
      "[CV] n_jobs=-1, min_samples_leaf=1, n_estimators=62, min_samples_split=4, random_state=1, max_features=1648, max_depth=None \n",
      "[CV]  n_jobs=-1, min_samples_leaf=1, n_estimators=62, min_samples_split=4, random_state=1, max_features=1648, max_depth=None, score=0.940632 - 2.1min\n",
      "[CV] n_jobs=-1, min_samples_leaf=1, n_estimators=62, min_samples_split=4, random_state=1, max_features=1648, max_depth=None \n",
      "[CV]  n_jobs=-1, min_samples_leaf=1, n_estimators=62, min_samples_split=4, random_state=1, max_features=1648, max_depth=None, score=0.942345 - 2.0min\n",
      "[CV] n_jobs=-1, min_samples_leaf=1, n_estimators=47, min_samples_split=3, random_state=1, max_features=2452, max_depth=None \n",
      "[CV]  n_jobs=-1, min_samples_leaf=1, n_estimators=47, min_samples_split=3, random_state=1, max_features=2452, max_depth=None, score=0.939983 - 2.2min\n",
      "[CV] n_jobs=-1, min_samples_leaf=1, n_estimators=47, min_samples_split=3, random_state=1, max_features=2452, max_depth=None \n",
      "[CV]  n_jobs=-1, min_samples_leaf=1, n_estimators=47, min_samples_split=3, random_state=1, max_features=2452, max_depth=None, score=0.940277 - 2.2min\n",
      "[CV] n_jobs=-1, min_samples_leaf=1, n_estimators=47, min_samples_split=3, random_state=1, max_features=2452, max_depth=None \n",
      "[CV]  n_jobs=-1, min_samples_leaf=1, n_estimators=47, min_samples_split=3, random_state=1, max_features=2452, max_depth=None, score=0.941133 - 2.1min\n",
      "[CV] n_jobs=-1, min_samples_leaf=3, n_estimators=85, min_samples_split=2, random_state=1, max_features=1825, max_depth=None \n",
      "[CV]  n_jobs=-1, min_samples_leaf=3, n_estimators=85, min_samples_split=2, random_state=1, max_features=1825, max_depth=None, score=0.936081 - 2.5min\n",
      "[CV] n_jobs=-1, min_samples_leaf=3, n_estimators=85, min_samples_split=2, random_state=1, max_features=1825, max_depth=None \n",
      "[CV]  n_jobs=-1, min_samples_leaf=3, n_estimators=85, min_samples_split=2, random_state=1, max_features=1825, max_depth=None, score=0.937498 - 2.5min\n",
      "[CV] n_jobs=-1, min_samples_leaf=3, n_estimators=85, min_samples_split=2, random_state=1, max_features=1825, max_depth=None \n",
      "[CV]  n_jobs=-1, min_samples_leaf=3, n_estimators=85, min_samples_split=2, random_state=1, max_features=1825, max_depth=None, score=0.938827 - 2.5min\n",
      "[CV] n_jobs=-1, min_samples_leaf=4, n_estimators=80, min_samples_split=3, random_state=1, max_features=2758, max_depth=None \n",
      "[CV]  n_jobs=-1, min_samples_leaf=4, n_estimators=80, min_samples_split=3, random_state=1, max_features=2758, max_depth=None, score=0.933864 - 3.0min\n",
      "[CV] n_jobs=-1, min_samples_leaf=4, n_estimators=80, min_samples_split=3, random_state=1, max_features=2758, max_depth=None \n",
      "[CV]  n_jobs=-1, min_samples_leaf=4, n_estimators=80, min_samples_split=3, random_state=1, max_features=2758, max_depth=None, score=0.935015 - 3.0min\n",
      "[CV] n_jobs=-1, min_samples_leaf=4, n_estimators=80, min_samples_split=3, random_state=1, max_features=2758, max_depth=None \n",
      "[CV]  n_jobs=-1, min_samples_leaf=4, n_estimators=80, min_samples_split=3, random_state=1, max_features=2758, max_depth=None, score=0.936757 - 3.0min\n",
      "[CV] n_jobs=-1, min_samples_leaf=4, n_estimators=86, min_samples_split=3, random_state=1, max_features=1668, max_depth=None \n",
      "[CV]  n_jobs=-1, min_samples_leaf=4, n_estimators=86, min_samples_split=3, random_state=1, max_features=1668, max_depth=None, score=0.934248 - 2.3min\n",
      "[CV] n_jobs=-1, min_samples_leaf=4, n_estimators=86, min_samples_split=3, random_state=1, max_features=1668, max_depth=None \n",
      "[CV]  n_jobs=-1, min_samples_leaf=4, n_estimators=86, min_samples_split=3, random_state=1, max_features=1668, max_depth=None, score=0.934808 - 2.3min\n",
      "[CV] n_jobs=-1, min_samples_leaf=4, n_estimators=86, min_samples_split=3, random_state=1, max_features=1668, max_depth=None \n",
      "[CV]  n_jobs=-1, min_samples_leaf=4, n_estimators=86, min_samples_split=3, random_state=1, max_features=1668, max_depth=None, score=0.937467 - 2.3min\n",
      "[CV] n_jobs=-1, min_samples_leaf=2, n_estimators=74, min_samples_split=4, random_state=1, max_features=1749, max_depth=None \n",
      "[CV]  n_jobs=-1, min_samples_leaf=2, n_estimators=74, min_samples_split=4, random_state=1, max_features=1749, max_depth=None, score=0.938830 - 2.3min\n",
      "[CV] n_jobs=-1, min_samples_leaf=2, n_estimators=74, min_samples_split=4, random_state=1, max_features=1749, max_depth=None \n",
      "[CV]  n_jobs=-1, min_samples_leaf=2, n_estimators=74, min_samples_split=4, random_state=1, max_features=1749, max_depth=None, score=0.939420 - 2.3min\n",
      "[CV] n_jobs=-1, min_samples_leaf=2, n_estimators=74, min_samples_split=4, random_state=1, max_features=1749, max_depth=None \n",
      "[CV]  n_jobs=-1, min_samples_leaf=2, n_estimators=74, min_samples_split=4, random_state=1, max_features=1749, max_depth=None, score=0.940689 - 2.3min\n",
      "[CV] n_jobs=-1, min_samples_leaf=3, n_estimators=62, min_samples_split=3, random_state=1, max_features=2738, max_depth=None \n",
      "[CV]  n_jobs=-1, min_samples_leaf=3, n_estimators=62, min_samples_split=3, random_state=1, max_features=2738, max_depth=None, score=0.935667 - 2.5min\n",
      "[CV] n_jobs=-1, min_samples_leaf=3, n_estimators=62, min_samples_split=3, random_state=1, max_features=2738, max_depth=None \n",
      "[CV]  n_jobs=-1, min_samples_leaf=3, n_estimators=62, min_samples_split=3, random_state=1, max_features=2738, max_depth=None, score=0.937025 - 2.5min\n",
      "[CV] n_jobs=-1, min_samples_leaf=3, n_estimators=62, min_samples_split=3, random_state=1, max_features=2738, max_depth=None \n",
      "[CV]  n_jobs=-1, min_samples_leaf=3, n_estimators=62, min_samples_split=3, random_state=1, max_features=2738, max_depth=None, score=0.939625 - 2.5min\n",
      "[CV] n_jobs=-1, min_samples_leaf=1, n_estimators=66, min_samples_split=3, random_state=1, max_features=783, max_depth=None \n",
      "[CV]  n_jobs=-1, min_samples_leaf=1, n_estimators=66, min_samples_split=3, random_state=1, max_features=783, max_depth=None, score=0.941639 - 1.4min\n",
      "[CV] n_jobs=-1, min_samples_leaf=1, n_estimators=66, min_samples_split=3, random_state=1, max_features=783, max_depth=None \n",
      "[CV]  n_jobs=-1, min_samples_leaf=1, n_estimators=66, min_samples_split=3, random_state=1, max_features=783, max_depth=None, score=0.941519 - 1.5min\n",
      "[CV] n_jobs=-1, min_samples_leaf=1, n_estimators=66, min_samples_split=3, random_state=1, max_features=783, max_depth=None \n",
      "[CV]  n_jobs=-1, min_samples_leaf=1, n_estimators=66, min_samples_split=3, random_state=1, max_features=783, max_depth=None, score=0.943291 - 1.4min\n",
      "[CV] n_jobs=-1, min_samples_leaf=3, n_estimators=47, min_samples_split=2, random_state=1, max_features=2686, max_depth=None \n",
      "[CV]  n_jobs=-1, min_samples_leaf=3, n_estimators=47, min_samples_split=2, random_state=1, max_features=2686, max_depth=None, score=0.935430 - 1.9min\n",
      "[CV] n_jobs=-1, min_samples_leaf=3, n_estimators=47, min_samples_split=2, random_state=1, max_features=2686, max_depth=None \n",
      "[CV]  n_jobs=-1, min_samples_leaf=3, n_estimators=47, min_samples_split=2, random_state=1, max_features=2686, max_depth=None, score=0.936227 - 1.9min\n",
      "[CV] n_jobs=-1, min_samples_leaf=3, n_estimators=47, min_samples_split=2, random_state=1, max_features=2686, max_depth=None \n",
      "[CV]  n_jobs=-1, min_samples_leaf=3, n_estimators=47, min_samples_split=2, random_state=1, max_features=2686, max_depth=None, score=0.937289 - 1.9min\n",
      "[CV] n_jobs=-1, min_samples_leaf=4, n_estimators=56, min_samples_split=4, random_state=1, max_features=2246, max_depth=None \n",
      "[CV]  n_jobs=-1, min_samples_leaf=4, n_estimators=56, min_samples_split=4, random_state=1, max_features=2246, max_depth=None, score=0.934248 - 1.9min\n",
      "[CV] n_jobs=-1, min_samples_leaf=4, n_estimators=56, min_samples_split=4, random_state=1, max_features=2246, max_depth=None \n",
      "[CV]  n_jobs=-1, min_samples_leaf=4, n_estimators=56, min_samples_split=4, random_state=1, max_features=2246, max_depth=None, score=0.934187 - 1.9min\n",
      "[CV] n_jobs=-1, min_samples_leaf=4, n_estimators=56, min_samples_split=4, random_state=1, max_features=2246, max_depth=None \n",
      "[CV]  n_jobs=-1, min_samples_leaf=4, n_estimators=56, min_samples_split=4, random_state=1, max_features=2246, max_depth=None, score=0.936107 - 1.9min\n",
      "[CV] n_jobs=-1, min_samples_leaf=3, n_estimators=36, min_samples_split=3, random_state=1, max_features=1806, max_depth=None \n",
      "[CV]  n_jobs=-1, min_samples_leaf=3, n_estimators=36, min_samples_split=3, random_state=1, max_features=1806, max_depth=None, score=0.935637 - 1.2min\n",
      "[CV] n_jobs=-1, min_samples_leaf=3, n_estimators=36, min_samples_split=3, random_state=1, max_features=1806, max_depth=None \n",
      "[CV]  n_jobs=-1, min_samples_leaf=3, n_estimators=36, min_samples_split=3, random_state=1, max_features=1806, max_depth=None, score=0.937676 - 1.2min\n",
      "[CV] n_jobs=-1, min_samples_leaf=3, n_estimators=36, min_samples_split=3, random_state=1, max_features=1806, max_depth=None \n",
      "[CV]  n_jobs=-1, min_samples_leaf=3, n_estimators=36, min_samples_split=3, random_state=1, max_features=1806, max_depth=None, score=0.937408 - 1.2min\n",
      "[CV] n_jobs=-1, min_samples_leaf=4, n_estimators=43, min_samples_split=3, random_state=1, max_features=1997, max_depth=None \n",
      "[CV]  n_jobs=-1, min_samples_leaf=4, n_estimators=43, min_samples_split=3, random_state=1, max_features=1997, max_depth=None, score=0.933184 - 1.4min\n",
      "[CV] n_jobs=-1, min_samples_leaf=4, n_estimators=43, min_samples_split=3, random_state=1, max_features=1997, max_depth=None \n",
      "[CV]  n_jobs=-1, min_samples_leaf=4, n_estimators=43, min_samples_split=3, random_state=1, max_features=1997, max_depth=None, score=0.935281 - 1.4min\n",
      "[CV] n_jobs=-1, min_samples_leaf=4, n_estimators=43, min_samples_split=3, random_state=1, max_features=1997, max_depth=None \n",
      "[CV]  n_jobs=-1, min_samples_leaf=4, n_estimators=43, min_samples_split=3, random_state=1, max_features=1997, max_depth=None, score=0.936491 - 1.4min\n",
      "[CV] n_jobs=-1, min_samples_leaf=4, n_estimators=39, min_samples_split=4, random_state=1, max_features=2228, max_depth=None \n",
      "[CV]  n_jobs=-1, min_samples_leaf=4, n_estimators=39, min_samples_split=4, random_state=1, max_features=2228, max_depth=None, score=0.933568 - 1.4min\n",
      "[CV] n_jobs=-1, min_samples_leaf=4, n_estimators=39, min_samples_split=4, random_state=1, max_features=2228, max_depth=None \n",
      "[CV]  n_jobs=-1, min_samples_leaf=4, n_estimators=39, min_samples_split=4, random_state=1, max_features=2228, max_depth=None, score=0.933802 - 1.4min\n",
      "[CV] n_jobs=-1, min_samples_leaf=4, n_estimators=39, min_samples_split=4, random_state=1, max_features=2228, max_depth=None \n",
      "[CV]  n_jobs=-1, min_samples_leaf=4, n_estimators=39, min_samples_split=4, random_state=1, max_features=2228, max_depth=None, score=0.935722 - 1.4min\n",
      "[CV] n_jobs=-1, min_samples_leaf=4, n_estimators=67, min_samples_split=4, random_state=1, max_features=2514, max_depth=None \n",
      "[CV]  n_jobs=-1, min_samples_leaf=4, n_estimators=67, min_samples_split=4, random_state=1, max_features=2514, max_depth=None, score=0.933982 - 2.4min\n",
      "[CV] n_jobs=-1, min_samples_leaf=4, n_estimators=67, min_samples_split=4, random_state=1, max_features=2514, max_depth=None \n",
      "[CV]  n_jobs=-1, min_samples_leaf=4, n_estimators=67, min_samples_split=4, random_state=1, max_features=2514, max_depth=None, score=0.933359 - 2.4min\n",
      "[CV] n_jobs=-1, min_samples_leaf=4, n_estimators=67, min_samples_split=4, random_state=1, max_features=2514, max_depth=None \n",
      "[CV]  n_jobs=-1, min_samples_leaf=4, n_estimators=67, min_samples_split=4, random_state=1, max_features=2514, max_depth=None, score=0.937142 - 2.4min\n",
      "[CV] n_jobs=-1, min_samples_leaf=1, n_estimators=67, min_samples_split=3, random_state=1, max_features=1692, max_depth=None \n",
      "[CV]  n_jobs=-1, min_samples_leaf=1, n_estimators=67, min_samples_split=3, random_state=1, max_features=1692, max_depth=None, score=0.940368 - 2.3min\n",
      "[CV] n_jobs=-1, min_samples_leaf=1, n_estimators=67, min_samples_split=3, random_state=1, max_features=1692, max_depth=None \n",
      "[CV]  n_jobs=-1, min_samples_leaf=1, n_estimators=67, min_samples_split=3, random_state=1, max_features=1692, max_depth=None, score=0.940307 - 2.3min\n",
      "[CV] n_jobs=-1, min_samples_leaf=1, n_estimators=67, min_samples_split=3, random_state=1, max_features=1692, max_depth=None \n",
      "[CV]  n_jobs=-1, min_samples_leaf=1, n_estimators=67, min_samples_split=3, random_state=1, max_features=1692, max_depth=None, score=0.943321 - 2.2min\n",
      "[CV] n_jobs=-1, min_samples_leaf=1, n_estimators=76, min_samples_split=3, random_state=1, max_features=1700, max_depth=None \n",
      "[CV]  n_jobs=-1, min_samples_leaf=1, n_estimators=76, min_samples_split=3, random_state=1, max_features=1700, max_depth=None, score=0.940930 - 2.5min\n",
      "[CV] n_jobs=-1, min_samples_leaf=1, n_estimators=76, min_samples_split=3, random_state=1, max_features=1700, max_depth=None \n",
      "[CV]  n_jobs=-1, min_samples_leaf=1, n_estimators=76, min_samples_split=3, random_state=1, max_features=1700, max_depth=None, score=0.940898 - 2.6min\n",
      "[CV] n_jobs=-1, min_samples_leaf=1, n_estimators=76, min_samples_split=3, random_state=1, max_features=1700, max_depth=None \n",
      "[CV]  n_jobs=-1, min_samples_leaf=1, n_estimators=76, min_samples_split=3, random_state=1, max_features=1700, max_depth=None, score=0.942730 - 2.5min\n",
      "[CV] n_jobs=-1, min_samples_leaf=2, n_estimators=39, min_samples_split=2, random_state=1, max_features=993, max_depth=None \n",
      "[CV]  n_jobs=-1, min_samples_leaf=2, n_estimators=39, min_samples_split=2, random_state=1, max_features=993, max_depth=None, score=0.939008 -  58.2s\n",
      "[CV] n_jobs=-1, min_samples_leaf=2, n_estimators=39, min_samples_split=2, random_state=1, max_features=993, max_depth=None \n",
      "[CV]  n_jobs=-1, min_samples_leaf=2, n_estimators=39, min_samples_split=2, random_state=1, max_features=993, max_depth=None, score=0.940396 -  58.9s\n",
      "[CV] n_jobs=-1, min_samples_leaf=2, n_estimators=39, min_samples_split=2, random_state=1, max_features=993, max_depth=None \n",
      "[CV]  n_jobs=-1, min_samples_leaf=2, n_estimators=39, min_samples_split=2, random_state=1, max_features=993, max_depth=None, score=0.939862 -  58.2s"
     ]
    },
    {
     "name": "stderr",
     "output_type": "stream",
     "text": [
      "[Parallel(n_jobs=1)]: Done  31 tasks       | elapsed: 71.9min\n",
      "[Parallel(n_jobs=1)]: Done  90 out of  90 | elapsed: 194.3min finished\n"
     ]
    },
    {
     "name": "stdout",
     "output_type": "stream",
     "text": [
      "\n"
     ]
    },
    {
     "data": {
      "text/plain": [
       "RandomizedSearchCV(cv=3, error_score='raise',\n",
       "          estimator=RandomForestClassifier(bootstrap=True, class_weight=None, criterion='gini',\n",
       "            max_depth=None, max_features='auto', max_leaf_nodes=None,\n",
       "            min_samples_leaf=1, min_samples_split=2,\n",
       "            min_weight_fraction_leaf=0.0, n_estimators=10, n_jobs=1,\n",
       "            oob_score=False, random_state=None, verbose=0,\n",
       "            warm_start=False),\n",
       "          fit_params={}, iid=True, n_iter=30, n_jobs=1,\n",
       "          param_distributions={'n_jobs': [-1], 'min_samples_leaf': <scipy.stats._distn_infrastructure.rv_frozen object at 0x11e3060d0>, 'n_estimators': <scipy.stats._distn_infrastructure.rv_frozen object at 0x11e30bc10>, 'min_samples_split': <scipy.stats._distn_infrastructure.rv_frozen object at 0x11e306050>, 'random_state': [1], 'max_features': <scipy.stats._distn_infrastructure.rv_frozen object at 0x11e30be10>, 'max_depth': [None]},\n",
       "          pre_dispatch='2*n_jobs', random_state=None, refit=True,\n",
       "          scoring=None, verbose=3)"
      ]
     },
     "execution_count": 4,
     "metadata": {},
     "output_type": "execute_result"
    }
   ],
   "source": [
    "params = {\n",
    "    'n_estimators': sp_randint(35, 100),\n",
    "    'max_features': sp_randint(750, 3000),\n",
    "    'max_depth': [None],\n",
    "    'min_samples_split': sp_randint(2, 5),\n",
    "    'min_samples_leaf': sp_randint(1, 5),\n",
    "    'random_state': [1],\n",
    "    'n_jobs': [-1]\n",
    "}\n",
    "classifier = RandomForestClassifier()\n",
    "search_results3 = RandomizedSearchCV(estimator = classifier,\n",
    "                                        param_distributions = params,\n",
    "                                        n_iter = 30, n_jobs = 1,\n",
    "                                        cv = 3, verbose = 3 )\n",
    "# GridLogiClassifier = GridSearchCV(estimator = classifier, param_grid=params, n_jobs=1, cv=4, verbose=2)\n",
    "search_results3.fit(train_data_combo, train_labels)"
   ]
  },
  {
   "cell_type": "markdown",
   "metadata": {},
   "source": [
    "## With first engineered feature"
   ]
  },
  {
   "cell_type": "code",
   "execution_count": 5,
   "metadata": {
    "collapsed": false
   },
   "outputs": [
    {
     "data": {
      "text/plain": [
       "0.94214981915658969"
      ]
     },
     "execution_count": 5,
     "metadata": {},
     "output_type": "execute_result"
    }
   ],
   "source": [
    "search_results3.best_score_"
   ]
  },
  {
   "cell_type": "code",
   "execution_count": 7,
   "metadata": {
    "collapsed": false
   },
   "outputs": [
    {
     "data": {
      "text/plain": [
       "{'max_depth': None,\n",
       " 'max_features': 783,\n",
       " 'min_samples_leaf': 1,\n",
       " 'min_samples_split': 3,\n",
       " 'n_estimators': 66,\n",
       " 'n_jobs': -1,\n",
       " 'random_state': 1}"
      ]
     },
     "execution_count": 7,
     "metadata": {},
     "output_type": "execute_result"
    }
   ],
   "source": [
    "search_results3.best_params_"
   ]
  },
  {
   "cell_type": "code",
   "execution_count": 6,
   "metadata": {
    "collapsed": false
   },
   "outputs": [
    {
     "data": {
      "text/plain": [
       "[mean: 0.93893, std: 0.00124, params: {'n_jobs': -1, 'min_samples_leaf': 2, 'n_estimators': 53, 'min_samples_split': 2, 'random_state': 1, 'max_features': 2183, 'max_depth': None},\n",
       " mean: 0.93964, std: 0.00079, params: {'n_jobs': -1, 'min_samples_leaf': 1, 'n_estimators': 43, 'min_samples_split': 4, 'random_state': 1, 'max_features': 2962, 'max_depth': None},\n",
       " mean: 0.93538, std: 0.00096, params: {'n_jobs': -1, 'min_samples_leaf': 4, 'n_estimators': 76, 'min_samples_split': 4, 'random_state': 1, 'max_features': 1201, 'max_depth': None},\n",
       " mean: 0.94015, std: 0.00084, params: {'n_jobs': -1, 'min_samples_leaf': 2, 'n_estimators': 97, 'min_samples_split': 4, 'random_state': 1, 'max_features': 913, 'max_depth': None},\n",
       " mean: 0.93971, std: 0.00116, params: {'n_jobs': -1, 'min_samples_leaf': 2, 'n_estimators': 99, 'min_samples_split': 3, 'random_state': 1, 'max_features': 1950, 'max_depth': None},\n",
       " mean: 0.93495, std: 0.00090, params: {'n_jobs': -1, 'min_samples_leaf': 4, 'n_estimators': 44, 'min_samples_split': 2, 'random_state': 1, 'max_features': 1712, 'max_depth': None},\n",
       " mean: 0.93904, std: 0.00127, params: {'n_jobs': -1, 'min_samples_leaf': 2, 'n_estimators': 66, 'min_samples_split': 3, 'random_state': 1, 'max_features': 2803, 'max_depth': None},\n",
       " mean: 0.94098, std: 0.00082, params: {'n_jobs': -1, 'min_samples_leaf': 1, 'n_estimators': 40, 'min_samples_split': 2, 'random_state': 1, 'max_features': 1709, 'max_depth': None},\n",
       " mean: 0.94065, std: 0.00088, params: {'n_jobs': -1, 'min_samples_leaf': 1, 'n_estimators': 88, 'min_samples_split': 3, 'random_state': 1, 'max_features': 2427, 'max_depth': None},\n",
       " mean: 0.93795, std: 0.00097, params: {'n_jobs': -1, 'min_samples_leaf': 3, 'n_estimators': 77, 'min_samples_split': 3, 'random_state': 1, 'max_features': 1621, 'max_depth': None},\n",
       " mean: 0.94019, std: 0.00080, params: {'n_jobs': -1, 'min_samples_leaf': 1, 'n_estimators': 55, 'min_samples_split': 3, 'random_state': 1, 'max_features': 2968, 'max_depth': None},\n",
       " mean: 0.93542, std: 0.00118, params: {'n_jobs': -1, 'min_samples_leaf': 4, 'n_estimators': 71, 'min_samples_split': 3, 'random_state': 1, 'max_features': 1342, 'max_depth': None},\n",
       " mean: 0.94108, std: 0.00092, params: {'n_jobs': -1, 'min_samples_leaf': 1, 'n_estimators': 81, 'min_samples_split': 3, 'random_state': 1, 'max_features': 1801, 'max_depth': None},\n",
       " mean: 0.94105, std: 0.00094, params: {'n_jobs': -1, 'min_samples_leaf': 1, 'n_estimators': 62, 'min_samples_split': 4, 'random_state': 1, 'max_features': 1648, 'max_depth': None},\n",
       " mean: 0.94046, std: 0.00049, params: {'n_jobs': -1, 'min_samples_leaf': 1, 'n_estimators': 47, 'min_samples_split': 3, 'random_state': 1, 'max_features': 2452, 'max_depth': None},\n",
       " mean: 0.93747, std: 0.00112, params: {'n_jobs': -1, 'min_samples_leaf': 3, 'n_estimators': 85, 'min_samples_split': 2, 'random_state': 1, 'max_features': 1825, 'max_depth': None},\n",
       " mean: 0.93521, std: 0.00119, params: {'n_jobs': -1, 'min_samples_leaf': 4, 'n_estimators': 80, 'min_samples_split': 3, 'random_state': 1, 'max_features': 2758, 'max_depth': None},\n",
       " mean: 0.93551, std: 0.00140, params: {'n_jobs': -1, 'min_samples_leaf': 4, 'n_estimators': 86, 'min_samples_split': 3, 'random_state': 1, 'max_features': 1668, 'max_depth': None},\n",
       " mean: 0.93965, std: 0.00078, params: {'n_jobs': -1, 'min_samples_leaf': 2, 'n_estimators': 74, 'min_samples_split': 4, 'random_state': 1, 'max_features': 1749, 'max_depth': None},\n",
       " mean: 0.93744, std: 0.00164, params: {'n_jobs': -1, 'min_samples_leaf': 3, 'n_estimators': 62, 'min_samples_split': 3, 'random_state': 1, 'max_features': 2738, 'max_depth': None},\n",
       " mean: 0.94215, std: 0.00081, params: {'n_jobs': -1, 'min_samples_leaf': 1, 'n_estimators': 66, 'min_samples_split': 3, 'random_state': 1, 'max_features': 783, 'max_depth': None},\n",
       " mean: 0.93632, std: 0.00076, params: {'n_jobs': -1, 'min_samples_leaf': 3, 'n_estimators': 47, 'min_samples_split': 2, 'random_state': 1, 'max_features': 2686, 'max_depth': None},\n",
       " mean: 0.93485, std: 0.00089, params: {'n_jobs': -1, 'min_samples_leaf': 4, 'n_estimators': 56, 'min_samples_split': 4, 'random_state': 1, 'max_features': 2246, 'max_depth': None},\n",
       " mean: 0.93691, std: 0.00090, params: {'n_jobs': -1, 'min_samples_leaf': 3, 'n_estimators': 36, 'min_samples_split': 3, 'random_state': 1, 'max_features': 1806, 'max_depth': None},\n",
       " mean: 0.93499, std: 0.00137, params: {'n_jobs': -1, 'min_samples_leaf': 4, 'n_estimators': 43, 'min_samples_split': 3, 'random_state': 1, 'max_features': 1997, 'max_depth': None},\n",
       " mean: 0.93436, std: 0.00097, params: {'n_jobs': -1, 'min_samples_leaf': 4, 'n_estimators': 39, 'min_samples_split': 4, 'random_state': 1, 'max_features': 2228, 'max_depth': None},\n",
       " mean: 0.93483, std: 0.00166, params: {'n_jobs': -1, 'min_samples_leaf': 4, 'n_estimators': 67, 'min_samples_split': 4, 'random_state': 1, 'max_features': 2514, 'max_depth': None},\n",
       " mean: 0.94133, std: 0.00141, params: {'n_jobs': -1, 'min_samples_leaf': 1, 'n_estimators': 67, 'min_samples_split': 3, 'random_state': 1, 'max_features': 1692, 'max_depth': None},\n",
       " mean: 0.94152, std: 0.00086, params: {'n_jobs': -1, 'min_samples_leaf': 1, 'n_estimators': 76, 'min_samples_split': 3, 'random_state': 1, 'max_features': 1700, 'max_depth': None},\n",
       " mean: 0.93975, std: 0.00057, params: {'n_jobs': -1, 'min_samples_leaf': 2, 'n_estimators': 39, 'min_samples_split': 2, 'random_state': 1, 'max_features': 993, 'max_depth': None}]"
      ]
     },
     "execution_count": 6,
     "metadata": {},
     "output_type": "execute_result"
    }
   ],
   "source": [
    "search_results3.grid_scores_"
   ]
  },
  {
   "cell_type": "markdown",
   "metadata": {},
   "source": [
    "## Finer second run"
   ]
  },
  {
   "cell_type": "code",
   "execution_count": 4,
   "metadata": {
    "collapsed": false
   },
   "outputs": [
    {
     "data": {
      "text/plain": [
       "0.94262287003912526"
      ]
     },
     "execution_count": 4,
     "metadata": {},
     "output_type": "execute_result"
    }
   ],
   "source": [
    "search_results2.best_score_"
   ]
  },
  {
   "cell_type": "code",
   "execution_count": 5,
   "metadata": {
    "collapsed": false
   },
   "outputs": [
    {
     "data": {
      "text/plain": [
       "[mean: 0.94025, std: 0.00196, params: {'n_jobs': -1, 'min_samples_leaf': 1, 'n_estimators': 51, 'min_samples_split': 4, 'random_state': 1, 'max_features': 2832, 'max_depth': None},\n",
       " mean: 0.94141, std: 0.00177, params: {'n_jobs': -1, 'min_samples_leaf': 1, 'n_estimators': 56, 'min_samples_split': 4, 'random_state': 1, 'max_features': 2075, 'max_depth': None},\n",
       " mean: 0.93812, std: 0.00177, params: {'n_jobs': -1, 'min_samples_leaf': 3, 'n_estimators': 45, 'min_samples_split': 4, 'random_state': 1, 'max_features': 1227, 'max_depth': None},\n",
       " mean: 0.93822, std: 0.00192, params: {'n_jobs': -1, 'min_samples_leaf': 3, 'n_estimators': 66, 'min_samples_split': 3, 'random_state': 1, 'max_features': 1465, 'max_depth': None},\n",
       " mean: 0.93503, std: 0.00226, params: {'n_jobs': -1, 'min_samples_leaf': 4, 'n_estimators': 51, 'min_samples_split': 4, 'random_state': 1, 'max_features': 2954, 'max_depth': None},\n",
       " mean: 0.94000, std: 0.00155, params: {'n_jobs': -1, 'min_samples_leaf': 2, 'n_estimators': 68, 'min_samples_split': 4, 'random_state': 1, 'max_features': 2410, 'max_depth': None},\n",
       " mean: 0.94162, std: 0.00137, params: {'n_jobs': -1, 'min_samples_leaf': 1, 'n_estimators': 47, 'min_samples_split': 2, 'random_state': 1, 'max_features': 2290, 'max_depth': None},\n",
       " mean: 0.94151, std: 0.00129, params: {'n_jobs': -1, 'min_samples_leaf': 1, 'n_estimators': 82, 'min_samples_split': 2, 'random_state': 1, 'max_features': 2738, 'max_depth': None},\n",
       " mean: 0.93937, std: 0.00199, params: {'n_jobs': -1, 'min_samples_leaf': 2, 'n_estimators': 50, 'min_samples_split': 3, 'random_state': 1, 'max_features': 2476, 'max_depth': None},\n",
       " mean: 0.93825, std: 0.00214, params: {'n_jobs': -1, 'min_samples_leaf': 3, 'n_estimators': 88, 'min_samples_split': 3, 'random_state': 1, 'max_features': 2155, 'max_depth': None},\n",
       " mean: 0.93907, std: 0.00180, params: {'n_jobs': -1, 'min_samples_leaf': 2, 'n_estimators': 42, 'min_samples_split': 3, 'random_state': 1, 'max_features': 2888, 'max_depth': None},\n",
       " mean: 0.93831, std: 0.00208, params: {'n_jobs': -1, 'min_samples_leaf': 3, 'n_estimators': 58, 'min_samples_split': 3, 'random_state': 1, 'max_features': 1502, 'max_depth': None},\n",
       " mean: 0.94223, std: 0.00162, params: {'n_jobs': -1, 'min_samples_leaf': 1, 'n_estimators': 68, 'min_samples_split': 4, 'random_state': 1, 'max_features': 1279, 'max_depth': None},\n",
       " mean: 0.93541, std: 0.00224, params: {'n_jobs': -1, 'min_samples_leaf': 4, 'n_estimators': 54, 'min_samples_split': 3, 'random_state': 1, 'max_features': 2582, 'max_depth': None},\n",
       " mean: 0.93610, std: 0.00211, params: {'n_jobs': -1, 'min_samples_leaf': 4, 'n_estimators': 70, 'min_samples_split': 2, 'random_state': 1, 'max_features': 1509, 'max_depth': None},\n",
       " mean: 0.93736, std: 0.00218, params: {'n_jobs': -1, 'min_samples_leaf': 3, 'n_estimators': 52, 'min_samples_split': 2, 'random_state': 1, 'max_features': 2566, 'max_depth': None},\n",
       " mean: 0.93969, std: 0.00171, params: {'n_jobs': -1, 'min_samples_leaf': 2, 'n_estimators': 73, 'min_samples_split': 3, 'random_state': 1, 'max_features': 2383, 'max_depth': None},\n",
       " mean: 0.94056, std: 0.00140, params: {'n_jobs': -1, 'min_samples_leaf': 2, 'n_estimators': 42, 'min_samples_split': 2, 'random_state': 1, 'max_features': 1131, 'max_depth': None},\n",
       " mean: 0.94067, std: 0.00181, params: {'n_jobs': -1, 'min_samples_leaf': 2, 'n_estimators': 85, 'min_samples_split': 4, 'random_state': 1, 'max_features': 1962, 'max_depth': None},\n",
       " mean: 0.94198, std: 0.00163, params: {'n_jobs': -1, 'min_samples_leaf': 1, 'n_estimators': 79, 'min_samples_split': 2, 'random_state': 1, 'max_features': 1851, 'max_depth': None},\n",
       " mean: 0.94106, std: 0.00129, params: {'n_jobs': -1, 'min_samples_leaf': 2, 'n_estimators': 52, 'min_samples_split': 4, 'random_state': 1, 'max_features': 1066, 'max_depth': None},\n",
       " mean: 0.93831, std: 0.00196, params: {'n_jobs': -1, 'min_samples_leaf': 3, 'n_estimators': 48, 'min_samples_split': 2, 'random_state': 1, 'max_features': 1287, 'max_depth': None},\n",
       " mean: 0.94087, std: 0.00134, params: {'n_jobs': -1, 'min_samples_leaf': 2, 'n_estimators': 81, 'min_samples_split': 2, 'random_state': 1, 'max_features': 907, 'max_depth': None},\n",
       " mean: 0.93870, std: 0.00214, params: {'n_jobs': -1, 'min_samples_leaf': 3, 'n_estimators': 91, 'min_samples_split': 4, 'random_state': 1, 'max_features': 1924, 'max_depth': None},\n",
       " mean: 0.93784, std: 0.00201, params: {'n_jobs': -1, 'min_samples_leaf': 3, 'n_estimators': 79, 'min_samples_split': 4, 'random_state': 1, 'max_features': 1779, 'max_depth': None},\n",
       " mean: 0.94037, std: 0.00197, params: {'n_jobs': -1, 'min_samples_leaf': 2, 'n_estimators': 91, 'min_samples_split': 4, 'random_state': 1, 'max_features': 2012, 'max_depth': None},\n",
       " mean: 0.93810, std: 0.00196, params: {'n_jobs': -1, 'min_samples_leaf': 3, 'n_estimators': 47, 'min_samples_split': 3, 'random_state': 1, 'max_features': 1650, 'max_depth': None},\n",
       " mean: 0.94096, std: 0.00161, params: {'n_jobs': -1, 'min_samples_leaf': 2, 'n_estimators': 63, 'min_samples_split': 3, 'random_state': 1, 'max_features': 1867, 'max_depth': None},\n",
       " mean: 0.94004, std: 0.00121, params: {'n_jobs': -1, 'min_samples_leaf': 1, 'n_estimators': 36, 'min_samples_split': 4, 'random_state': 1, 'max_features': 2939, 'max_depth': None},\n",
       " mean: 0.94262, std: 0.00183, params: {'n_jobs': -1, 'min_samples_leaf': 1, 'n_estimators': 50, 'min_samples_split': 4, 'random_state': 1, 'max_features': 966, 'max_depth': None}]"
      ]
     },
     "execution_count": 5,
     "metadata": {},
     "output_type": "execute_result"
    }
   ],
   "source": [
    "search_results2.grid_scores_"
   ]
  },
  {
   "cell_type": "markdown",
   "metadata": {},
   "source": [
    "## Coarse first run"
   ]
  },
  {
   "cell_type": "code",
   "execution_count": 4,
   "metadata": {
    "collapsed": false
   },
   "outputs": [
    {
     "data": {
      "text/plain": [
       "0.94149937419310337"
      ]
     },
     "execution_count": 4,
     "metadata": {},
     "output_type": "execute_result"
    }
   ],
   "source": [
    "search_results.best_score_"
   ]
  },
  {
   "cell_type": "code",
   "execution_count": 5,
   "metadata": {
    "collapsed": false
   },
   "outputs": [
    {
     "data": {
      "text/plain": [
       "[mean: 0.93670, std: 0.00145, params: {'n_jobs': -1, 'min_samples_leaf': 3, 'n_estimators': 68, 'min_samples_split': 2, 'random_state': 1, 'max_features': 508, 'max_depth': None},\n",
       " mean: 0.92415, std: 0.00291, params: {'n_jobs': -1, 'min_samples_leaf': 2, 'n_estimators': 20, 'min_samples_split': 2, 'random_state': 1, 'max_features': 1141, 'max_depth': 20},\n",
       " mean: 0.92504, std: 0.00128, params: {'n_jobs': -1, 'min_samples_leaf': 3, 'n_estimators': 96, 'min_samples_split': 4, 'random_state': 1, 'max_features': 1680, 'max_depth': 20},\n",
       " mean: 0.92342, std: 0.00102, params: {'n_jobs': -1, 'min_samples_leaf': 4, 'n_estimators': 39, 'min_samples_split': 2, 'random_state': 1, 'max_features': 2042, 'max_depth': 20},\n",
       " mean: 0.93903, std: 0.00162, params: {'n_jobs': -1, 'min_samples_leaf': 3, 'n_estimators': 45, 'min_samples_split': 2, 'random_state': 1, 'max_features': 2462, 'max_depth': None},\n",
       " mean: 0.94040, std: 0.00086, params: {'n_jobs': -1, 'min_samples_leaf': 2, 'n_estimators': 72, 'min_samples_split': 2, 'random_state': 1, 'max_features': 751, 'max_depth': None},\n",
       " mean: 0.92613, std: 0.00143, params: {'n_jobs': -1, 'min_samples_leaf': 2, 'n_estimators': 44, 'min_samples_split': 2, 'random_state': 1, 'max_features': 2612, 'max_depth': 20},\n",
       " mean: 0.88100, std: 0.00167, params: {'n_jobs': -1, 'min_samples_leaf': 1, 'n_estimators': 38, 'min_samples_split': 2, 'random_state': 1, 'max_features': 894, 'max_depth': 10},\n",
       " mean: 0.88586, std: 0.00306, params: {'n_jobs': -1, 'min_samples_leaf': 2, 'n_estimators': 44, 'min_samples_split': 2, 'random_state': 1, 'max_features': 1270, 'max_depth': 10},\n",
       " mean: 0.88245, std: 0.00364, params: {'n_jobs': -1, 'min_samples_leaf': 1, 'n_estimators': 65, 'min_samples_split': 2, 'random_state': 1, 'max_features': 2926, 'max_depth': 10},\n",
       " mean: 0.92608, std: 0.00124, params: {'n_jobs': -1, 'min_samples_leaf': 4, 'n_estimators': 66, 'min_samples_split': 2, 'random_state': 1, 'max_features': 225, 'max_depth': None},\n",
       " mean: 0.92507, std: 0.00084, params: {'n_jobs': -1, 'min_samples_leaf': 3, 'n_estimators': 76, 'min_samples_split': 4, 'random_state': 1, 'max_features': 1531, 'max_depth': 20},\n",
       " mean: 0.88127, std: 0.00393, params: {'n_jobs': -1, 'min_samples_leaf': 4, 'n_estimators': 25, 'min_samples_split': 3, 'random_state': 1, 'max_features': 2771, 'max_depth': 10},\n",
       " mean: 0.91525, std: 0.00193, params: {'n_jobs': -1, 'min_samples_leaf': 2, 'n_estimators': 95, 'min_samples_split': 4, 'random_state': 1, 'max_features': 330, 'max_depth': 20},\n",
       " mean: 0.88286, std: 0.00287, params: {'n_jobs': -1, 'min_samples_leaf': 4, 'n_estimators': 68, 'min_samples_split': 3, 'random_state': 1, 'max_features': 2481, 'max_depth': 10},\n",
       " mean: 0.88712, std: 0.00234, params: {'n_jobs': -1, 'min_samples_leaf': 2, 'n_estimators': 70, 'min_samples_split': 2, 'random_state': 1, 'max_features': 1680, 'max_depth': 10},\n",
       " mean: 0.92477, std: 0.00091, params: {'n_jobs': -1, 'min_samples_leaf': 1, 'n_estimators': 83, 'min_samples_split': 3, 'random_state': 1, 'max_features': 584, 'max_depth': 20},\n",
       " mean: 0.92618, std: 0.00045, params: {'n_jobs': -1, 'min_samples_leaf': 2, 'n_estimators': 55, 'min_samples_split': 2, 'random_state': 1, 'max_features': 2475, 'max_depth': 20},\n",
       " mean: 0.94111, std: 0.00114, params: {'n_jobs': -1, 'min_samples_leaf': 1, 'n_estimators': 77, 'min_samples_split': 2, 'random_state': 1, 'max_features': 771, 'max_depth': None},\n",
       " mean: 0.88504, std: 0.00267, params: {'n_jobs': -1, 'min_samples_leaf': 1, 'n_estimators': 98, 'min_samples_split': 2, 'random_state': 1, 'max_features': 2128, 'max_depth': 10},\n",
       " mean: 0.93973, std: 0.00138, params: {'n_jobs': -1, 'min_samples_leaf': 1, 'n_estimators': 24, 'min_samples_split': 2, 'random_state': 1, 'max_features': 2380, 'max_depth': None},\n",
       " mean: 0.93649, std: 0.00115, params: {'n_jobs': -1, 'min_samples_leaf': 4, 'n_estimators': 72, 'min_samples_split': 3, 'random_state': 1, 'max_features': 795, 'max_depth': None},\n",
       " mean: 0.87983, std: 0.00303, params: {'n_jobs': -1, 'min_samples_leaf': 2, 'n_estimators': 57, 'min_samples_split': 4, 'random_state': 1, 'max_features': 778, 'max_depth': 10},\n",
       " mean: 0.88439, std: 0.00288, params: {'n_jobs': -1, 'min_samples_leaf': 3, 'n_estimators': 50, 'min_samples_split': 3, 'random_state': 1, 'max_features': 922, 'max_depth': 10},\n",
       " mean: 0.92692, std: 0.00121, params: {'n_jobs': -1, 'min_samples_leaf': 1, 'n_estimators': 47, 'min_samples_split': 4, 'random_state': 1, 'max_features': 1779, 'max_depth': 20},\n",
       " mean: 0.92498, std: 0.00151, params: {'n_jobs': -1, 'min_samples_leaf': 3, 'n_estimators': 76, 'min_samples_split': 4, 'random_state': 1, 'max_features': 1568, 'max_depth': 20},\n",
       " mean: 0.94150, std: 0.00169, params: {'n_jobs': -1, 'min_samples_leaf': 1, 'n_estimators': 71, 'min_samples_split': 4, 'random_state': 1, 'max_features': 1148, 'max_depth': None},\n",
       " mean: 0.93900, std: 0.00076, params: {'n_jobs': -1, 'min_samples_leaf': 1, 'n_estimators': 33, 'min_samples_split': 2, 'random_state': 1, 'max_features': 2479, 'max_depth': None},\n",
       " mean: 0.88212, std: 0.00321, params: {'n_jobs': -1, 'min_samples_leaf': 1, 'n_estimators': 20, 'min_samples_split': 3, 'random_state': 1, 'max_features': 2709, 'max_depth': 10},\n",
       " mean: 0.88158, std: 0.00356, params: {'n_jobs': -1, 'min_samples_leaf': 2, 'n_estimators': 75, 'min_samples_split': 4, 'random_state': 1, 'max_features': 941, 'max_depth': 10},\n",
       " mean: 0.91091, std: 0.00100, params: {'n_jobs': -1, 'min_samples_leaf': 3, 'n_estimators': 44, 'min_samples_split': 3, 'random_state': 1, 'max_features': 294, 'max_depth': 20},\n",
       " mean: 0.88245, std: 0.00250, params: {'n_jobs': -1, 'min_samples_leaf': 3, 'n_estimators': 37, 'min_samples_split': 3, 'random_state': 1, 'max_features': 2913, 'max_depth': 10},\n",
       " mean: 0.88112, std: 0.00179, params: {'n_jobs': -1, 'min_samples_leaf': 3, 'n_estimators': 70, 'min_samples_split': 2, 'random_state': 1, 'max_features': 760, 'max_depth': 10},\n",
       " mean: 0.92381, std: 0.00071, params: {'n_jobs': -1, 'min_samples_leaf': 4, 'n_estimators': 97, 'min_samples_split': 4, 'random_state': 1, 'max_features': 2203, 'max_depth': 20},\n",
       " mean: 0.92540, std: 0.00229, params: {'n_jobs': -1, 'min_samples_leaf': 3, 'n_estimators': 84, 'min_samples_split': 3, 'random_state': 1, 'max_features': 1415, 'max_depth': 20},\n",
       " mean: 0.93812, std: 0.00109, params: {'n_jobs': -1, 'min_samples_leaf': 4, 'n_estimators': 56, 'min_samples_split': 3, 'random_state': 1, 'max_features': 2359, 'max_depth': None},\n",
       " mean: 0.93641, std: 0.00110, params: {'n_jobs': -1, 'min_samples_leaf': 4, 'n_estimators': 69, 'min_samples_split': 4, 'random_state': 1, 'max_features': 850, 'max_depth': None},\n",
       " mean: 0.94133, std: 0.00131, params: {'n_jobs': -1, 'min_samples_leaf': 2, 'n_estimators': 74, 'min_samples_split': 4, 'random_state': 1, 'max_features': 2013, 'max_depth': None},\n",
       " mean: 0.92728, std: 0.00198, params: {'n_jobs': -1, 'min_samples_leaf': 1, 'n_estimators': 93, 'min_samples_split': 2, 'random_state': 1, 'max_features': 849, 'max_depth': 20},\n",
       " mean: 0.88674, std: 0.00237, params: {'n_jobs': -1, 'min_samples_leaf': 1, 'n_estimators': 38, 'min_samples_split': 2, 'random_state': 1, 'max_features': 1793, 'max_depth': 10},\n",
       " mean: 0.92461, std: 0.00142, params: {'n_jobs': -1, 'min_samples_leaf': 3, 'n_estimators': 26, 'min_samples_split': 4, 'random_state': 1, 'max_features': 2791, 'max_depth': 20},\n",
       " mean: 0.91709, std: 0.00147, params: {'n_jobs': -1, 'min_samples_leaf': 2, 'n_estimators': 27, 'min_samples_split': 2, 'random_state': 1, 'max_features': 396, 'max_depth': 20},\n",
       " mean: 0.94089, std: 0.00109, params: {'n_jobs': -1, 'min_samples_leaf': 1, 'n_estimators': 98, 'min_samples_split': 4, 'random_state': 1, 'max_features': 1823, 'max_depth': None},\n",
       " mean: 0.92364, std: 0.00167, params: {'n_jobs': -1, 'min_samples_leaf': 3, 'n_estimators': 43, 'min_samples_split': 4, 'random_state': 1, 'max_features': 1255, 'max_depth': 20},\n",
       " mean: 0.92545, std: 0.00117, params: {'n_jobs': -1, 'min_samples_leaf': 3, 'n_estimators': 72, 'min_samples_split': 3, 'random_state': 1, 'max_features': 1267, 'max_depth': 20},\n",
       " mean: 0.88771, std: 0.00260, params: {'n_jobs': -1, 'min_samples_leaf': 3, 'n_estimators': 77, 'min_samples_split': 3, 'random_state': 1, 'max_features': 1481, 'max_depth': 10},\n",
       " mean: 0.92681, std: 0.00117, params: {'n_jobs': -1, 'min_samples_leaf': 2, 'n_estimators': 63, 'min_samples_split': 3, 'random_state': 1, 'max_features': 2518, 'max_depth': 20},\n",
       " mean: 0.93882, std: 0.00109, params: {'n_jobs': -1, 'min_samples_leaf': 2, 'n_estimators': 35, 'min_samples_split': 3, 'random_state': 1, 'max_features': 520, 'max_depth': None},\n",
       " mean: 0.93909, std: 0.00081, params: {'n_jobs': -1, 'min_samples_leaf': 3, 'n_estimators': 34, 'min_samples_split': 4, 'random_state': 1, 'max_features': 2736, 'max_depth': None},\n",
       " mean: 0.88378, std: 0.00149, params: {'n_jobs': -1, 'min_samples_leaf': 4, 'n_estimators': 44, 'min_samples_split': 4, 'random_state': 1, 'max_features': 1028, 'max_depth': 10},\n",
       " mean: 0.92475, std: 0.00208, params: {'n_jobs': -1, 'min_samples_leaf': 2, 'n_estimators': 22, 'min_samples_split': 2, 'random_state': 1, 'max_features': 1367, 'max_depth': 20},\n",
       " mean: 0.94092, std: 0.00142, params: {'n_jobs': -1, 'min_samples_leaf': 2, 'n_estimators': 66, 'min_samples_split': 4, 'random_state': 1, 'max_features': 1104, 'max_depth': None},\n",
       " mean: 0.88212, std: 0.00192, params: {'n_jobs': -1, 'min_samples_leaf': 2, 'n_estimators': 63, 'min_samples_split': 2, 'random_state': 1, 'max_features': 848, 'max_depth': 10},\n",
       " mean: 0.88334, std: 0.00359, params: {'n_jobs': -1, 'min_samples_leaf': 2, 'n_estimators': 86, 'min_samples_split': 2, 'random_state': 1, 'max_features': 2190, 'max_depth': 10},\n",
       " mean: 0.92262, std: 0.00200, params: {'n_jobs': -1, 'min_samples_leaf': 1, 'n_estimators': 34, 'min_samples_split': 3, 'random_state': 1, 'max_features': 612, 'max_depth': 20},\n",
       " mean: 0.92408, std: 0.00129, params: {'n_jobs': -1, 'min_samples_leaf': 3, 'n_estimators': 75, 'min_samples_split': 4, 'random_state': 1, 'max_features': 883, 'max_depth': 20},\n",
       " mean: 0.94011, std: 0.00097, params: {'n_jobs': -1, 'min_samples_leaf': 1, 'n_estimators': 35, 'min_samples_split': 3, 'random_state': 1, 'max_features': 1121, 'max_depth': None},\n",
       " mean: 0.87388, std: 0.00240, params: {'n_jobs': -1, 'min_samples_leaf': 2, 'n_estimators': 79, 'min_samples_split': 3, 'random_state': 1, 'max_features': 334, 'max_depth': 10}]"
      ]
     },
     "execution_count": 5,
     "metadata": {},
     "output_type": "execute_result"
    }
   ],
   "source": [
    "search_results.grid_scores_"
   ]
  },
  {
   "cell_type": "code",
   "execution_count": null,
   "metadata": {
    "collapsed": true
   },
   "outputs": [],
   "source": []
  }
 ],
 "metadata": {
  "kernelspec": {
   "display_name": "Python 2",
   "language": "python",
   "name": "python2"
  },
  "language_info": {
   "codemirror_mode": {
    "name": "ipython",
    "version": 2
   },
   "file_extension": ".py",
   "mimetype": "text/x-python",
   "name": "python",
   "nbconvert_exporter": "python",
   "pygments_lexer": "ipython2",
   "version": "2.7.11"
  }
 },
 "nbformat": 4,
 "nbformat_minor": 0
}
