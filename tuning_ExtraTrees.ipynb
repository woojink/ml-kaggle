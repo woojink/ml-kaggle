{
 "cells": [
  {
   "cell_type": "code",
   "execution_count": 5,
   "metadata": {
    "collapsed": false
   },
   "outputs": [],
   "source": [
    "import csv\n",
    "import numpy as np\n",
    "import pandas as pd\n",
    "import random\n",
    "\n",
    "from scipy.stats import randint as sp_randint\n",
    "#from sklearn.model_selection import GridSearchCV, RandomizedSearchCV, train_test_split\n",
    "from sklearn.ensemble import AdaBoostClassifier, BaggingClassifier, ExtraTreesClassifier, RandomForestClassifier, GradientBoostingClassifier\n",
    "from sklearn.linear_model import LogisticRegression, SGDClassifier\n",
    "from sklearn.naive_bayes import GaussianNB, MultinomialNB\n",
    "from sklearn.neighbors import KNeighborsClassifier\n",
    "from sklearn.cross_validation import train_test_split\n",
    "from sklearn.grid_search import GridSearchCV\n",
    "from sklearn.grid_search import RandomizedSearchCV\n",
    "\n",
    "\n"
   ]
  },
  {
   "cell_type": "code",
   "execution_count": 3,
   "metadata": {
    "collapsed": false
   },
   "outputs": [
    {
     "name": "stdout",
     "output_type": "stream",
     "text": [
      "Processing numerical data...\n"
     ]
    },
    {
     "name": "stderr",
     "output_type": "stream",
     "text": [
      "/Users/PS/anaconda/lib/python2.7/site-packages/ipykernel/__main__.py:25: SettingWithCopyWarning: \n",
      "A value is trying to be set on a copy of a slice from a DataFrame.\n",
      "Try using .loc[row_indexer,col_indexer] = value instead\n",
      "\n",
      "See the the caveats in the documentation: http://pandas.pydata.org/pandas-docs/stable/indexing.html#indexing-view-versus-copy\n",
      "/Users/PS/anaconda/lib/python2.7/site-packages/ipykernel/__main__.py:26: SettingWithCopyWarning: \n",
      "A value is trying to be set on a copy of a slice from a DataFrame.\n",
      "Try using .loc[row_indexer,col_indexer] = value instead\n",
      "\n",
      "See the the caveats in the documentation: http://pandas.pydata.org/pandas-docs/stable/indexing.html#indexing-view-versus-copy\n",
      "/Users/PS/anaconda/lib/python2.7/site-packages/ipykernel/__main__.py:27: SettingWithCopyWarning: \n",
      "A value is trying to be set on a copy of a slice from a DataFrame.\n",
      "Try using .loc[row_indexer,col_indexer] = value instead\n",
      "\n",
      "See the the caveats in the documentation: http://pandas.pydata.org/pandas-docs/stable/indexing.html#indexing-view-versus-copy\n",
      "/Users/PS/anaconda/lib/python2.7/site-packages/ipykernel/__main__.py:28: SettingWithCopyWarning: \n",
      "A value is trying to be set on a copy of a slice from a DataFrame.\n",
      "Try using .loc[row_indexer,col_indexer] = value instead\n",
      "\n",
      "See the the caveats in the documentation: http://pandas.pydata.org/pandas-docs/stable/indexing.html#indexing-view-versus-copy\n"
     ]
    },
    {
     "name": "stdout",
     "output_type": "stream",
     "text": [
      "Processing categorical data...\n",
      "Combining data...\n",
      "Processing finished!\n"
     ]
    }
   ],
   "source": [
    "train = pd.read_csv('data.csv', sep=\",\")\n",
    "test_data = pd.read_csv('quiz.csv', sep=\",\")\n",
    "\n",
    "train_data = train.iloc[:,:-1]\n",
    "train_labels = train.iloc[:,-1]\n",
    "\n",
    "train_data, holdout_data, train_labels, holdout_label = train_test_split(train_data, train_labels, \n",
    "                                                                         test_size=0.2, random_state=1)\n",
    "all_data = pd.concat([train_data, test_data])\n",
    "train_obs = len(train_data)\n",
    "test_obs = len(test_data)\n",
    "\n",
    "# Change dtype of categorical columns\n",
    "categorical_columns = ['0','5','7','8','9','14','16','17','18','20','23','25','26','56','57','58']\n",
    "for i in range(0,len(categorical_columns)):\n",
    "    all_data[categorical_columns[i]] = all_data[categorical_columns[i]].astype('category')\n",
    "    \n",
    "# Only numerical data\n",
    "print('Processing numerical data...')\n",
    "all_data_num = all_data.drop(categorical_columns, axis=1)\n",
    "train_data_num = all_data_num.iloc[0:train_obs,]\n",
    "test_data_num = all_data_num.iloc[train_obs:,]\n",
    "\n",
    "## Feature engineering\n",
    "train_data_num['div'] = (train_data_num.loc[:,'60'] / train_data_num.loc[:,'59'])\n",
    "train_data_num['div'] = train_data_num['div'].fillna(0)\n",
    "test_data_num['div'] = (test_data_num.loc[:,'60'] / test_data_num.loc[:,'59'])\n",
    "test_data_num['div'] = test_data_num['div'].fillna(0)\n",
    "\n",
    "# Only categorical data\n",
    "print('Processing categorical data...')\n",
    "all_data_cat = pd.get_dummies(all_data[categorical_columns])\n",
    "train_data_cat = all_data_cat.iloc[0:train_obs,]\n",
    "test_data_cat = all_data_cat.iloc[train_obs:,]\n",
    "\n",
    "# Combine the two\n",
    "print('Combining data...')\n",
    "train_data_combo = pd.concat([train_data_num, train_data_cat], axis=1)\n",
    "test_data_combo = pd.concat([test_data_num, test_data_cat], axis=1)\n",
    "\n",
    "print('Processing finished!')"
   ]
  },
  {
   "cell_type": "code",
   "execution_count": 6,
   "metadata": {
    "collapsed": false
   },
   "outputs": [
    {
     "name": "stdout",
     "output_type": "stream",
     "text": [
      "Fitting 3 folds for each of 30 candidates, totalling 90 fits\n",
      "[CV] n_jobs=-1, min_samples_leaf=1, n_estimators=75, min_samples_split=2, random_state=1, max_features=1410 \n",
      "[CV]  n_jobs=-1, min_samples_leaf=1, n_estimators=75, min_samples_split=2, random_state=1, max_features=1410, score=0.941136 - 7.6min\n",
      "[CV] n_jobs=-1, min_samples_leaf=1, n_estimators=75, min_samples_split=2, random_state=1, max_features=1410 \n",
      "[CV]  n_jobs=-1, min_samples_leaf=1, n_estimators=75, min_samples_split=2, random_state=1, max_features=1410, score=0.940869 - 7.1min\n",
      "[CV] n_jobs=-1, min_samples_leaf=1, n_estimators=75, min_samples_split=2, random_state=1, max_features=1410 \n",
      "[CV]  n_jobs=-1, min_samples_leaf=1, n_estimators=75, min_samples_split=2, random_state=1, max_features=1410, score=0.942789 - 7.4min\n",
      "[CV] n_jobs=-1, min_samples_leaf=2, n_estimators=43, min_samples_split=2, random_state=1, max_features=2500 \n",
      "[CV]  n_jobs=-1, min_samples_leaf=2, n_estimators=43, min_samples_split=2, random_state=1, max_features=2500, score=0.939983 - 5.6min\n",
      "[CV] n_jobs=-1, min_samples_leaf=2, n_estimators=43, min_samples_split=2, random_state=1, max_features=2500 \n",
      "[CV]  n_jobs=-1, min_samples_leaf=2, n_estimators=43, min_samples_split=2, random_state=1, max_features=2500, score=0.940839 - 5.7min\n",
      "[CV] n_jobs=-1, min_samples_leaf=2, n_estimators=43, min_samples_split=2, random_state=1, max_features=2500 \n",
      "[CV]  n_jobs=-1, min_samples_leaf=2, n_estimators=43, min_samples_split=2, random_state=1, max_features=2500, score=0.942966 - 5.7min\n",
      "[CV] n_jobs=-1, min_samples_leaf=1, n_estimators=76, min_samples_split=4, random_state=1, max_features=1913 \n",
      "[CV]  n_jobs=-1, min_samples_leaf=1, n_estimators=76, min_samples_split=4, random_state=1, max_features=1913, score=0.940752 - 8.5min\n",
      "[CV] n_jobs=-1, min_samples_leaf=1, n_estimators=76, min_samples_split=4, random_state=1, max_features=1913 \n",
      "[CV]  n_jobs=-1, min_samples_leaf=1, n_estimators=76, min_samples_split=4, random_state=1, max_features=1913, score=0.941016 - 8.7min\n",
      "[CV] n_jobs=-1, min_samples_leaf=1, n_estimators=76, min_samples_split=4, random_state=1, max_features=1913 \n",
      "[CV]  n_jobs=-1, min_samples_leaf=1, n_estimators=76, min_samples_split=4, random_state=1, max_features=1913, score=0.942375 - 8.3min\n",
      "[CV] n_jobs=-1, min_samples_leaf=4, n_estimators=95, min_samples_split=2, random_state=1, max_features=2407 \n",
      "[CV]  n_jobs=-1, min_samples_leaf=4, n_estimators=95, min_samples_split=2, random_state=1, max_features=2407, score=0.937648 -10.6min\n",
      "[CV] n_jobs=-1, min_samples_leaf=4, n_estimators=95, min_samples_split=2, random_state=1, max_features=2407 \n",
      "[CV]  n_jobs=-1, min_samples_leaf=4, n_estimators=95, min_samples_split=2, random_state=1, max_features=2407, score=0.938178 -10.8min\n",
      "[CV] n_jobs=-1, min_samples_leaf=4, n_estimators=95, min_samples_split=2, random_state=1, max_features=2407 \n",
      "[CV]  n_jobs=-1, min_samples_leaf=4, n_estimators=95, min_samples_split=2, random_state=1, max_features=2407, score=0.940719 -10.8min\n",
      "[CV] n_jobs=-1, min_samples_leaf=3, n_estimators=39, min_samples_split=2, random_state=1, max_features=2717 \n",
      "[CV]  n_jobs=-1, min_samples_leaf=3, n_estimators=39, min_samples_split=2, random_state=1, max_features=2717, score=0.939274 - 5.0min\n",
      "[CV] n_jobs=-1, min_samples_leaf=3, n_estimators=39, min_samples_split=2, random_state=1, max_features=2717 \n",
      "[CV]  n_jobs=-1, min_samples_leaf=3, n_estimators=39, min_samples_split=2, random_state=1, max_features=2717, score=0.939597 - 5.1min\n",
      "[CV] n_jobs=-1, min_samples_leaf=3, n_estimators=39, min_samples_split=2, random_state=1, max_features=2717 \n",
      "[CV]  n_jobs=-1, min_samples_leaf=3, n_estimators=39, min_samples_split=2, random_state=1, max_features=2717, score=0.941192 - 5.0min\n",
      "[CV] n_jobs=-1, min_samples_leaf=4, n_estimators=57, min_samples_split=2, random_state=1, max_features=984 \n",
      "[CV]  n_jobs=-1, min_samples_leaf=4, n_estimators=57, min_samples_split=2, random_state=1, max_features=984, score=0.937411 - 3.7min\n",
      "[CV] n_jobs=-1, min_samples_leaf=4, n_estimators=57, min_samples_split=2, random_state=1, max_features=984 \n",
      "[CV]  n_jobs=-1, min_samples_leaf=4, n_estimators=57, min_samples_split=2, random_state=1, max_features=984, score=0.936463 - 3.8min\n",
      "[CV] n_jobs=-1, min_samples_leaf=4, n_estimators=57, min_samples_split=2, random_state=1, max_features=984 \n",
      "[CV]  n_jobs=-1, min_samples_leaf=4, n_estimators=57, min_samples_split=2, random_state=1, max_features=984, score=0.938590 - 3.7min\n",
      "[CV] n_jobs=-1, min_samples_leaf=3, n_estimators=81, min_samples_split=2, random_state=1, max_features=1999 \n",
      "[CV]  n_jobs=-1, min_samples_leaf=3, n_estimators=81, min_samples_split=2, random_state=1, max_features=1999, score=0.939363 - 8.3min\n",
      "[CV] n_jobs=-1, min_samples_leaf=3, n_estimators=81, min_samples_split=2, random_state=1, max_features=1999 \n",
      "[CV]  n_jobs=-1, min_samples_leaf=3, n_estimators=81, min_samples_split=2, random_state=1, max_features=1999, score=0.939361 - 8.3min\n",
      "[CV] n_jobs=-1, min_samples_leaf=3, n_estimators=81, min_samples_split=2, random_state=1, max_features=1999 \n",
      "[CV]  n_jobs=-1, min_samples_leaf=3, n_estimators=81, min_samples_split=2, random_state=1, max_features=1999, score=0.941724 - 8.2min\n",
      "[CV] n_jobs=-1, min_samples_leaf=4, n_estimators=88, min_samples_split=4, random_state=1, max_features=2597 \n",
      "[CV]  n_jobs=-1, min_samples_leaf=4, n_estimators=88, min_samples_split=4, random_state=1, max_features=2597, score=0.937855 -10.5min\n",
      "[CV] n_jobs=-1, min_samples_leaf=4, n_estimators=88, min_samples_split=4, random_state=1, max_features=2597 \n",
      "[CV]  n_jobs=-1, min_samples_leaf=4, n_estimators=88, min_samples_split=4, random_state=1, max_features=2597, score=0.938267 -10.4min\n",
      "[CV] n_jobs=-1, min_samples_leaf=4, n_estimators=88, min_samples_split=4, random_state=1, max_features=2597 \n",
      "[CV]  n_jobs=-1, min_samples_leaf=4, n_estimators=88, min_samples_split=4, random_state=1, max_features=2597, score=0.940601 -10.3min\n",
      "[CV] n_jobs=-1, min_samples_leaf=4, n_estimators=63, min_samples_split=3, random_state=1, max_features=1537 \n",
      "[CV]  n_jobs=-1, min_samples_leaf=4, n_estimators=63, min_samples_split=3, random_state=1, max_features=1537, score=0.937855 - 5.3min\n",
      "[CV] n_jobs=-1, min_samples_leaf=4, n_estimators=63, min_samples_split=3, random_state=1, max_features=1537 \n",
      "[CV]  n_jobs=-1, min_samples_leaf=4, n_estimators=63, min_samples_split=3, random_state=1, max_features=1537, score=0.937498 - 5.2min\n",
      "[CV] n_jobs=-1, min_samples_leaf=4, n_estimators=63, min_samples_split=3, random_state=1, max_features=1537 \n",
      "[CV]  n_jobs=-1, min_samples_leaf=4, n_estimators=63, min_samples_split=3, random_state=1, max_features=1537, score=0.940571 - 5.2min\n",
      "[CV] n_jobs=-1, min_samples_leaf=4, n_estimators=57, min_samples_split=2, random_state=1, max_features=984 \n",
      "[CV]  n_jobs=-1, min_samples_leaf=4, n_estimators=57, min_samples_split=2, random_state=1, max_features=984, score=0.937411 - 3.8min\n",
      "[CV] n_jobs=-1, min_samples_leaf=4, n_estimators=57, min_samples_split=2, random_state=1, max_features=984 \n",
      "[CV]  n_jobs=-1, min_samples_leaf=4, n_estimators=57, min_samples_split=2, random_state=1, max_features=984, score=0.936463 - 3.8min\n",
      "[CV] n_jobs=-1, min_samples_leaf=4, n_estimators=57, min_samples_split=2, random_state=1, max_features=984 \n",
      "[CV]  n_jobs=-1, min_samples_leaf=4, n_estimators=57, min_samples_split=2, random_state=1, max_features=984, score=0.938590 - 3.7min\n",
      "[CV] n_jobs=-1, min_samples_leaf=2, n_estimators=56, min_samples_split=2, random_state=1, max_features=1168 \n",
      "[CV]  n_jobs=-1, min_samples_leaf=2, n_estimators=56, min_samples_split=2, random_state=1, max_features=1168, score=0.941610 - 4.3min\n",
      "[CV] n_jobs=-1, min_samples_leaf=2, n_estimators=56, min_samples_split=2, random_state=1, max_features=1168 \n"
     ]
    },
    {
     "name": "stderr",
     "output_type": "stream",
     "text": [
      "[Parallel(n_jobs=1)]: Done  31 tasks       | elapsed: 210.6min\n"
     ]
    },
    {
     "name": "stdout",
     "output_type": "stream",
     "text": [
      "[CV]  n_jobs=-1, min_samples_leaf=2, n_estimators=56, min_samples_split=2, random_state=1, max_features=1168, score=0.940721 - 4.3min\n",
      "[CV] n_jobs=-1, min_samples_leaf=2, n_estimators=56, min_samples_split=2, random_state=1, max_features=1168 \n",
      "[CV]  n_jobs=-1, min_samples_leaf=2, n_estimators=56, min_samples_split=2, random_state=1, max_features=1168, score=0.942877 - 4.3min\n",
      "[CV] n_jobs=-1, min_samples_leaf=4, n_estimators=56, min_samples_split=2, random_state=1, max_features=817 \n",
      "[CV]  n_jobs=-1, min_samples_leaf=4, n_estimators=56, min_samples_split=2, random_state=1, max_features=817, score=0.936583 - 3.4min\n",
      "[CV] n_jobs=-1, min_samples_leaf=4, n_estimators=56, min_samples_split=2, random_state=1, max_features=817 \n",
      "[CV]  n_jobs=-1, min_samples_leaf=4, n_estimators=56, min_samples_split=2, random_state=1, max_features=817, score=0.936434 - 3.4min\n",
      "[CV] n_jobs=-1, min_samples_leaf=4, n_estimators=56, min_samples_split=2, random_state=1, max_features=817 \n",
      "[CV]  n_jobs=-1, min_samples_leaf=4, n_estimators=56, min_samples_split=2, random_state=1, max_features=817, score=0.938324 - 3.4min\n",
      "[CV] n_jobs=-1, min_samples_leaf=1, n_estimators=51, min_samples_split=4, random_state=1, max_features=2525 \n",
      "[CV]  n_jobs=-1, min_samples_leaf=1, n_estimators=51, min_samples_split=4, random_state=1, max_features=2525, score=0.940161 - 7.3min\n",
      "[CV] n_jobs=-1, min_samples_leaf=1, n_estimators=51, min_samples_split=4, random_state=1, max_features=2525 \n",
      "[CV]  n_jobs=-1, min_samples_leaf=1, n_estimators=51, min_samples_split=4, random_state=1, max_features=2525, score=0.939627 - 7.4min\n",
      "[CV] n_jobs=-1, min_samples_leaf=1, n_estimators=51, min_samples_split=4, random_state=1, max_features=2525 \n",
      "[CV]  n_jobs=-1, min_samples_leaf=1, n_estimators=51, min_samples_split=4, random_state=1, max_features=2525, score=0.942138 - 7.1min\n",
      "[CV] n_jobs=-1, min_samples_leaf=1, n_estimators=35, min_samples_split=3, random_state=1, max_features=2496 \n",
      "[CV]  n_jobs=-1, min_samples_leaf=1, n_estimators=35, min_samples_split=3, random_state=1, max_features=2496, score=0.939244 - 5.0min\n",
      "[CV] n_jobs=-1, min_samples_leaf=1, n_estimators=35, min_samples_split=3, random_state=1, max_features=2496 \n",
      "[CV]  n_jobs=-1, min_samples_leaf=1, n_estimators=35, min_samples_split=3, random_state=1, max_features=2496, score=0.938799 - 5.0min\n",
      "[CV] n_jobs=-1, min_samples_leaf=1, n_estimators=35, min_samples_split=3, random_state=1, max_features=2496 \n",
      "[CV]  n_jobs=-1, min_samples_leaf=1, n_estimators=35, min_samples_split=3, random_state=1, max_features=2496, score=0.941074 - 5.0min\n",
      "[CV] n_jobs=-1, min_samples_leaf=2, n_estimators=99, min_samples_split=3, random_state=1, max_features=1611 \n",
      "[CV]  n_jobs=-1, min_samples_leaf=2, n_estimators=99, min_samples_split=3, random_state=1, max_features=1611, score=0.941136 - 9.1min\n",
      "[CV] n_jobs=-1, min_samples_leaf=2, n_estimators=99, min_samples_split=3, random_state=1, max_features=1611 \n",
      "[CV]  n_jobs=-1, min_samples_leaf=2, n_estimators=99, min_samples_split=3, random_state=1, max_features=1611, score=0.940869 - 9.0min\n",
      "[CV] n_jobs=-1, min_samples_leaf=2, n_estimators=99, min_samples_split=3, random_state=1, max_features=1611 \n",
      "[CV]  n_jobs=-1, min_samples_leaf=2, n_estimators=99, min_samples_split=3, random_state=1, max_features=1611, score=0.943912 - 9.2min\n",
      "[CV] n_jobs=-1, min_samples_leaf=4, n_estimators=88, min_samples_split=4, random_state=1, max_features=1964 \n",
      "[CV]  n_jobs=-1, min_samples_leaf=4, n_estimators=88, min_samples_split=4, random_state=1, max_features=1964, score=0.938564 - 8.5min\n",
      "[CV] n_jobs=-1, min_samples_leaf=4, n_estimators=88, min_samples_split=4, random_state=1, max_features=1964 \n",
      "[CV]  n_jobs=-1, min_samples_leaf=4, n_estimators=88, min_samples_split=4, random_state=1, max_features=1964, score=0.937587 - 8.4min\n",
      "[CV] n_jobs=-1, min_samples_leaf=4, n_estimators=88, min_samples_split=4, random_state=1, max_features=1964 \n",
      "[CV]  n_jobs=-1, min_samples_leaf=4, n_estimators=88, min_samples_split=4, random_state=1, max_features=1964, score=0.940276 - 8.5min\n",
      "[CV] n_jobs=-1, min_samples_leaf=2, n_estimators=83, min_samples_split=3, random_state=1, max_features=792 \n",
      "[CV]  n_jobs=-1, min_samples_leaf=2, n_estimators=83, min_samples_split=3, random_state=1, max_features=792, score=0.940663 - 5.2min\n",
      "[CV] n_jobs=-1, min_samples_leaf=2, n_estimators=83, min_samples_split=3, random_state=1, max_features=792 \n",
      "[CV]  n_jobs=-1, min_samples_leaf=2, n_estimators=83, min_samples_split=3, random_state=1, max_features=792, score=0.940218 - 5.1min\n",
      "[CV] n_jobs=-1, min_samples_leaf=2, n_estimators=83, min_samples_split=3, random_state=1, max_features=792 \n",
      "[CV]  n_jobs=-1, min_samples_leaf=2, n_estimators=83, min_samples_split=3, random_state=1, max_features=792, score=0.942818 - 5.1min\n",
      "[CV] n_jobs=-1, min_samples_leaf=2, n_estimators=91, min_samples_split=4, random_state=1, max_features=2952 \n",
      "[CV]  n_jobs=-1, min_samples_leaf=2, n_estimators=91, min_samples_split=4, random_state=1, max_features=2952, score=0.940900 -13.3min\n",
      "[CV] n_jobs=-1, min_samples_leaf=2, n_estimators=91, min_samples_split=4, random_state=1, max_features=2952 \n",
      "[CV]  n_jobs=-1, min_samples_leaf=2, n_estimators=91, min_samples_split=4, random_state=1, max_features=2952, score=0.940898 -13.2min\n",
      "[CV] n_jobs=-1, min_samples_leaf=2, n_estimators=91, min_samples_split=4, random_state=1, max_features=2952 \n",
      "[CV]  n_jobs=-1, min_samples_leaf=2, n_estimators=91, min_samples_split=4, random_state=1, max_features=2952, score=0.942996 -13.2min\n",
      "[CV] n_jobs=-1, min_samples_leaf=2, n_estimators=45, min_samples_split=3, random_state=1, max_features=2116 \n",
      "[CV]  n_jobs=-1, min_samples_leaf=2, n_estimators=45, min_samples_split=3, random_state=1, max_features=2116, score=0.940959 - 5.2min\n",
      "[CV] n_jobs=-1, min_samples_leaf=2, n_estimators=45, min_samples_split=3, random_state=1, max_features=2116 \n",
      "[CV]  n_jobs=-1, min_samples_leaf=2, n_estimators=45, min_samples_split=3, random_state=1, max_features=2116, score=0.940750 - 5.1min\n",
      "[CV] n_jobs=-1, min_samples_leaf=2, n_estimators=45, min_samples_split=3, random_state=1, max_features=2116 \n",
      "[CV]  n_jobs=-1, min_samples_leaf=2, n_estimators=45, min_samples_split=3, random_state=1, max_features=2116, score=0.942227 - 5.0min\n",
      "[CV] n_jobs=-1, min_samples_leaf=4, n_estimators=72, min_samples_split=2, random_state=1, max_features=2885 \n",
      "[CV]  n_jobs=-1, min_samples_leaf=4, n_estimators=72, min_samples_split=2, random_state=1, max_features=2885, score=0.938860 - 9.3min\n",
      "[CV] n_jobs=-1, min_samples_leaf=4, n_estimators=72, min_samples_split=2, random_state=1, max_features=2885 \n",
      "[CV]  n_jobs=-1, min_samples_leaf=4, n_estimators=72, min_samples_split=2, random_state=1, max_features=2885, score=0.938415 - 9.2min\n",
      "[CV] n_jobs=-1, min_samples_leaf=4, n_estimators=72, min_samples_split=2, random_state=1, max_features=2885 \n",
      "[CV]  n_jobs=-1, min_samples_leaf=4, n_estimators=72, min_samples_split=2, random_state=1, max_features=2885, score=0.940660 - 9.3min\n",
      "[CV] n_jobs=-1, min_samples_leaf=1, n_estimators=96, min_samples_split=3, random_state=1, max_features=2297 \n",
      "[CV]  n_jobs=-1, min_samples_leaf=1, n_estimators=96, min_samples_split=3, random_state=1, max_features=2297, score=0.940841 -12.6min\n",
      "[CV] n_jobs=-1, min_samples_leaf=1, n_estimators=96, min_samples_split=3, random_state=1, max_features=2297 \n",
      "[CV]  n_jobs=-1, min_samples_leaf=1, n_estimators=96, min_samples_split=3, random_state=1, max_features=2297, score=0.940455 -12.4min\n",
      "[CV] n_jobs=-1, min_samples_leaf=1, n_estimators=96, min_samples_split=3, random_state=1, max_features=2297 \n",
      "[CV]  n_jobs=-1, min_samples_leaf=1, n_estimators=96, min_samples_split=3, random_state=1, max_features=2297, score=0.941547 -12.4min\n",
      "[CV] n_jobs=-1, min_samples_leaf=4, n_estimators=44, min_samples_split=3, random_state=1, max_features=1666 \n",
      "[CV]  n_jobs=-1, min_samples_leaf=4, n_estimators=44, min_samples_split=3, random_state=1, max_features=1666, score=0.938239 - 3.9min\n",
      "[CV] n_jobs=-1, min_samples_leaf=4, n_estimators=44, min_samples_split=3, random_state=1, max_features=1666 \n",
      "[CV]  n_jobs=-1, min_samples_leaf=4, n_estimators=44, min_samples_split=3, random_state=1, max_features=1666, score=0.937823 - 3.9min\n",
      "[CV] n_jobs=-1, min_samples_leaf=4, n_estimators=44, min_samples_split=3, random_state=1, max_features=1666 \n",
      "[CV]  n_jobs=-1, min_samples_leaf=4, n_estimators=44, min_samples_split=3, random_state=1, max_features=1666, score=0.940364 - 3.9min\n",
      "[CV] n_jobs=-1, min_samples_leaf=1, n_estimators=83, min_samples_split=4, random_state=1, max_features=2815 \n",
      "[CV]  n_jobs=-1, min_samples_leaf=1, n_estimators=83, min_samples_split=4, random_state=1, max_features=2815, score=0.940397 -13.6min\n",
      "[CV] n_jobs=-1, min_samples_leaf=1, n_estimators=83, min_samples_split=4, random_state=1, max_features=2815 \n",
      "[CV]  n_jobs=-1, min_samples_leaf=1, n_estimators=83, min_samples_split=4, random_state=1, max_features=2815, score=0.940189 -13.4min\n",
      "[CV] n_jobs=-1, min_samples_leaf=1, n_estimators=83, min_samples_split=4, random_state=1, max_features=2815 \n",
      "[CV]  n_jobs=-1, min_samples_leaf=1, n_estimators=83, min_samples_split=4, random_state=1, max_features=2815, score=0.943084 -22.4min\n",
      "[CV] n_jobs=-1, min_samples_leaf=2, n_estimators=87, min_samples_split=3, random_state=1, max_features=2738 \n",
      "[CV]  n_jobs=-1, min_samples_leaf=2, n_estimators=87, min_samples_split=3, random_state=1, max_features=2738, score=0.940368 -26.4min\n",
      "[CV] n_jobs=-1, min_samples_leaf=2, n_estimators=87, min_samples_split=3, random_state=1, max_features=2738 \n",
      "[CV]  n_jobs=-1, min_samples_leaf=2, n_estimators=87, min_samples_split=3, random_state=1, max_features=2738, score=0.940603 -27.7min\n",
      "[CV] n_jobs=-1, min_samples_leaf=2, n_estimators=87, min_samples_split=3, random_state=1, max_features=2738 \n",
      "[CV]  n_jobs=-1, min_samples_leaf=2, n_estimators=87, min_samples_split=3, random_state=1, max_features=2738, score=0.942050 -19.9min\n",
      "[CV] n_jobs=-1, min_samples_leaf=2, n_estimators=43, min_samples_split=3, random_state=1, max_features=1770 \n",
      "[CV]  n_jobs=-1, min_samples_leaf=2, n_estimators=43, min_samples_split=3, random_state=1, max_features=1770, score=0.941196 -10.5min\n",
      "[CV] n_jobs=-1, min_samples_leaf=2, n_estimators=43, min_samples_split=3, random_state=1, max_features=1770 \n",
      "[CV]  n_jobs=-1, min_samples_leaf=2, n_estimators=43, min_samples_split=3, random_state=1, max_features=1770, score=0.939302 -10.0min\n",
      "[CV] n_jobs=-1, min_samples_leaf=2, n_estimators=43, min_samples_split=3, random_state=1, max_features=1770 \n",
      "[CV]  n_jobs=-1, min_samples_leaf=2, n_estimators=43, min_samples_split=3, random_state=1, max_features=1770, score=0.942789 -11.3min\n",
      "[CV] n_jobs=-1, min_samples_leaf=1, n_estimators=40, min_samples_split=4, random_state=1, max_features=842 \n",
      "[CV]  n_jobs=-1, min_samples_leaf=1, n_estimators=40, min_samples_split=4, random_state=1, max_features=842, score=0.940959 - 4.3min\n",
      "[CV] n_jobs=-1, min_samples_leaf=1, n_estimators=40, min_samples_split=4, random_state=1, max_features=842 \n",
      "[CV]  n_jobs=-1, min_samples_leaf=1, n_estimators=40, min_samples_split=4, random_state=1, max_features=842, score=0.940129 - 4.6min\n",
      "[CV] n_jobs=-1, min_samples_leaf=1, n_estimators=40, min_samples_split=4, random_state=1, max_features=842 \n",
      "[CV]  n_jobs=-1, min_samples_leaf=1, n_estimators=40, min_samples_split=4, random_state=1, max_features=842, score=0.942730 - 6.5min\n",
      "[CV] n_jobs=-1, min_samples_leaf=2, n_estimators=35, min_samples_split=3, random_state=1, max_features=1233 \n",
      "[CV]  n_jobs=-1, min_samples_leaf=2, n_estimators=35, min_samples_split=3, random_state=1, max_features=1233, score=0.941343 - 6.4min\n",
      "[CV] n_jobs=-1, min_samples_leaf=2, n_estimators=35, min_samples_split=3, random_state=1, max_features=1233 \n",
      "[CV]  n_jobs=-1, min_samples_leaf=2, n_estimators=35, min_samples_split=3, random_state=1, max_features=1233, score=0.940218 - 7.0min\n",
      "[CV] n_jobs=-1, min_samples_leaf=2, n_estimators=35, min_samples_split=3, random_state=1, max_features=1233 \n",
      "[CV]  n_jobs=-1, min_samples_leaf=2, n_estimators=35, min_samples_split=3, random_state=1, max_features=1233, score=0.941783 - 3.9min\n",
      "[CV] n_jobs=-1, min_samples_leaf=4, n_estimators=47, min_samples_split=4, random_state=1, max_features=1807 \n",
      "[CV]  n_jobs=-1, min_samples_leaf=4, n_estimators=47, min_samples_split=4, random_state=1, max_features=1807, score=0.937737 - 6.6min\n",
      "[CV] n_jobs=-1, min_samples_leaf=4, n_estimators=47, min_samples_split=4, random_state=1, max_features=1807 \n",
      "[CV]  n_jobs=-1, min_samples_leaf=4, n_estimators=47, min_samples_split=4, random_state=1, max_features=1807, score=0.937469 - 5.6min\n",
      "[CV] n_jobs=-1, min_samples_leaf=4, n_estimators=47, min_samples_split=4, random_state=1, max_features=1807 \n",
      "[CV]  n_jobs=-1, min_samples_leaf=4, n_estimators=47, min_samples_split=4, random_state=1, max_features=1807, score=0.938886 - 5.7min\n",
      "[CV] n_jobs=-1, min_samples_leaf=2, n_estimators=35, min_samples_split=2, random_state=1, max_features=2275 \n",
      "[CV]  n_jobs=-1, min_samples_leaf=2, n_estimators=35, min_samples_split=2, random_state=1, max_features=2275, score=0.941373 - 5.7min\n",
      "[CV] n_jobs=-1, min_samples_leaf=2, n_estimators=35, min_samples_split=2, random_state=1, max_features=2275 \n",
      "[CV]  n_jobs=-1, min_samples_leaf=2, n_estimators=35, min_samples_split=2, random_state=1, max_features=2275, score=0.940396 -11.1min\n",
      "[CV] n_jobs=-1, min_samples_leaf=2, n_estimators=35, min_samples_split=2, random_state=1, max_features=2275 \n",
      "[CV]  n_jobs=-1, min_samples_leaf=2, n_estimators=35, min_samples_split=2, random_state=1, max_features=2275, score=0.942345 - 8.2min\n",
      "[CV] n_jobs=-1, min_samples_leaf=3, n_estimators=35, min_samples_split=3, random_state=1, max_features=968 \n",
      "[CV]  n_jobs=-1, min_samples_leaf=3, n_estimators=35, min_samples_split=3, random_state=1, max_features=968, score=0.938742 - 5.9min\n",
      "[CV] n_jobs=-1, min_samples_leaf=3, n_estimators=35, min_samples_split=3, random_state=1, max_features=968 \n",
      "[CV]  n_jobs=-1, min_samples_leaf=3, n_estimators=35, min_samples_split=3, random_state=1, max_features=968, score=0.939213 - 5.6min\n",
      "[CV] n_jobs=-1, min_samples_leaf=3, n_estimators=35, min_samples_split=3, random_state=1, max_features=968 \n",
      "[CV]  n_jobs=-1, min_samples_leaf=3, n_estimators=35, min_samples_split=3, random_state=1, max_features=968, score=0.939862 - 5.9min\n"
     ]
    },
    {
     "name": "stderr",
     "output_type": "stream",
     "text": [
      "[Parallel(n_jobs=1)]: Done  90 out of  90 | elapsed: 715.4min finished\n"
     ]
    },
    {
     "data": {
      "text/plain": [
       "RandomizedSearchCV(cv=3, error_score='raise',\n",
       "          estimator=ExtraTreesClassifier(bootstrap=False, class_weight=None, criterion='gini',\n",
       "           max_depth=None, max_features='auto', max_leaf_nodes=None,\n",
       "           min_samples_leaf=1, min_samples_split=2,\n",
       "           min_weight_fraction_leaf=0.0, n_estimators=10, n_jobs=1,\n",
       "           oob_score=False, random_state=None, verbose=0, warm_start=False),\n",
       "          fit_params={}, iid=True, n_iter=30, n_jobs=1,\n",
       "          param_distributions={'n_jobs': [-1], 'min_samples_leaf': <scipy.stats._distn_infrastructure.rv_frozen object at 0x10d0a6650>, 'n_estimators': <scipy.stats._distn_infrastructure.rv_frozen object at 0x10c2b6bd0>, 'min_samples_split': <scipy.stats._distn_infrastructure.rv_frozen object at 0x10c4d3050>, 'random_state': [1], 'max_features': <scipy.stats._distn_infrastructure.rv_frozen object at 0x1074fff90>},\n",
       "          pre_dispatch='2*n_jobs', random_state=None, refit=True,\n",
       "          scoring=None, verbose=3)"
      ]
     },
     "execution_count": 6,
     "metadata": {},
     "output_type": "execute_result"
    }
   ],
   "source": [
    "params = {\n",
    "    'n_estimators': sp_randint(35, 100),\n",
    "    'max_features': sp_randint(750, 3000),\n",
    "    'min_samples_split': sp_randint(2, 5),\n",
    "    'min_samples_leaf': sp_randint(1, 5),\n",
    "    'random_state': [1],\n",
    "    'n_jobs': [-1]\n",
    "}\n",
    "classifier = ExtraTreesClassifier()\n",
    "search_results2 = RandomizedSearchCV(estimator = classifier,\n",
    "                                        param_distributions = params,\n",
    "                                        n_iter = 30, n_jobs = 1,\n",
    "                                        cv = 3, verbose = 3 )\n",
    "# GridLogiClassifier = GridSearchCV(estimator = classifier, param_grid=params, n_jobs=1, cv=4, verbose=2)\n",
    "search_results2.fit(train_data_combo, train_labels)"
   ]
  },
  {
   "cell_type": "markdown",
   "metadata": {},
   "source": [
    "# With first engineered feature"
   ]
  },
  {
   "cell_type": "code",
   "execution_count": 7,
   "metadata": {
    "collapsed": false
   },
   "outputs": [
    {
     "data": {
      "text/plain": [
       "0.94197242507563883"
      ]
     },
     "execution_count": 7,
     "metadata": {},
     "output_type": "execute_result"
    }
   ],
   "source": [
    "search_results2.best_score_"
   ]
  },
  {
   "cell_type": "code",
   "execution_count": 8,
   "metadata": {
    "collapsed": false
   },
   "outputs": [
    {
     "data": {
      "text/plain": [
       "{'max_features': 1611,\n",
       " 'min_samples_leaf': 2,\n",
       " 'min_samples_split': 3,\n",
       " 'n_estimators': 99,\n",
       " 'n_jobs': -1,\n",
       " 'random_state': 1}"
      ]
     },
     "execution_count": 8,
     "metadata": {},
     "output_type": "execute_result"
    }
   ],
   "source": [
    "search_results2.best_params_"
   ]
  },
  {
   "cell_type": "code",
   "execution_count": 9,
   "metadata": {
    "collapsed": false
   },
   "outputs": [
    {
     "data": {
      "text/plain": [
       "[mean: 0.94160, std: 0.00085, params: {'n_jobs': -1, 'min_samples_leaf': 1, 'n_estimators': 75, 'min_samples_split': 2, 'random_state': 1, 'max_features': 1410},\n",
       " mean: 0.94126, std: 0.00125, params: {'n_jobs': -1, 'min_samples_leaf': 2, 'n_estimators': 43, 'min_samples_split': 2, 'random_state': 1, 'max_features': 2500},\n",
       " mean: 0.94138, std: 0.00071, params: {'n_jobs': -1, 'min_samples_leaf': 1, 'n_estimators': 76, 'min_samples_split': 4, 'random_state': 1, 'max_features': 1913},\n",
       " mean: 0.93885, std: 0.00134, params: {'n_jobs': -1, 'min_samples_leaf': 4, 'n_estimators': 95, 'min_samples_split': 2, 'random_state': 1, 'max_features': 2407},\n",
       " mean: 0.94002, std: 0.00084, params: {'n_jobs': -1, 'min_samples_leaf': 3, 'n_estimators': 39, 'min_samples_split': 2, 'random_state': 1, 'max_features': 2717},\n",
       " mean: 0.93749, std: 0.00087, params: {'n_jobs': -1, 'min_samples_leaf': 4, 'n_estimators': 57, 'min_samples_split': 2, 'random_state': 1, 'max_features': 984},\n",
       " mean: 0.94015, std: 0.00111, params: {'n_jobs': -1, 'min_samples_leaf': 3, 'n_estimators': 81, 'min_samples_split': 2, 'random_state': 1, 'max_features': 1999},\n",
       " mean: 0.93891, std: 0.00121, params: {'n_jobs': -1, 'min_samples_leaf': 4, 'n_estimators': 88, 'min_samples_split': 4, 'random_state': 1, 'max_features': 2597},\n",
       " mean: 0.93864, std: 0.00137, params: {'n_jobs': -1, 'min_samples_leaf': 4, 'n_estimators': 63, 'min_samples_split': 3, 'random_state': 1, 'max_features': 1537},\n",
       " mean: 0.93749, std: 0.00087, params: {'n_jobs': -1, 'min_samples_leaf': 4, 'n_estimators': 57, 'min_samples_split': 2, 'random_state': 1, 'max_features': 984},\n",
       " mean: 0.94174, std: 0.00088, params: {'n_jobs': -1, 'min_samples_leaf': 2, 'n_estimators': 56, 'min_samples_split': 2, 'random_state': 1, 'max_features': 1168},\n",
       " mean: 0.93711, std: 0.00086, params: {'n_jobs': -1, 'min_samples_leaf': 4, 'n_estimators': 56, 'min_samples_split': 2, 'random_state': 1, 'max_features': 817},\n",
       " mean: 0.94064, std: 0.00108, params: {'n_jobs': -1, 'min_samples_leaf': 1, 'n_estimators': 51, 'min_samples_split': 4, 'random_state': 1, 'max_features': 2525},\n",
       " mean: 0.93971, std: 0.00098, params: {'n_jobs': -1, 'min_samples_leaf': 1, 'n_estimators': 35, 'min_samples_split': 3, 'random_state': 1, 'max_features': 2496},\n",
       " mean: 0.94197, std: 0.00138, params: {'n_jobs': -1, 'min_samples_leaf': 2, 'n_estimators': 99, 'min_samples_split': 3, 'random_state': 1, 'max_features': 1611},\n",
       " mean: 0.93881, std: 0.00111, params: {'n_jobs': -1, 'min_samples_leaf': 4, 'n_estimators': 88, 'min_samples_split': 4, 'random_state': 1, 'max_features': 1964},\n",
       " mean: 0.94123, std: 0.00114, params: {'n_jobs': -1, 'min_samples_leaf': 2, 'n_estimators': 83, 'min_samples_split': 3, 'random_state': 1, 'max_features': 792},\n",
       " mean: 0.94160, std: 0.00099, params: {'n_jobs': -1, 'min_samples_leaf': 2, 'n_estimators': 91, 'min_samples_split': 4, 'random_state': 1, 'max_features': 2952},\n",
       " mean: 0.94131, std: 0.00065, params: {'n_jobs': -1, 'min_samples_leaf': 2, 'n_estimators': 45, 'min_samples_split': 3, 'random_state': 1, 'max_features': 2116},\n",
       " mean: 0.93931, std: 0.00097, params: {'n_jobs': -1, 'min_samples_leaf': 4, 'n_estimators': 72, 'min_samples_split': 2, 'random_state': 1, 'max_features': 2885},\n",
       " mean: 0.94095, std: 0.00045, params: {'n_jobs': -1, 'min_samples_leaf': 1, 'n_estimators': 96, 'min_samples_split': 3, 'random_state': 1, 'max_features': 2297},\n",
       " mean: 0.93881, std: 0.00111, params: {'n_jobs': -1, 'min_samples_leaf': 4, 'n_estimators': 44, 'min_samples_split': 3, 'random_state': 1, 'max_features': 1666},\n",
       " mean: 0.94122, std: 0.00132, params: {'n_jobs': -1, 'min_samples_leaf': 1, 'n_estimators': 83, 'min_samples_split': 4, 'random_state': 1, 'max_features': 2815},\n",
       " mean: 0.94101, std: 0.00074, params: {'n_jobs': -1, 'min_samples_leaf': 2, 'n_estimators': 87, 'min_samples_split': 3, 'random_state': 1, 'max_features': 2738},\n",
       " mean: 0.94110, std: 0.00143, params: {'n_jobs': -1, 'min_samples_leaf': 2, 'n_estimators': 43, 'min_samples_split': 3, 'random_state': 1, 'max_features': 1770},\n",
       " mean: 0.94127, std: 0.00108, params: {'n_jobs': -1, 'min_samples_leaf': 1, 'n_estimators': 40, 'min_samples_split': 4, 'random_state': 1, 'max_features': 842},\n",
       " mean: 0.94112, std: 0.00066, params: {'n_jobs': -1, 'min_samples_leaf': 2, 'n_estimators': 35, 'min_samples_split': 3, 'random_state': 1, 'max_features': 1233},\n",
       " mean: 0.93803, std: 0.00061, params: {'n_jobs': -1, 'min_samples_leaf': 4, 'n_estimators': 47, 'min_samples_split': 4, 'random_state': 1, 'max_features': 1807},\n",
       " mean: 0.94137, std: 0.00080, params: {'n_jobs': -1, 'min_samples_leaf': 2, 'n_estimators': 35, 'min_samples_split': 2, 'random_state': 1, 'max_features': 2275},\n",
       " mean: 0.93927, std: 0.00046, params: {'n_jobs': -1, 'min_samples_leaf': 3, 'n_estimators': 35, 'min_samples_split': 3, 'random_state': 1, 'max_features': 968}]"
      ]
     },
     "execution_count": 9,
     "metadata": {},
     "output_type": "execute_result"
    }
   ],
   "source": [
    "search_results2.grid_scores_"
   ]
  },
  {
   "cell_type": "markdown",
   "metadata": {},
   "source": [
    "## First Run (coarse)"
   ]
  },
  {
   "cell_type": "code",
   "execution_count": 5,
   "metadata": {
    "collapsed": false
   },
   "outputs": [
    {
     "data": {
      "text/plain": [
       "0.94095733672353132"
      ]
     },
     "execution_count": 5,
     "metadata": {},
     "output_type": "execute_result"
    }
   ],
   "source": [
    "search_results.best_score_"
   ]
  },
  {
   "cell_type": "code",
   "execution_count": 6,
   "metadata": {
    "collapsed": false
   },
   "outputs": [
    {
     "data": {
      "text/plain": [
       "[mean: 0.92432, std: 0.00103, params: {'n_jobs': -1, 'min_samples_leaf': 4, 'n_estimators': 68, 'min_samples_split': 2, 'random_state': 1, 'max_features': 2629, 'max_depth': 20},\n",
       " mean: 0.92386, std: 0.00149, params: {'n_jobs': -1, 'min_samples_leaf': 4, 'n_estimators': 45, 'min_samples_split': 2, 'random_state': 1, 'max_features': 2456, 'max_depth': 20},\n",
       " mean: 0.93975, std: 0.00134, params: {'n_jobs': -1, 'min_samples_leaf': 3, 'n_estimators': 95, 'min_samples_split': 4, 'random_state': 1, 'max_features': 1770, 'max_depth': None},\n",
       " mean: 0.93868, std: 0.00133, params: {'n_jobs': -1, 'min_samples_leaf': 3, 'n_estimators': 23, 'min_samples_split': 3, 'random_state': 1, 'max_features': 1371, 'max_depth': None},\n",
       " mean: 0.88300, std: 0.00219, params: {'n_jobs': -1, 'min_samples_leaf': 2, 'n_estimators': 26, 'min_samples_split': 3, 'random_state': 1, 'max_features': 1906, 'max_depth': 10},\n",
       " mean: 0.94083, std: 0.00082, params: {'n_jobs': -1, 'min_samples_leaf': 1, 'n_estimators': 40, 'min_samples_split': 3, 'random_state': 1, 'max_features': 1743, 'max_depth': None},\n",
       " mean: 0.88177, std: 0.00386, params: {'n_jobs': -1, 'min_samples_leaf': 4, 'n_estimators': 98, 'min_samples_split': 3, 'random_state': 1, 'max_features': 2742, 'max_depth': 10},\n",
       " mean: 0.88130, std: 0.00336, params: {'n_jobs': -1, 'min_samples_leaf': 1, 'n_estimators': 78, 'min_samples_split': 2, 'random_state': 1, 'max_features': 843, 'max_depth': 10},\n",
       " mean: 0.93983, std: 0.00070, params: {'n_jobs': -1, 'min_samples_leaf': 1, 'n_estimators': 53, 'min_samples_split': 2, 'random_state': 1, 'max_features': 1673, 'max_depth': None},\n",
       " mean: 0.92704, std: 0.00186, params: {'n_jobs': -1, 'min_samples_leaf': 1, 'n_estimators': 44, 'min_samples_split': 4, 'random_state': 1, 'max_features': 1565, 'max_depth': 20},\n",
       " mean: 0.88580, std: 0.00181, params: {'n_jobs': -1, 'min_samples_leaf': 1, 'n_estimators': 64, 'min_samples_split': 3, 'random_state': 1, 'max_features': 1121, 'max_depth': 10},\n",
       " mean: 0.94096, std: 0.00115, params: {'n_jobs': -1, 'min_samples_leaf': 2, 'n_estimators': 97, 'min_samples_split': 2, 'random_state': 1, 'max_features': 2551, 'max_depth': None},\n",
       " mean: 0.93993, std: 0.00058, params: {'n_jobs': -1, 'min_samples_leaf': 2, 'n_estimators': 57, 'min_samples_split': 2, 'random_state': 1, 'max_features': 2639, 'max_depth': None},\n",
       " mean: 0.88399, std: 0.00383, params: {'n_jobs': -1, 'min_samples_leaf': 2, 'n_estimators': 51, 'min_samples_split': 4, 'random_state': 1, 'max_features': 2055, 'max_depth': 10},\n",
       " mean: 0.92508, std: 0.00078, params: {'n_jobs': -1, 'min_samples_leaf': 3, 'n_estimators': 75, 'min_samples_split': 4, 'random_state': 1, 'max_features': 2803, 'max_depth': 20},\n",
       " mean: 0.88425, std: 0.00266, params: {'n_jobs': -1, 'min_samples_leaf': 3, 'n_estimators': 86, 'min_samples_split': 2, 'random_state': 1, 'max_features': 1235, 'max_depth': 10},\n",
       " mean: 0.92491, std: 0.00152, params: {'n_jobs': -1, 'min_samples_leaf': 3, 'n_estimators': 65, 'min_samples_split': 2, 'random_state': 1, 'max_features': 2001, 'max_depth': 20},\n",
       " mean: 0.88351, std: 0.00367, params: {'n_jobs': -1, 'min_samples_leaf': 1, 'n_estimators': 68, 'min_samples_split': 3, 'random_state': 1, 'max_features': 979, 'max_depth': 10},\n",
       " mean: 0.88189, std: 0.00415, params: {'n_jobs': -1, 'min_samples_leaf': 3, 'n_estimators': 94, 'min_samples_split': 4, 'random_state': 1, 'max_features': 2608, 'max_depth': 10},\n",
       " mean: 0.93989, std: 0.00096, params: {'n_jobs': -1, 'min_samples_leaf': 3, 'n_estimators': 92, 'min_samples_split': 2, 'random_state': 1, 'max_features': 2442, 'max_depth': None},\n",
       " mean: 0.88696, std: 0.00151, params: {'n_jobs': -1, 'min_samples_leaf': 2, 'n_estimators': 75, 'min_samples_split': 2, 'random_state': 1, 'max_features': 1543, 'max_depth': 10},\n",
       " mean: 0.87846, std: 0.00426, params: {'n_jobs': -1, 'min_samples_leaf': 3, 'n_estimators': 42, 'min_samples_split': 4, 'random_state': 1, 'max_features': 648, 'max_depth': 10},\n",
       " mean: 0.88208, std: 0.00336, params: {'n_jobs': -1, 'min_samples_leaf': 2, 'n_estimators': 41, 'min_samples_split': 2, 'random_state': 1, 'max_features': 945, 'max_depth': 10},\n",
       " mean: 0.92002, std: 0.00084, params: {'n_jobs': -1, 'min_samples_leaf': 1, 'n_estimators': 71, 'min_samples_split': 3, 'random_state': 1, 'max_features': 367, 'max_depth': 20},\n",
       " mean: 0.93777, std: 0.00129, params: {'n_jobs': -1, 'min_samples_leaf': 4, 'n_estimators': 95, 'min_samples_split': 3, 'random_state': 1, 'max_features': 1464, 'max_depth': None},\n",
       " mean: 0.88489, std: 0.00102, params: {'n_jobs': -1, 'min_samples_leaf': 3, 'n_estimators': 61, 'min_samples_split': 4, 'random_state': 1, 'max_features': 1999, 'max_depth': 10},\n",
       " mean: 0.94036, std: 0.00103, params: {'n_jobs': -1, 'min_samples_leaf': 2, 'n_estimators': 56, 'min_samples_split': 2, 'random_state': 1, 'max_features': 2735, 'max_depth': None},\n",
       " mean: 0.92705, std: 0.00143, params: {'n_jobs': -1, 'min_samples_leaf': 1, 'n_estimators': 39, 'min_samples_split': 3, 'random_state': 1, 'max_features': 1124, 'max_depth': 20},\n",
       " mean: 0.88334, std: 0.00407, params: {'n_jobs': -1, 'min_samples_leaf': 3, 'n_estimators': 60, 'min_samples_split': 2, 'random_state': 1, 'max_features': 2352, 'max_depth': 10},\n",
       " mean: 0.93609, std: 0.00066, params: {'n_jobs': -1, 'min_samples_leaf': 3, 'n_estimators': 37, 'min_samples_split': 2, 'random_state': 1, 'max_features': 512, 'max_depth': None},\n",
       " mean: 0.92363, std: 0.00141, params: {'n_jobs': -1, 'min_samples_leaf': 4, 'n_estimators': 58, 'min_samples_split': 4, 'random_state': 1, 'max_features': 1247, 'max_depth': 20},\n",
       " mean: 0.93760, std: 0.00032, params: {'n_jobs': -1, 'min_samples_leaf': 3, 'n_estimators': 56, 'min_samples_split': 3, 'random_state': 1, 'max_features': 609, 'max_depth': None},\n",
       " mean: 0.92448, std: 0.00141, params: {'n_jobs': -1, 'min_samples_leaf': 3, 'n_estimators': 88, 'min_samples_split': 2, 'random_state': 1, 'max_features': 2374, 'max_depth': 20},\n",
       " mean: 0.92204, std: 0.00134, params: {'n_jobs': -1, 'min_samples_leaf': 4, 'n_estimators': 34, 'min_samples_split': 4, 'random_state': 1, 'max_features': 1287, 'max_depth': 20},\n",
       " mean: 0.93944, std: 0.00166, params: {'n_jobs': -1, 'min_samples_leaf': 2, 'n_estimators': 26, 'min_samples_split': 4, 'random_state': 1, 'max_features': 2480, 'max_depth': None},\n",
       " mean: 0.88717, std: 0.00255, params: {'n_jobs': -1, 'min_samples_leaf': 3, 'n_estimators': 73, 'min_samples_split': 4, 'random_state': 1, 'max_features': 1454, 'max_depth': 10},\n",
       " mean: 0.91928, std: 0.00047, params: {'n_jobs': -1, 'min_samples_leaf': 4, 'n_estimators': 92, 'min_samples_split': 3, 'random_state': 1, 'max_features': 531, 'max_depth': 20},\n",
       " mean: 0.92031, std: 0.00144, params: {'n_jobs': -1, 'min_samples_leaf': 3, 'n_estimators': 89, 'min_samples_split': 4, 'random_state': 1, 'max_features': 549, 'max_depth': 20},\n",
       " mean: 0.94066, std: 0.00080, params: {'n_jobs': -1, 'min_samples_leaf': 2, 'n_estimators': 74, 'min_samples_split': 3, 'random_state': 1, 'max_features': 1507, 'max_depth': None},\n",
       " mean: 0.88275, std: 0.00320, params: {'n_jobs': -1, 'min_samples_leaf': 2, 'n_estimators': 21, 'min_samples_split': 4, 'random_state': 1, 'max_features': 2516, 'max_depth': 10},\n",
       " mean: 0.87191, std: 0.00209, params: {'n_jobs': -1, 'min_samples_leaf': 4, 'n_estimators': 26, 'min_samples_split': 3, 'random_state': 1, 'max_features': 354, 'max_depth': 10},\n",
       " mean: 0.92472, std: 0.00115, params: {'n_jobs': -1, 'min_samples_leaf': 3, 'n_estimators': 20, 'min_samples_split': 4, 'random_state': 1, 'max_features': 1212, 'max_depth': 20},\n",
       " mean: 0.88493, std: 0.00270, params: {'n_jobs': -1, 'min_samples_leaf': 1, 'n_estimators': 44, 'min_samples_split': 4, 'random_state': 1, 'max_features': 1924, 'max_depth': 10},\n",
       " mean: 0.92418, std: 0.00212, params: {'n_jobs': -1, 'min_samples_leaf': 3, 'n_estimators': 51, 'min_samples_split': 4, 'random_state': 1, 'max_features': 1226, 'max_depth': 20},\n",
       " mean: 0.94077, std: 0.00102, params: {'n_jobs': -1, 'min_samples_leaf': 2, 'n_estimators': 39, 'min_samples_split': 3, 'random_state': 1, 'max_features': 1422, 'max_depth': None},\n",
       " mean: 0.93697, std: 0.00156, params: {'n_jobs': -1, 'min_samples_leaf': 4, 'n_estimators': 21, 'min_samples_split': 4, 'random_state': 1, 'max_features': 1575, 'max_depth': None},\n",
       " mean: 0.88333, std: 0.00429, params: {'n_jobs': -1, 'min_samples_leaf': 4, 'n_estimators': 33, 'min_samples_split': 3, 'random_state': 1, 'max_features': 1823, 'max_depth': 10},\n",
       " mean: 0.88312, std: 0.00336, params: {'n_jobs': -1, 'min_samples_leaf': 1, 'n_estimators': 99, 'min_samples_split': 2, 'random_state': 1, 'max_features': 2637, 'max_depth': 10},\n",
       " mean: 0.88189, std: 0.00274, params: {'n_jobs': -1, 'min_samples_leaf': 4, 'n_estimators': 60, 'min_samples_split': 2, 'random_state': 1, 'max_features': 2439, 'max_depth': 10},\n",
       " mean: 0.88486, std: 0.00331, params: {'n_jobs': -1, 'min_samples_leaf': 4, 'n_estimators': 87, 'min_samples_split': 2, 'random_state': 1, 'max_features': 2070, 'max_depth': 10}]"
      ]
     },
     "execution_count": 6,
     "metadata": {},
     "output_type": "execute_result"
    }
   ],
   "source": [
    "search_results.grid_scores_"
   ]
  }
 ],
 "metadata": {
  "kernelspec": {
   "display_name": "Python 2",
   "language": "python",
   "name": "python2"
  },
  "language_info": {
   "codemirror_mode": {
    "name": "ipython",
    "version": 2
   },
   "file_extension": ".py",
   "mimetype": "text/x-python",
   "name": "python",
   "nbconvert_exporter": "python",
   "pygments_lexer": "ipython2",
   "version": "2.7.11"
  }
 },
 "nbformat": 4,
 "nbformat_minor": 0
}
