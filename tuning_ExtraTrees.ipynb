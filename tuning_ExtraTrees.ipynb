{
 "cells": [
  {
   "cell_type": "code",
   "execution_count": 1,
   "metadata": {
    "collapsed": false
   },
   "outputs": [],
   "source": [
    "import csv\n",
    "import numpy as np\n",
    "import pandas as pd\n",
    "import random\n",
    "\n",
    "from scipy.stats import randint as sp_randint\n",
    "from sklearn.model_selection import GridSearchCV, RandomizedSearchCV, train_test_split\n",
    "from sklearn.ensemble import AdaBoostClassifier, BaggingClassifier, ExtraTreesClassifier, RandomForestClassifier, GradientBoostingClassifier\n",
    "from sklearn.linear_model import LogisticRegression, SGDClassifier\n",
    "from sklearn.naive_bayes import GaussianNB, MultinomialNB\n",
    "from sklearn.neighbors import KNeighborsClassifier"
   ]
  },
  {
   "cell_type": "code",
   "execution_count": 2,
   "metadata": {
    "collapsed": false
   },
   "outputs": [
    {
     "name": "stdout",
     "output_type": "stream",
     "text": [
      "Processing numerical data...\n",
      "Processing categorical data...\n",
      "Combining data...\n",
      "Processing finished!\n"
     ]
    }
   ],
   "source": [
    "train = pd.read_csv('data.csv', sep=\",\")\n",
    "test_data = pd.read_csv('quiz.csv', sep=\",\")\n",
    "\n",
    "train_data = train.iloc[:,:-1]\n",
    "train_labels = train.iloc[:,-1]\n",
    "\n",
    "train_data, holdout_data, train_labels, holdout_label = train_test_split(train_data, train_labels, \n",
    "                                                                         test_size=0.2, random_state=1)\n",
    "all_data = pd.concat([train_data, test_data])\n",
    "train_obs = len(train_data)\n",
    "test_obs = len(test_data)\n",
    "\n",
    "# Change dtype of categorical columns\n",
    "categorical_columns = ['0','5','7','8','9','14','16','17','18','20','23','25','26','56','57','58']\n",
    "for i in range(0,len(categorical_columns)):\n",
    "    all_data[categorical_columns[i]] = all_data[categorical_columns[i]].astype('category')\n",
    "    \n",
    "# Only numerical data\n",
    "print('Processing numerical data...')\n",
    "all_data_num = all_data.drop(categorical_columns, axis=1)\n",
    "train_data_num = all_data_num.iloc[0:train_obs,]\n",
    "test_data_num = all_data_num.iloc[train_obs:,]\n",
    "\n",
    "## Feature engineering\n",
    "train_data_num['div'] = (train_data_num.loc[:,'60'] / train_data_num.loc[:,'59'])\n",
    "train_data_num['div'] = train_data_num['div'].fillna(0)\n",
    "test_data_num['div'] = (test_data_num.loc[:,'60'] / test_data_num.loc[:,'59'])\n",
    "test_data_num['div'] = test_data_num['div'].fillna(0)\n",
    "\n",
    "# Only categorical data\n",
    "print('Processing categorical data...')\n",
    "all_data_cat = pd.get_dummies(all_data[categorical_columns])\n",
    "train_data_cat = all_data_cat.iloc[0:train_obs,]\n",
    "test_data_cat = all_data_cat.iloc[train_obs:,]\n",
    "\n",
    "# Combine the two\n",
    "print('Combining data...')\n",
    "train_data_combo = pd.concat([train_data_num, train_data_cat], axis=1)\n",
    "test_data_combo = pd.concat([test_data_num, test_data_cat], axis=1)\n",
    "\n",
    "print('Processing finished!')"
   ]
  },
  {
   "cell_type": "code",
   "execution_count": null,
   "metadata": {
    "collapsed": false
   },
   "outputs": [],
   "source": [
    "params = {\n",
    "    'n_estimators': sp_randint(35, 100),\n",
    "    'max_features': sp_randint(750, 3000),\n",
    "    'min_samples_split': sp_randint(2, 5),\n",
    "    'min_samples_leaf': sp_randint(1, 5),\n",
    "    'random_state': [1],\n",
    "    'n_jobs': [-1]\n",
    "}\n",
    "classifier = ExtraTreesClassifier()\n",
    "search_results2 = RandomizedSearchCV(estimator = classifier,\n",
    "                                        param_distributions = params,\n",
    "                                        n_iter = 30, n_jobs = 1,\n",
    "                                        cv = 3, verbose = 3 )\n",
    "# GridLogiClassifier = GridSearchCV(estimator = classifier, param_grid=params, n_jobs=1, cv=4, verbose=2)\n",
    "search_results2.fit(train_data_combo, train_labels)"
   ]
  },
  {
   "cell_type": "markdown",
   "metadata": {},
   "source": [
    "## With first engineered feature"
   ]
  },
  {
   "cell_type": "code",
   "execution_count": null,
   "metadata": {
    "collapsed": true
   },
   "outputs": [],
   "source": [
    "search_results2.best_score_"
   ]
  },
  {
   "cell_type": "code",
   "execution_count": null,
   "metadata": {
    "collapsed": true
   },
   "outputs": [],
   "source": [
    "search_results2.best_params_"
   ]
  },
  {
   "cell_type": "code",
   "execution_count": null,
   "metadata": {
    "collapsed": true
   },
   "outputs": [],
   "source": [
    "search_results2.grid_scores_"
   ]
  },
  {
   "cell_type": "markdown",
   "metadata": {},
   "source": [
    "## First Run (coarse)"
   ]
  },
  {
   "cell_type": "code",
   "execution_count": 5,
   "metadata": {
    "collapsed": false
   },
   "outputs": [
    {
     "data": {
      "text/plain": [
       "0.94095733672353132"
      ]
     },
     "execution_count": 5,
     "metadata": {},
     "output_type": "execute_result"
    }
   ],
   "source": [
    "search_results.best_score_"
   ]
  },
  {
   "cell_type": "code",
   "execution_count": 6,
   "metadata": {
    "collapsed": false
   },
   "outputs": [
    {
     "data": {
      "text/plain": [
       "[mean: 0.92432, std: 0.00103, params: {'n_jobs': -1, 'min_samples_leaf': 4, 'n_estimators': 68, 'min_samples_split': 2, 'random_state': 1, 'max_features': 2629, 'max_depth': 20},\n",
       " mean: 0.92386, std: 0.00149, params: {'n_jobs': -1, 'min_samples_leaf': 4, 'n_estimators': 45, 'min_samples_split': 2, 'random_state': 1, 'max_features': 2456, 'max_depth': 20},\n",
       " mean: 0.93975, std: 0.00134, params: {'n_jobs': -1, 'min_samples_leaf': 3, 'n_estimators': 95, 'min_samples_split': 4, 'random_state': 1, 'max_features': 1770, 'max_depth': None},\n",
       " mean: 0.93868, std: 0.00133, params: {'n_jobs': -1, 'min_samples_leaf': 3, 'n_estimators': 23, 'min_samples_split': 3, 'random_state': 1, 'max_features': 1371, 'max_depth': None},\n",
       " mean: 0.88300, std: 0.00219, params: {'n_jobs': -1, 'min_samples_leaf': 2, 'n_estimators': 26, 'min_samples_split': 3, 'random_state': 1, 'max_features': 1906, 'max_depth': 10},\n",
       " mean: 0.94083, std: 0.00082, params: {'n_jobs': -1, 'min_samples_leaf': 1, 'n_estimators': 40, 'min_samples_split': 3, 'random_state': 1, 'max_features': 1743, 'max_depth': None},\n",
       " mean: 0.88177, std: 0.00386, params: {'n_jobs': -1, 'min_samples_leaf': 4, 'n_estimators': 98, 'min_samples_split': 3, 'random_state': 1, 'max_features': 2742, 'max_depth': 10},\n",
       " mean: 0.88130, std: 0.00336, params: {'n_jobs': -1, 'min_samples_leaf': 1, 'n_estimators': 78, 'min_samples_split': 2, 'random_state': 1, 'max_features': 843, 'max_depth': 10},\n",
       " mean: 0.93983, std: 0.00070, params: {'n_jobs': -1, 'min_samples_leaf': 1, 'n_estimators': 53, 'min_samples_split': 2, 'random_state': 1, 'max_features': 1673, 'max_depth': None},\n",
       " mean: 0.92704, std: 0.00186, params: {'n_jobs': -1, 'min_samples_leaf': 1, 'n_estimators': 44, 'min_samples_split': 4, 'random_state': 1, 'max_features': 1565, 'max_depth': 20},\n",
       " mean: 0.88580, std: 0.00181, params: {'n_jobs': -1, 'min_samples_leaf': 1, 'n_estimators': 64, 'min_samples_split': 3, 'random_state': 1, 'max_features': 1121, 'max_depth': 10},\n",
       " mean: 0.94096, std: 0.00115, params: {'n_jobs': -1, 'min_samples_leaf': 2, 'n_estimators': 97, 'min_samples_split': 2, 'random_state': 1, 'max_features': 2551, 'max_depth': None},\n",
       " mean: 0.93993, std: 0.00058, params: {'n_jobs': -1, 'min_samples_leaf': 2, 'n_estimators': 57, 'min_samples_split': 2, 'random_state': 1, 'max_features': 2639, 'max_depth': None},\n",
       " mean: 0.88399, std: 0.00383, params: {'n_jobs': -1, 'min_samples_leaf': 2, 'n_estimators': 51, 'min_samples_split': 4, 'random_state': 1, 'max_features': 2055, 'max_depth': 10},\n",
       " mean: 0.92508, std: 0.00078, params: {'n_jobs': -1, 'min_samples_leaf': 3, 'n_estimators': 75, 'min_samples_split': 4, 'random_state': 1, 'max_features': 2803, 'max_depth': 20},\n",
       " mean: 0.88425, std: 0.00266, params: {'n_jobs': -1, 'min_samples_leaf': 3, 'n_estimators': 86, 'min_samples_split': 2, 'random_state': 1, 'max_features': 1235, 'max_depth': 10},\n",
       " mean: 0.92491, std: 0.00152, params: {'n_jobs': -1, 'min_samples_leaf': 3, 'n_estimators': 65, 'min_samples_split': 2, 'random_state': 1, 'max_features': 2001, 'max_depth': 20},\n",
       " mean: 0.88351, std: 0.00367, params: {'n_jobs': -1, 'min_samples_leaf': 1, 'n_estimators': 68, 'min_samples_split': 3, 'random_state': 1, 'max_features': 979, 'max_depth': 10},\n",
       " mean: 0.88189, std: 0.00415, params: {'n_jobs': -1, 'min_samples_leaf': 3, 'n_estimators': 94, 'min_samples_split': 4, 'random_state': 1, 'max_features': 2608, 'max_depth': 10},\n",
       " mean: 0.93989, std: 0.00096, params: {'n_jobs': -1, 'min_samples_leaf': 3, 'n_estimators': 92, 'min_samples_split': 2, 'random_state': 1, 'max_features': 2442, 'max_depth': None},\n",
       " mean: 0.88696, std: 0.00151, params: {'n_jobs': -1, 'min_samples_leaf': 2, 'n_estimators': 75, 'min_samples_split': 2, 'random_state': 1, 'max_features': 1543, 'max_depth': 10},\n",
       " mean: 0.87846, std: 0.00426, params: {'n_jobs': -1, 'min_samples_leaf': 3, 'n_estimators': 42, 'min_samples_split': 4, 'random_state': 1, 'max_features': 648, 'max_depth': 10},\n",
       " mean: 0.88208, std: 0.00336, params: {'n_jobs': -1, 'min_samples_leaf': 2, 'n_estimators': 41, 'min_samples_split': 2, 'random_state': 1, 'max_features': 945, 'max_depth': 10},\n",
       " mean: 0.92002, std: 0.00084, params: {'n_jobs': -1, 'min_samples_leaf': 1, 'n_estimators': 71, 'min_samples_split': 3, 'random_state': 1, 'max_features': 367, 'max_depth': 20},\n",
       " mean: 0.93777, std: 0.00129, params: {'n_jobs': -1, 'min_samples_leaf': 4, 'n_estimators': 95, 'min_samples_split': 3, 'random_state': 1, 'max_features': 1464, 'max_depth': None},\n",
       " mean: 0.88489, std: 0.00102, params: {'n_jobs': -1, 'min_samples_leaf': 3, 'n_estimators': 61, 'min_samples_split': 4, 'random_state': 1, 'max_features': 1999, 'max_depth': 10},\n",
       " mean: 0.94036, std: 0.00103, params: {'n_jobs': -1, 'min_samples_leaf': 2, 'n_estimators': 56, 'min_samples_split': 2, 'random_state': 1, 'max_features': 2735, 'max_depth': None},\n",
       " mean: 0.92705, std: 0.00143, params: {'n_jobs': -1, 'min_samples_leaf': 1, 'n_estimators': 39, 'min_samples_split': 3, 'random_state': 1, 'max_features': 1124, 'max_depth': 20},\n",
       " mean: 0.88334, std: 0.00407, params: {'n_jobs': -1, 'min_samples_leaf': 3, 'n_estimators': 60, 'min_samples_split': 2, 'random_state': 1, 'max_features': 2352, 'max_depth': 10},\n",
       " mean: 0.93609, std: 0.00066, params: {'n_jobs': -1, 'min_samples_leaf': 3, 'n_estimators': 37, 'min_samples_split': 2, 'random_state': 1, 'max_features': 512, 'max_depth': None},\n",
       " mean: 0.92363, std: 0.00141, params: {'n_jobs': -1, 'min_samples_leaf': 4, 'n_estimators': 58, 'min_samples_split': 4, 'random_state': 1, 'max_features': 1247, 'max_depth': 20},\n",
       " mean: 0.93760, std: 0.00032, params: {'n_jobs': -1, 'min_samples_leaf': 3, 'n_estimators': 56, 'min_samples_split': 3, 'random_state': 1, 'max_features': 609, 'max_depth': None},\n",
       " mean: 0.92448, std: 0.00141, params: {'n_jobs': -1, 'min_samples_leaf': 3, 'n_estimators': 88, 'min_samples_split': 2, 'random_state': 1, 'max_features': 2374, 'max_depth': 20},\n",
       " mean: 0.92204, std: 0.00134, params: {'n_jobs': -1, 'min_samples_leaf': 4, 'n_estimators': 34, 'min_samples_split': 4, 'random_state': 1, 'max_features': 1287, 'max_depth': 20},\n",
       " mean: 0.93944, std: 0.00166, params: {'n_jobs': -1, 'min_samples_leaf': 2, 'n_estimators': 26, 'min_samples_split': 4, 'random_state': 1, 'max_features': 2480, 'max_depth': None},\n",
       " mean: 0.88717, std: 0.00255, params: {'n_jobs': -1, 'min_samples_leaf': 3, 'n_estimators': 73, 'min_samples_split': 4, 'random_state': 1, 'max_features': 1454, 'max_depth': 10},\n",
       " mean: 0.91928, std: 0.00047, params: {'n_jobs': -1, 'min_samples_leaf': 4, 'n_estimators': 92, 'min_samples_split': 3, 'random_state': 1, 'max_features': 531, 'max_depth': 20},\n",
       " mean: 0.92031, std: 0.00144, params: {'n_jobs': -1, 'min_samples_leaf': 3, 'n_estimators': 89, 'min_samples_split': 4, 'random_state': 1, 'max_features': 549, 'max_depth': 20},\n",
       " mean: 0.94066, std: 0.00080, params: {'n_jobs': -1, 'min_samples_leaf': 2, 'n_estimators': 74, 'min_samples_split': 3, 'random_state': 1, 'max_features': 1507, 'max_depth': None},\n",
       " mean: 0.88275, std: 0.00320, params: {'n_jobs': -1, 'min_samples_leaf': 2, 'n_estimators': 21, 'min_samples_split': 4, 'random_state': 1, 'max_features': 2516, 'max_depth': 10},\n",
       " mean: 0.87191, std: 0.00209, params: {'n_jobs': -1, 'min_samples_leaf': 4, 'n_estimators': 26, 'min_samples_split': 3, 'random_state': 1, 'max_features': 354, 'max_depth': 10},\n",
       " mean: 0.92472, std: 0.00115, params: {'n_jobs': -1, 'min_samples_leaf': 3, 'n_estimators': 20, 'min_samples_split': 4, 'random_state': 1, 'max_features': 1212, 'max_depth': 20},\n",
       " mean: 0.88493, std: 0.00270, params: {'n_jobs': -1, 'min_samples_leaf': 1, 'n_estimators': 44, 'min_samples_split': 4, 'random_state': 1, 'max_features': 1924, 'max_depth': 10},\n",
       " mean: 0.92418, std: 0.00212, params: {'n_jobs': -1, 'min_samples_leaf': 3, 'n_estimators': 51, 'min_samples_split': 4, 'random_state': 1, 'max_features': 1226, 'max_depth': 20},\n",
       " mean: 0.94077, std: 0.00102, params: {'n_jobs': -1, 'min_samples_leaf': 2, 'n_estimators': 39, 'min_samples_split': 3, 'random_state': 1, 'max_features': 1422, 'max_depth': None},\n",
       " mean: 0.93697, std: 0.00156, params: {'n_jobs': -1, 'min_samples_leaf': 4, 'n_estimators': 21, 'min_samples_split': 4, 'random_state': 1, 'max_features': 1575, 'max_depth': None},\n",
       " mean: 0.88333, std: 0.00429, params: {'n_jobs': -1, 'min_samples_leaf': 4, 'n_estimators': 33, 'min_samples_split': 3, 'random_state': 1, 'max_features': 1823, 'max_depth': 10},\n",
       " mean: 0.88312, std: 0.00336, params: {'n_jobs': -1, 'min_samples_leaf': 1, 'n_estimators': 99, 'min_samples_split': 2, 'random_state': 1, 'max_features': 2637, 'max_depth': 10},\n",
       " mean: 0.88189, std: 0.00274, params: {'n_jobs': -1, 'min_samples_leaf': 4, 'n_estimators': 60, 'min_samples_split': 2, 'random_state': 1, 'max_features': 2439, 'max_depth': 10},\n",
       " mean: 0.88486, std: 0.00331, params: {'n_jobs': -1, 'min_samples_leaf': 4, 'n_estimators': 87, 'min_samples_split': 2, 'random_state': 1, 'max_features': 2070, 'max_depth': 10}]"
      ]
     },
     "execution_count": 6,
     "metadata": {},
     "output_type": "execute_result"
    }
   ],
   "source": [
    "search_results.grid_scores_"
   ]
  }
 ],
 "metadata": {
  "kernelspec": {
   "display_name": "Python 2",
   "language": "python",
   "name": "python2"
  },
  "language_info": {
   "codemirror_mode": {
    "name": "ipython",
    "version": 2
   },
   "file_extension": ".py",
   "mimetype": "text/x-python",
   "name": "python",
   "nbconvert_exporter": "python",
   "pygments_lexer": "ipython2",
   "version": "2.7.11"
  }
 },
 "nbformat": 4,
 "nbformat_minor": 0
}
