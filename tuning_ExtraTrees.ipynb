{
 "cells": [
  {
   "cell_type": "code",
   "execution_count": 1,
   "metadata": {
    "collapsed": false
   },
   "outputs": [],
   "source": [
    "import csv\n",
    "import numpy as np\n",
    "import pandas as pd\n",
    "import random\n",
    "\n",
    "from sklearn.model_selection import GridSearchCV, train_test_split\n",
    "from sklearn.ensemble import AdaBoostClassifier, BaggingClassifier, ExtraTreesClassifier, RandomForestClassifier, GradientBoostingClassifier\n",
    "from sklearn.linear_model import LogisticRegression, SGDClassifier\n",
    "from sklearn.naive_bayes import GaussianNB, MultinomialNB\n",
    "from sklearn.neighbors import KNeighborsClassifier"
   ]
  },
  {
   "cell_type": "code",
   "execution_count": 2,
   "metadata": {
    "collapsed": false
   },
   "outputs": [
    {
     "name": "stdout",
     "output_type": "stream",
     "text": [
      "Processing numerical data...\n",
      "Processing categorical data...\n",
      "Combining data...\n",
      "Processing finished.\n"
     ]
    }
   ],
   "source": [
    "train = pd.read_csv('data.csv', sep=\",\")\n",
    "test_data = pd.read_csv('quiz.csv', sep=\",\")\n",
    "\n",
    "train_data = train.iloc[:,:-1]\n",
    "train_labels = train.iloc[:,-1]\n",
    "\n",
    "train_data, holdout_data, train_labels, holdout_label = train_test_split(train_data, train_labels, \n",
    "                                                                         test_size=0.2, random_state=1)\n",
    "all_data = pd.concat([train_data, test_data])\n",
    "train_obs = len(train_data)\n",
    "test_obs = len(test_data)\n",
    "\n",
    "# Change dtype of categorical columns\n",
    "categorical_columns = ['0','5','7','8','9','14','16','17','18','20','23','25','26','56','57','58']\n",
    "for i in range(0,len(categorical_columns)):\n",
    "    all_data[categorical_columns[i]] = all_data[categorical_columns[i]].astype('category')\n",
    "    \n",
    "# Only numerical data\n",
    "print('Processing numerical data...')\n",
    "all_data_num = all_data.drop(categorical_columns, axis=1)\n",
    "train_data_num = all_data_num.iloc[0:train_obs,]\n",
    "test_data_num = all_data_num.iloc[train_obs:,]\n",
    "\n",
    "# Only categorical data\n",
    "print('Processing categorical data...')\n",
    "all_data_cat = pd.get_dummies(all_data[categorical_columns])\n",
    "train_data_cat = all_data_cat.iloc[0:train_obs,]\n",
    "test_data_cat = all_data_cat.iloc[train_obs:,]\n",
    "\n",
    "# Combine the two\n",
    "print('Combining data...')\n",
    "train_data_combo = pd.concat([train_data_num, train_data_cat], axis=1)\n",
    "test_data_combo = pd.concat([test_data_num, test_data_cat], axis=1)\n",
    "\n",
    "print('Processing finished.')"
   ]
  },
  {
   "cell_type": "code",
   "execution_count": null,
   "metadata": {
    "collapsed": false
   },
   "outputs": [
    {
     "name": "stdout",
     "output_type": "stream",
     "text": [
      "Fitting 4 folds for each of 108 candidates, totalling 432 fits\n",
      "[CV] n_jobs=-1, min_samples_leaf=1, n_estimators=20, min_samples_split=2, random_state=1, max_features=200, max_depth=None \n",
      "[CV]  n_jobs=-1, min_samples_leaf=1, n_estimators=20, min_samples_split=2, random_state=1, max_features=200, max_depth=None -  54.9s\n",
      "[CV] n_jobs=-1, min_samples_leaf=1, n_estimators=20, min_samples_split=2, random_state=1, max_features=200, max_depth=None "
     ]
    }
   ],
   "source": [
    "params = {\n",
    "    'n_estimators': [20, 40, 60],\n",
    "    'max_features': [200, 800, 1600],\n",
    "    'max_depth': [None, 10, 20],\n",
    "    'min_samples_split': [2, 4],\n",
    "    'min_samples_leaf': [1, 3],\n",
    "    'random_state': [1],\n",
    "    'n_jobs': [-1]\n",
    "}\n",
    "classifier = ExtraTreesClassifier()\n",
    "GridLogiClassifier = GridSearchCV(estimator = classifier, param_grid=params, n_jobs=1, cv=4, verbose=2)\n",
    "GridLogiClassifier.fit(train_data_combo, train_labels)"
   ]
  },
  {
   "cell_type": "code",
   "execution_count": null,
   "metadata": {
    "collapsed": true
   },
   "outputs": [],
   "source": []
  }
 ],
 "metadata": {
  "kernelspec": {
   "display_name": "Python 2",
   "language": "python",
   "name": "python2"
  },
  "language_info": {
   "codemirror_mode": {
    "name": "ipython",
    "version": 2
   },
   "file_extension": ".py",
   "mimetype": "text/x-python",
   "name": "python",
   "nbconvert_exporter": "python",
   "pygments_lexer": "ipython2",
   "version": "2.7.11"
  }
 },
 "nbformat": 4,
 "nbformat_minor": 0
}
