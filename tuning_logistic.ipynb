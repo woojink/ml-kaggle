{
 "cells": [
  {
   "cell_type": "code",
   "execution_count": 6,
   "metadata": {
    "collapsed": false
   },
   "outputs": [],
   "source": [
    "import csv\n",
    "import numpy as np\n",
    "import pandas as pd\n",
    "import random\n",
    "from sklearn.cross_validation import train_test_split\n",
    "from sklearn.grid_search import GridSearchCV\n",
    "\n",
    "train = pd.read_csv('data.csv', sep=\",\")\n",
    "train_data = train.iloc[:,:-1]\n",
    "train_labels = train.iloc[:,-1]\n",
    "\n",
    "test_data = pd.read_csv('quiz.csv', sep=\",\")\n",
    "\n",
    "train_data, holdout_data, train_labels, holdout_label = train_test_split(train_data, train_labels, test_size=0.2, random_state=1)"
   ]
  },
  {
   "cell_type": "code",
   "execution_count": 7,
   "metadata": {
    "collapsed": true
   },
   "outputs": [],
   "source": [
    "all_data = pd.concat([train_data, test_data])\n",
    "train_obs = len(train_data)\n",
    "test_obs = len(test_data)\n",
    "\n",
    "# Change dtype of categorical columns\n",
    "categorical_columns = ['0','5','7','8','9','14','16','17','18','20','23','25','26','56','57','58']\n",
    "for i in range(0,len(categorical_columns)):\n",
    "    all_data[categorical_columns[i]] = all_data[categorical_columns[i]].astype('category')\n",
    "    "
   ]
  },
  {
   "cell_type": "code",
   "execution_count": 9,
   "metadata": {
    "collapsed": false
   },
   "outputs": [],
   "source": [
    "from sklearn.ensemble import AdaBoostClassifier, BaggingClassifier, ExtraTreesClassifier, RandomForestClassifier, GradientBoostingClassifier\n",
    "from sklearn.linear_model import LogisticRegression, SGDClassifier\n",
    "from sklearn.naive_bayes import GaussianNB, MultinomialNB\n",
    "from sklearn.neighbors import KNeighborsClassifier\n",
    "#from sklearn.neural_network import MLPClassifier\n",
    "#from sklearn.svm import SVR\n",
    "#from xgboost import XGBClassifier\n",
    "\n",
    "from sklearn.tree import ExtraTreeClassifier\n",
    "\n"
   ]
  },
  {
   "cell_type": "code",
   "execution_count": 35,
   "metadata": {
    "collapsed": true
   },
   "outputs": [],
   "source": [
    "params = {'penalty': np.array(['l1','l2']),'C':np.array([4,5,6,7,8])}\n",
    "logi = LogisticRegression()\n",
    "GridLogiClassifier = GridSearchCV(estimator=logi, param_grid=params, n_jobs = 2, cv =5, verbose=2)"
   ]
  },
  {
   "cell_type": "code",
   "execution_count": 14,
   "metadata": {
    "collapsed": true
   },
   "outputs": [],
   "source": [
    "all_data_num = all_data.drop(categorical_columns, axis=1)\n",
    "train_data_num = all_data_num.iloc[0:train_obs,]\n",
    "test_data_num = all_data_num.iloc[train_obs:,]"
   ]
  },
  {
   "cell_type": "code",
   "execution_count": 15,
   "metadata": {
    "collapsed": false
   },
   "outputs": [],
   "source": [
    "all_data_cat = pd.get_dummies(all_data[categorical_columns])\n",
    "train_data_cat = all_data_cat.iloc[0:train_obs,]\n",
    "test_data_cat = all_data_cat.iloc[train_obs:,]\n",
    "\n",
    "train_data_combo = pd.concat([train_data_num, train_data_cat], axis=1)\n",
    "test_data_combo = pd.concat([test_data_num, test_data_cat], axis=1)"
   ]
  },
  {
   "cell_type": "code",
   "execution_count": 16,
   "metadata": {
    "collapsed": false
   },
   "outputs": [],
   "source": [
    "categorical_columns_tiny = ['0','5','7','8','9','14','16','17','18','20','25','26','56','57']\n",
    "\n",
    "all_data_cat_tiny = pd.get_dummies(all_data[categorical_columns_tiny])\n",
    "train_data_cat_tiny = all_data_cat_tiny.iloc[0:train_obs,]\n",
    "test_data_cat_tiny = all_data_cat_tiny.iloc[train_obs:,]\n",
    "\n",
    "train_data_combo_tiny = pd.concat([train_data_num, train_data_cat_tiny], axis=1)\n",
    "test_data_combo_tiny = pd.concat([test_data_num, test_data_cat_tiny], axis=1)"
   ]
  },
  {
   "cell_type": "code",
   "execution_count": 36,
   "metadata": {
    "collapsed": false
   },
   "outputs": [
    {
     "name": "stdout",
     "output_type": "stream",
     "text": [
      "Fitting 5 folds for each of 10 candidates, totalling 50 fits\n",
      "[CV] penalty=l1, C=4 .................................................\n",
      "[CV] penalty=l1, C=4 .................................................\n",
      "[CV] ........................................ penalty=l1, C=4 -  22.4s\n",
      "[CV] penalty=l1, C=4 .................................................\n",
      "[CV] ........................................ penalty=l1, C=4 -  23.0s\n",
      "[CV] penalty=l1, C=4 .................................................\n",
      "[CV] ........................................ penalty=l1, C=4 -  23.5s\n",
      "[CV] penalty=l1, C=4 .................................................\n",
      "[CV] ........................................ penalty=l1, C=4 -  23.0s\n",
      "[CV] penalty=l2, C=4 .................................................\n",
      "[CV] ........................................ penalty=l2, C=4 -   7.2s\n",
      "[CV] penalty=l2, C=4 .................................................\n",
      "[CV] ........................................ penalty=l2, C=4 -   6.0s\n",
      "[CV] penalty=l2, C=4 .................................................\n",
      "[CV] ........................................ penalty=l1, C=4 -  21.5s\n",
      "[CV] penalty=l2, C=4 .................................................\n",
      "[CV] ........................................ penalty=l2, C=4 -  10.5s\n",
      "[CV] penalty=l2, C=4 .................................................\n",
      "[CV] ........................................ penalty=l2, C=4 -   6.3s\n",
      "[CV] penalty=l1, C=5 .................................................\n",
      "[CV] ........................................ penalty=l2, C=4 -   7.2s\n",
      "[CV] penalty=l1, C=5 .................................................\n",
      "[CV] ........................................ penalty=l1, C=5 -  23.6s\n",
      "[CV] penalty=l1, C=5 .................................................\n",
      "[CV] ........................................ penalty=l1, C=5 -  22.2s\n",
      "[CV] penalty=l1, C=5 .................................................\n",
      "[CV] ........................................ penalty=l1, C=5 -  25.9s\n",
      "[CV] penalty=l1, C=5 .................................................\n",
      "[CV] ........................................ penalty=l1, C=5 -  28.0s\n",
      "[CV] penalty=l2, C=5 .................................................\n",
      "[CV] ........................................ penalty=l2, C=5 -   5.7s\n",
      "[CV] penalty=l2, C=5 .................................................\n",
      "[CV] ........................................ penalty=l1, C=5 -  16.8s\n",
      "[CV] penalty=l2, C=5 .................................................\n",
      "[CV] ........................................ penalty=l2, C=5 -   6.2s\n",
      "[CV] penalty=l2, C=5 .................................................\n",
      "[CV] ........................................ penalty=l2, C=5 -   7.8s\n",
      "[CV] penalty=l2, C=5 .................................................\n",
      "[CV] ........................................ penalty=l2, C=5 -   7.3s\n",
      "[CV] penalty=l1, C=6 .................................................\n",
      "[CV] ........................................ penalty=l2, C=5 -   7.2s\n",
      "[CV] penalty=l1, C=6 .................................................\n",
      "[CV] ........................................ penalty=l1, C=6 -  23.4s\n",
      "[CV] penalty=l1, C=6 .................................................\n",
      "[CV] ........................................ penalty=l1, C=6 -  23.9s\n",
      "[CV] penalty=l1, C=6 .................................................\n",
      "[CV] ........................................ penalty=l1, C=6 -  21.2s\n",
      "[CV] penalty=l1, C=6 .................................................\n",
      "[CV] ........................................ penalty=l1, C=6 -  23.4s\n",
      "[CV] penalty=l2, C=6 .................................................\n",
      "[CV] ........................................ penalty=l2, C=6 -   6.6s\n",
      "[CV] penalty=l2, C=6 .................................................\n",
      "[CV] ........................................ penalty=l1, C=6 -  20.1s\n",
      "[CV] penalty=l2, C=6 .................................................\n",
      "[CV] ........................................ penalty=l2, C=6 -   5.8s\n",
      "[CV] penalty=l2, C=6 .................................................\n",
      "[CV] ........................................ penalty=l2, C=6 -   6.2s\n",
      "[CV] penalty=l2, C=6 .................................................\n",
      "[CV] ........................................ penalty=l2, C=6 -   6.0s\n",
      "[CV] penalty=l1, C=7 .................................................\n",
      "[CV] ........................................ penalty=l2, C=6 -   6.0s\n",
      "[CV] penalty=l1, C=7 .................................................\n",
      "[CV] ........................................ penalty=l1, C=7 -  22.5s\n",
      "[CV] penalty=l1, C=7 .................................................\n",
      "[CV] ........................................ penalty=l1, C=7 -  24.8s\n",
      "[CV] penalty=l1, C=7 .................................................\n",
      "[CV] ........................................ penalty=l1, C=7 -  23.4s\n",
      "[CV] penalty=l1, C=7 .................................................\n",
      "[CV] ........................................ penalty=l1, C=7 -  24.4s\n",
      "[CV] penalty=l2, C=7 .................................................\n",
      "[CV] ........................................ penalty=l2, C=7 -   6.8s\n",
      "[CV] penalty=l2, C=7 .................................................\n",
      "[CV] ........................................ penalty=l2, C=7 -   5.6s\n",
      "[CV] penalty=l2, C=7 .................................................\n",
      "[CV] ........................................ penalty=l1, C=7 -  21.2s\n"
     ]
    },
    {
     "name": "stderr",
     "output_type": "stream",
     "text": [
      "[Parallel(n_jobs=2)]: Done  37 tasks      | elapsed:  4.9min\n"
     ]
    },
    {
     "name": "stdout",
     "output_type": "stream",
     "text": [
      "[CV] penalty=l2, C=7 .................................................\n",
      "[CV] ........................................ penalty=l2, C=7 -   4.7s\n",
      "[CV] ........................................ penalty=l2, C=7 -   6.2s\n",
      "[CV] penalty=l2, C=7 .................................................\n",
      "[CV] penalty=l1, C=8 .................................................\n",
      "[CV] ........................................ penalty=l2, C=7 -   6.8s\n",
      "[CV] penalty=l1, C=8 .................................................\n",
      "[CV] ........................................ penalty=l1, C=8 -  24.6s\n",
      "[CV] penalty=l1, C=8 .................................................\n",
      "[CV] ........................................ penalty=l1, C=8 -  24.9s\n",
      "[CV] penalty=l1, C=8 .................................................\n",
      "[CV] ........................................ penalty=l1, C=8 -  19.7s\n",
      "[CV] penalty=l1, C=8 .................................................\n",
      "[CV] ........................................ penalty=l1, C=8 -  27.1s\n",
      "[CV] penalty=l2, C=8 .................................................\n",
      "[CV] ........................................ penalty=l2, C=8 -   6.2s\n",
      "[CV] penalty=l2, C=8 .................................................\n",
      "[CV] ........................................ penalty=l1, C=8 -  24.7s\n",
      "[CV] ........................................ penalty=l2, C=8 -   5.1s\n",
      "[CV] penalty=l2, C=8 .................................................\n",
      "[CV] penalty=l2, C=8 .................................................\n",
      "[CV] ........................................ penalty=l2, C=8 -   5.4s\n",
      "[CV] penalty=l2, C=8 .................................................\n",
      "[CV] ........................................ penalty=l2, C=8 -   5.5s\n",
      "[CV] ........................................ penalty=l2, C=8 -   3.8s\n"
     ]
    },
    {
     "name": "stderr",
     "output_type": "stream",
     "text": [
      "[Parallel(n_jobs=2)]: Done  50 out of  50 | elapsed:  6.3min finished\n"
     ]
    },
    {
     "data": {
      "text/plain": [
       "GridSearchCV(cv=5, error_score='raise',\n",
       "       estimator=LogisticRegression(C=1.0, class_weight=None, dual=False, fit_intercept=True,\n",
       "          intercept_scaling=1, max_iter=100, multi_class='ovr', n_jobs=1,\n",
       "          penalty='l2', random_state=None, solver='liblinear', tol=0.0001,\n",
       "          verbose=0, warm_start=False),\n",
       "       fit_params={}, iid=True, n_jobs=2,\n",
       "       param_grid={'penalty': array(['l1', 'l2'],\n",
       "      dtype='|S2'), 'C': array([4, 5, 6, 7, 8])},\n",
       "       pre_dispatch='2*n_jobs', refit=True, scoring=None, verbose=2)"
      ]
     },
     "execution_count": 36,
     "metadata": {},
     "output_type": "execute_result"
    }
   ],
   "source": [
    "GridLogiClassifier.fit(train_data_combo_tiny, train_labels)"
   ]
  },
  {
   "cell_type": "code",
   "execution_count": 37,
   "metadata": {
    "collapsed": false
   },
   "outputs": [
    {
     "data": {
      "text/plain": [
       "[mean: 0.89062, std: 0.00272, params: {'penalty': 'l1', 'C': 4},\n",
       " mean: 0.89046, std: 0.00291, params: {'penalty': 'l2', 'C': 4},\n",
       " mean: 0.89059, std: 0.00281, params: {'penalty': 'l1', 'C': 5},\n",
       " mean: 0.89043, std: 0.00282, params: {'penalty': 'l2', 'C': 5},\n",
       " mean: 0.89052, std: 0.00283, params: {'penalty': 'l1', 'C': 6},\n",
       " mean: 0.89047, std: 0.00275, params: {'penalty': 'l2', 'C': 6},\n",
       " mean: 0.89050, std: 0.00281, params: {'penalty': 'l1', 'C': 7},\n",
       " mean: 0.89035, std: 0.00244, params: {'penalty': 'l2', 'C': 7},\n",
       " mean: 0.89048, std: 0.00276, params: {'penalty': 'l1', 'C': 8},\n",
       " mean: 0.89044, std: 0.00282, params: {'penalty': 'l2', 'C': 8}]"
      ]
     },
     "execution_count": 37,
     "metadata": {},
     "output_type": "execute_result"
    }
   ],
   "source": [
    "GridLogiClassifier.best_score_\n",
    "GridLogiClassifier.grid_scores_\n"
   ]
  },
  {
   "cell_type": "code",
   "execution_count": 28,
   "metadata": {
    "collapsed": false
   },
   "outputs": [
    {
     "data": {
      "text/plain": [
       "[mean: 0.89063, std: 0.00283, params: {'penalty': 'l1', 'C': 4},\n",
       " mean: 0.89046, std: 0.00291, params: {'penalty': 'l2', 'C': 4},\n",
       " mean: 0.89055, std: 0.00289, params: {'penalty': 'l1', 'C': 5},\n",
       " mean: 0.89043, std: 0.00282, params: {'penalty': 'l2', 'C': 5},\n",
       " mean: 0.89036, std: 0.00280, params: {'penalty': 'l1', 'C': 50},\n",
       " mean: 0.89023, std: 0.00281, params: {'penalty': 'l2', 'C': 50},\n",
       " mean: 0.89041, std: 0.00283, params: {'penalty': 'l1', 'C': 100},\n",
       " mean: 0.89041, std: 0.00308, params: {'penalty': 'l2', 'C': 100},\n",
       " mean: 0.89039, std: 0.00278, params: {'penalty': 'l1', 'C': 500},\n",
       " mean: 0.89039, std: 0.00298, params: {'penalty': 'l2', 'C': 500}]"
      ]
     },
     "execution_count": 28,
     "metadata": {},
     "output_type": "execute_result"
    }
   ],
   "source": [
    "GridLogiClassifier.best_score_\n",
    "GridLogiClassifier.grid_scores_\n",
    "\n"
   ]
  },
  {
   "cell_type": "code",
   "execution_count": 34,
   "metadata": {
    "collapsed": false
   },
   "outputs": [
    {
     "data": {
      "text/plain": [
       "[mean: 0.89040, std: 0.00291, params: {'penalty': 'l1', 'C': 1},\n",
       " mean: 0.89007, std: 0.00320, params: {'penalty': 'l2', 'C': 1},\n",
       " mean: 0.89054, std: 0.00268, params: {'penalty': 'l1', 'C': 2},\n",
       " mean: 0.89035, std: 0.00315, params: {'penalty': 'l2', 'C': 2},\n",
       " mean: 0.89053, std: 0.00284, params: {'penalty': 'l1', 'C': 3},\n",
       " mean: 0.89042, std: 0.00282, params: {'penalty': 'l2', 'C': 3},\n",
       " mean: 0.89061, std: 0.00285, params: {'penalty': 'l1', 'C': 4},\n",
       " mean: 0.89046, std: 0.00291, params: {'penalty': 'l2', 'C': 4},\n",
       " mean: 0.89061, std: 0.00282, params: {'penalty': 'l1', 'C': 5},\n",
       " mean: 0.89043, std: 0.00282, params: {'penalty': 'l2', 'C': 5}]"
      ]
     },
     "execution_count": 34,
     "metadata": {},
     "output_type": "execute_result"
    }
   ],
   "source": [
    "GridLogiClassifier.best_score_\n",
    "GridLogiClassifier.grid_scores_"
   ]
  },
  {
   "cell_type": "code",
   "execution_count": null,
   "metadata": {
    "collapsed": true
   },
   "outputs": [],
   "source": []
  }
 ],
 "metadata": {
  "kernelspec": {
   "display_name": "Python 2",
   "language": "python",
   "name": "python2"
  },
  "language_info": {
   "codemirror_mode": {
    "name": "ipython",
    "version": 2
   },
   "file_extension": ".py",
   "mimetype": "text/x-python",
   "name": "python",
   "nbconvert_exporter": "python",
   "pygments_lexer": "ipython2",
   "version": "2.7.11"
  }
 },
 "nbformat": 4,
 "nbformat_minor": 0
}
