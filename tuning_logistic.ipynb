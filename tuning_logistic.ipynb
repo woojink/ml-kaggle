{
 "cells": [
  {
   "cell_type": "code",
   "execution_count": 1,
   "metadata": {
    "collapsed": false
   },
   "outputs": [],
   "source": [
    "import csv\n",
    "import numpy as np\n",
    "import pandas as pd\n",
    "import random\n",
    "from sklearn.cross_validation import train_test_split\n",
    "from sklearn.grid_search import GridSearchCV\n",
    "\n",
    "train = pd.read_csv('data.csv', sep=\",\")\n",
    "train_data = train.iloc[:,:-1]\n",
    "train_labels = train.iloc[:,-1]\n",
    "\n",
    "test_data = pd.read_csv('quiz.csv', sep=\",\")\n",
    "\n",
    "train_data, holdout_data, train_labels, holdout_label = train_test_split(train_data, train_labels, test_size=0.2, random_state=1)"
   ]
  },
  {
   "cell_type": "code",
   "execution_count": 2,
   "metadata": {
    "collapsed": true
   },
   "outputs": [],
   "source": [
    "all_data = pd.concat([train_data, test_data])\n",
    "train_obs = len(train_data)\n",
    "test_obs = len(test_data)\n",
    "\n",
    "# Change dtype of categorical columns\n",
    "categorical_columns = ['0','5','7','8','9','14','16','17','18','20','23','25','26','56','57','58']\n",
    "for i in range(0,len(categorical_columns)):\n",
    "    all_data[categorical_columns[i]] = all_data[categorical_columns[i]].astype('category')\n",
    "    "
   ]
  },
  {
   "cell_type": "code",
   "execution_count": 3,
   "metadata": {
    "collapsed": false
   },
   "outputs": [],
   "source": [
    "from sklearn.ensemble import AdaBoostClassifier, BaggingClassifier, ExtraTreesClassifier, RandomForestClassifier, GradientBoostingClassifier\n",
    "from sklearn.linear_model import LogisticRegression, SGDClassifier\n",
    "from sklearn.naive_bayes import GaussianNB, MultinomialNB\n",
    "from sklearn.neighbors import KNeighborsClassifier\n",
    "#from sklearn.neural_network import MLPClassifier\n",
    "#from sklearn.svm import SVR\n",
    "#from xgboost import XGBClassifier\n",
    "\n",
    "from sklearn.tree import ExtraTreeClassifier\n",
    "\n"
   ]
  },
  {
   "cell_type": "code",
   "execution_count": 10,
   "metadata": {
    "collapsed": true
   },
   "outputs": [],
   "source": [
    "params = {'penalty': np.array(['l1','l2']),'C':np.array([3,4,5,50,100,500]),'n_jobs': [-1]}\n",
    "logi = LogisticRegression()\n",
    "GridLogiClassifier = GridSearchCV(estimator=logi, param_grid=params, n_jobs = 1, cv =5, verbose=2)"
   ]
  },
  {
   "cell_type": "code",
   "execution_count": 5,
   "metadata": {
    "collapsed": true
   },
   "outputs": [],
   "source": [
    "all_data_num = all_data.drop(categorical_columns, axis=1)\n",
    "train_data_num = all_data_num.iloc[0:train_obs,]\n",
    "test_data_num = all_data_num.iloc[train_obs:,]"
   ]
  },
  {
   "cell_type": "code",
   "execution_count": 6,
   "metadata": {
    "collapsed": false
   },
   "outputs": [],
   "source": [
    "all_data_cat = pd.get_dummies(all_data[categorical_columns])\n",
    "train_data_cat = all_data_cat.iloc[0:train_obs,]\n",
    "test_data_cat = all_data_cat.iloc[train_obs:,]\n",
    "\n",
    "train_data_combo = pd.concat([train_data_num, train_data_cat], axis=1)\n",
    "test_data_combo = pd.concat([test_data_num, test_data_cat], axis=1)"
   ]
  },
  {
   "cell_type": "code",
   "execution_count": 7,
   "metadata": {
    "collapsed": false
   },
   "outputs": [],
   "source": [
    "categorical_columns_tiny = ['0','5','7','8','9','14','16','17','18','20','25','26','56','57']\n",
    "\n",
    "all_data_cat_tiny = pd.get_dummies(all_data[categorical_columns_tiny])\n",
    "train_data_cat_tiny = all_data_cat_tiny.iloc[0:train_obs,]\n",
    "test_data_cat_tiny = all_data_cat_tiny.iloc[train_obs:,]\n",
    "\n",
    "train_data_combo_tiny = pd.concat([train_data_num, train_data_cat_tiny], axis=1)\n",
    "test_data_combo_tiny = pd.concat([test_data_num, test_data_cat_tiny], axis=1)"
   ]
  },
  {
   "cell_type": "code",
   "execution_count": 11,
   "metadata": {
    "collapsed": false
   },
   "outputs": [
    {
     "name": "stdout",
     "output_type": "stream",
     "text": [
      "Fitting 5 folds for each of 12 candidates, totalling 60 fits\n",
      "[CV] penalty=l1, C=3, n_jobs=-1 ......................................\n",
      "[CV] ............................. penalty=l1, C=3, n_jobs=-1 -  35.8s\n",
      "[CV] penalty=l1, C=3, n_jobs=-1 ......................................\n",
      "[CV] ............................. penalty=l1, C=3, n_jobs=-1 -  43.6s\n",
      "[CV] penalty=l1, C=3, n_jobs=-1 ......................................\n",
      "[CV] ............................. penalty=l1, C=3, n_jobs=-1 -  31.8s\n",
      "[CV] penalty=l1, C=3, n_jobs=-1 ......................................\n",
      "[CV] ............................. penalty=l1, C=3, n_jobs=-1 -  28.1s\n",
      "[CV] penalty=l1, C=3, n_jobs=-1 ......................................\n",
      "[CV] ............................. penalty=l1, C=3, n_jobs=-1 -  32.5s\n",
      "[CV] penalty=l2, C=3, n_jobs=-1 ......................................\n",
      "[CV] ............................. penalty=l2, C=3, n_jobs=-1 -  20.1s\n",
      "[CV] penalty=l2, C=3, n_jobs=-1 ......................................\n",
      "[CV] ............................. penalty=l2, C=3, n_jobs=-1 -  21.0s\n",
      "[CV] penalty=l2, C=3, n_jobs=-1 ......................................\n",
      "[CV] ............................. penalty=l2, C=3, n_jobs=-1 -  24.0s\n",
      "[CV] penalty=l2, C=3, n_jobs=-1 ......................................\n",
      "[CV] ............................. penalty=l2, C=3, n_jobs=-1 -  19.2s\n",
      "[CV] penalty=l2, C=3, n_jobs=-1 ......................................\n",
      "[CV] ............................. penalty=l2, C=3, n_jobs=-1 -  18.5s\n",
      "[CV] penalty=l1, C=4, n_jobs=-1 ......................................\n",
      "[CV] ............................. penalty=l1, C=4, n_jobs=-1 -  39.8s\n",
      "[CV] penalty=l1, C=4, n_jobs=-1 ......................................\n",
      "[CV] ............................. penalty=l1, C=4, n_jobs=-1 -  32.6s\n",
      "[CV] penalty=l1, C=4, n_jobs=-1 ......................................\n",
      "[CV] ............................. penalty=l1, C=4, n_jobs=-1 -  29.0s\n",
      "[CV] penalty=l1, C=4, n_jobs=-1 ......................................\n",
      "[CV] ............................. penalty=l1, C=4, n_jobs=-1 -  31.8s\n",
      "[CV] penalty=l1, C=4, n_jobs=-1 ......................................\n",
      "[CV] ............................. penalty=l1, C=4, n_jobs=-1 -  27.8s\n",
      "[CV] penalty=l2, C=4, n_jobs=-1 ......................................\n",
      "[CV] ............................. penalty=l2, C=4, n_jobs=-1 -  18.1s\n",
      "[CV] penalty=l2, C=4, n_jobs=-1 ......................................\n",
      "[CV] ............................. penalty=l2, C=4, n_jobs=-1 -  18.3s\n",
      "[CV] penalty=l2, C=4, n_jobs=-1 ......................................\n",
      "[CV] ............................. penalty=l2, C=4, n_jobs=-1 -  17.0s\n",
      "[CV] penalty=l2, C=4, n_jobs=-1 ......................................\n",
      "[CV] ............................. penalty=l2, C=4, n_jobs=-1 -  17.4s\n",
      "[CV] penalty=l2, C=4, n_jobs=-1 ......................................\n",
      "[CV] ............................. penalty=l2, C=4, n_jobs=-1 -  18.2s\n",
      "[CV] penalty=l1, C=5, n_jobs=-1 ......................................\n",
      "[CV] ............................. penalty=l1, C=5, n_jobs=-1 -  28.1s\n",
      "[CV] penalty=l1, C=5, n_jobs=-1 ......................................\n",
      "[CV] ............................. penalty=l1, C=5, n_jobs=-1 -  29.6s\n",
      "[CV] penalty=l1, C=5, n_jobs=-1 ......................................\n",
      "[CV] ............................. penalty=l1, C=5, n_jobs=-1 -  30.2s\n",
      "[CV] penalty=l1, C=5, n_jobs=-1 ......................................\n",
      "[CV] ............................. penalty=l1, C=5, n_jobs=-1 -  27.4s\n",
      "[CV] penalty=l1, C=5, n_jobs=-1 ......................................\n",
      "[CV] ............................. penalty=l1, C=5, n_jobs=-1 -  29.0s\n",
      "[CV] penalty=l2, C=5, n_jobs=-1 ......................................\n",
      "[CV] ............................. penalty=l2, C=5, n_jobs=-1 -  17.5s\n",
      "[CV] penalty=l2, C=5, n_jobs=-1 ......................................\n",
      "[CV] ............................. penalty=l2, C=5, n_jobs=-1 -  19.3s\n",
      "[CV] penalty=l2, C=5, n_jobs=-1 ......................................\n",
      "[CV] ............................. penalty=l2, C=5, n_jobs=-1 -  19.2s\n",
      "[CV] penalty=l2, C=5, n_jobs=-1 ......................................\n",
      "[CV] ............................. penalty=l2, C=5, n_jobs=-1 -  16.9s\n",
      "[CV] penalty=l2, C=5, n_jobs=-1 ......................................\n",
      "[CV] ............................. penalty=l2, C=5, n_jobs=-1 -  19.0s\n",
      "[CV] penalty=l1, C=50, n_jobs=-1 .....................................\n",
      "[CV] ............................ penalty=l1, C=50, n_jobs=-1 -  28.3s\n",
      "[CV] penalty=l1, C=50, n_jobs=-1 .....................................\n",
      "[CV] ............................ penalty=l1, C=50, n_jobs=-1 -  29.1s\n",
      "[CV] penalty=l1, C=50, n_jobs=-1 .....................................\n",
      "[CV] ............................ penalty=l1, C=50, n_jobs=-1 -  27.4s\n",
      "[CV] penalty=l1, C=50, n_jobs=-1 .....................................\n",
      "[CV] ............................ penalty=l1, C=50, n_jobs=-1 -  27.4s\n",
      "[CV] penalty=l1, C=50, n_jobs=-1 .....................................\n",
      "[CV] ............................ penalty=l1, C=50, n_jobs=-1 -  29.2s\n",
      "[CV] penalty=l2, C=50, n_jobs=-1 .....................................\n",
      "[CV] ............................ penalty=l2, C=50, n_jobs=-1 -  18.7s\n",
      "[CV] penalty=l2, C=50, n_jobs=-1 .....................................\n",
      "[CV] ............................ penalty=l2, C=50, n_jobs=-1 -  19.4s\n",
      "[CV] penalty=l2, C=50, n_jobs=-1 .....................................\n",
      "[CV] ............................ penalty=l2, C=50, n_jobs=-1 -  37.8s\n",
      "[CV] penalty=l2, C=50, n_jobs=-1 .....................................\n",
      "[CV] ............................ penalty=l2, C=50, n_jobs=-1 -  33.9s\n",
      "[CV] penalty=l2, C=50, n_jobs=-1 .....................................\n",
      "[CV] ............................ penalty=l2, C=50, n_jobs=-1 -  29.0s\n",
      "[CV] penalty=l1, C=100, n_jobs=-1 ....................................\n"
     ]
    },
    {
     "name": "stderr",
     "output_type": "stream",
     "text": [
      "[Parallel(n_jobs=1)]: Done  40 tasks       | elapsed: 17.6min\n"
     ]
    },
    {
     "name": "stdout",
     "output_type": "stream",
     "text": [
      "[CV] ........................... penalty=l1, C=100, n_jobs=-1 -  36.2s\n",
      "[CV] penalty=l1, C=100, n_jobs=-1 ....................................\n",
      "[CV] ........................... penalty=l1, C=100, n_jobs=-1 -  40.6s\n",
      "[CV] penalty=l1, C=100, n_jobs=-1 ....................................\n",
      "[CV] ........................... penalty=l1, C=100, n_jobs=-1 -  45.6s\n",
      "[CV] penalty=l1, C=100, n_jobs=-1 ....................................\n",
      "[CV] ........................... penalty=l1, C=100, n_jobs=-1 -  46.6s\n",
      "[CV] penalty=l1, C=100, n_jobs=-1 ....................................\n",
      "[CV] ........................... penalty=l1, C=100, n_jobs=-1 - 1.0min\n",
      "[CV] penalty=l2, C=100, n_jobs=-1 ....................................\n",
      "[CV] ........................... penalty=l2, C=100, n_jobs=-1 -  34.1s\n",
      "[CV] penalty=l2, C=100, n_jobs=-1 ....................................\n",
      "[CV] ........................... penalty=l2, C=100, n_jobs=-1 -  27.7s\n",
      "[CV] penalty=l2, C=100, n_jobs=-1 ....................................\n",
      "[CV] ........................... penalty=l2, C=100, n_jobs=-1 -  36.8s\n",
      "[CV] penalty=l2, C=100, n_jobs=-1 ....................................\n",
      "[CV] ........................... penalty=l2, C=100, n_jobs=-1 -  34.7s\n",
      "[CV] penalty=l2, C=100, n_jobs=-1 ....................................\n",
      "[CV] ........................... penalty=l2, C=100, n_jobs=-1 -  33.1s\n",
      "[CV] penalty=l1, C=500, n_jobs=-1 ....................................\n",
      "[CV] ........................... penalty=l1, C=500, n_jobs=-1 -  57.7s\n",
      "[CV] penalty=l1, C=500, n_jobs=-1 ....................................\n",
      "[CV] ........................... penalty=l1, C=500, n_jobs=-1 -  51.6s\n",
      "[CV] penalty=l1, C=500, n_jobs=-1 ....................................\n",
      "[CV] ........................... penalty=l1, C=500, n_jobs=-1 -  58.3s\n",
      "[CV] penalty=l1, C=500, n_jobs=-1 ....................................\n",
      "[CV] ........................... penalty=l1, C=500, n_jobs=-1 -  57.4s\n",
      "[CV] penalty=l1, C=500, n_jobs=-1 ....................................\n",
      "[CV] ........................... penalty=l1, C=500, n_jobs=-1 -  55.7s\n",
      "[CV] penalty=l2, C=500, n_jobs=-1 ....................................\n",
      "[CV] ........................... penalty=l2, C=500, n_jobs=-1 -  32.9s\n",
      "[CV] penalty=l2, C=500, n_jobs=-1 ....................................\n",
      "[CV] ........................... penalty=l2, C=500, n_jobs=-1 -  38.6s\n",
      "[CV] penalty=l2, C=500, n_jobs=-1 ....................................\n",
      "[CV] ........................... penalty=l2, C=500, n_jobs=-1 -  25.5s\n",
      "[CV] penalty=l2, C=500, n_jobs=-1 ....................................\n",
      "[CV] ........................... penalty=l2, C=500, n_jobs=-1 -  28.8s\n",
      "[CV] penalty=l2, C=500, n_jobs=-1 ....................................\n",
      "[CV] ........................... penalty=l2, C=500, n_jobs=-1 -  38.8s\n"
     ]
    },
    {
     "name": "stderr",
     "output_type": "stream",
     "text": [
      "[Parallel(n_jobs=1)]: Done  60 out of  60 | elapsed: 31.8min finished\n"
     ]
    },
    {
     "data": {
      "text/plain": [
       "GridSearchCV(cv=5, error_score='raise',\n",
       "       estimator=LogisticRegression(C=1.0, class_weight=None, dual=False, fit_intercept=True,\n",
       "          intercept_scaling=1, max_iter=100, multi_class='ovr', n_jobs=1,\n",
       "          penalty='l2', random_state=None, solver='liblinear', tol=0.0001,\n",
       "          verbose=0, warm_start=False),\n",
       "       fit_params={}, iid=True, n_jobs=1,\n",
       "       param_grid={'penalty': array(['l1', 'l2'],\n",
       "      dtype='|S2'), 'C': array([  3,   4,   5,  50, 100, 500]), 'n_jobs': [-1]},\n",
       "       pre_dispatch='2*n_jobs', refit=True, scoring=None, verbose=2)"
      ]
     },
     "execution_count": 11,
     "metadata": {},
     "output_type": "execute_result"
    }
   ],
   "source": [
    "GridLogiClassifier.fit(train_data_combo, train_labels)"
   ]
  },
  {
   "cell_type": "code",
   "execution_count": 9,
   "metadata": {
    "collapsed": false
   },
   "outputs": [
    {
     "data": {
      "text/plain": [
       "[mean: 0.89197, std: 0.00324, params: {'penalty': 'l1', 'C': 4, 'n_jobs': -1},\n",
       " mean: 0.89235, std: 0.00376, params: {'penalty': 'l2', 'C': 4, 'n_jobs': -1},\n",
       " mean: 0.89188, std: 0.00338, params: {'penalty': 'l1', 'C': 5, 'n_jobs': -1},\n",
       " mean: 0.89230, std: 0.00354, params: {'penalty': 'l2', 'C': 5, 'n_jobs': -1},\n",
       " mean: 0.89186, std: 0.00328, params: {'penalty': 'l1', 'C': 6, 'n_jobs': -1},\n",
       " mean: 0.89230, std: 0.00381, params: {'penalty': 'l2', 'C': 6, 'n_jobs': -1},\n",
       " mean: 0.89164, std: 0.00321, params: {'penalty': 'l1', 'C': 7, 'n_jobs': -1},\n",
       " mean: 0.89167, std: 0.00361, params: {'penalty': 'l2', 'C': 7, 'n_jobs': -1},\n",
       " mean: 0.89167, std: 0.00334, params: {'penalty': 'l1', 'C': 8, 'n_jobs': -1},\n",
       " mean: 0.89210, std: 0.00358, params: {'penalty': 'l2', 'C': 8, 'n_jobs': -1}]"
      ]
     },
     "execution_count": 9,
     "metadata": {},
     "output_type": "execute_result"
    }
   ],
   "source": [
    "GridLogiClassifier.best_score_\n",
    "GridLogiClassifier.grid_scores_\n"
   ]
  },
  {
   "cell_type": "code",
   "execution_count": 12,
   "metadata": {
    "collapsed": false
   },
   "outputs": [
    {
     "data": {
      "text/plain": [
       "[mean: 0.89219, std: 0.00325, params: {'penalty': 'l1', 'C': 3, 'n_jobs': -1},\n",
       " mean: 0.89221, std: 0.00362, params: {'penalty': 'l2', 'C': 3, 'n_jobs': -1},\n",
       " mean: 0.89205, std: 0.00333, params: {'penalty': 'l1', 'C': 4, 'n_jobs': -1},\n",
       " mean: 0.89235, std: 0.00376, params: {'penalty': 'l2', 'C': 4, 'n_jobs': -1},\n",
       " mean: 0.89192, std: 0.00333, params: {'penalty': 'l1', 'C': 5, 'n_jobs': -1},\n",
       " mean: 0.89230, std: 0.00354, params: {'penalty': 'l2', 'C': 5, 'n_jobs': -1},\n",
       " mean: 0.89050, std: 0.00341, params: {'penalty': 'l1', 'C': 50, 'n_jobs': -1},\n",
       " mean: 0.89111, std: 0.00350, params: {'penalty': 'l2', 'C': 50, 'n_jobs': -1},\n",
       " mean: 0.89032, std: 0.00330, params: {'penalty': 'l1', 'C': 100, 'n_jobs': -1},\n",
       " mean: 0.89172, std: 0.00337, params: {'penalty': 'l2', 'C': 100, 'n_jobs': -1},\n",
       " mean: 0.89006, std: 0.00329, params: {'penalty': 'l1', 'C': 500, 'n_jobs': -1},\n",
       " mean: 0.89110, std: 0.00319, params: {'penalty': 'l2', 'C': 500, 'n_jobs': -1}]"
      ]
     },
     "execution_count": 12,
     "metadata": {},
     "output_type": "execute_result"
    }
   ],
   "source": [
    "GridLogiClassifier.best_score_\n",
    "GridLogiClassifier.grid_scores_\n",
    "\n"
   ]
  },
  {
   "cell_type": "code",
   "execution_count": null,
   "metadata": {
    "collapsed": true
   },
   "outputs": [],
   "source": []
  }
 ],
 "metadata": {
  "kernelspec": {
   "display_name": "Python 2",
   "language": "python",
   "name": "python2"
  },
  "language_info": {
   "codemirror_mode": {
    "name": "ipython",
    "version": 2
   },
   "file_extension": ".py",
   "mimetype": "text/x-python",
   "name": "python",
   "nbconvert_exporter": "python",
   "pygments_lexer": "ipython2",
   "version": "2.7.11"
  }
 },
 "nbformat": 4,
 "nbformat_minor": 0
}
