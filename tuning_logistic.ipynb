{
 "cells": [
  {
   "cell_type": "code",
   "execution_count": 1,
   "metadata": {
    "collapsed": false
   },
   "outputs": [],
   "source": [
    "import csv\n",
    "import numpy as np\n",
    "import pandas as pd\n",
    "import random\n",
    "\n",
    "from scipy.stats import randint as sp_randint\n",
    "from scipy.stats import uniform as sp_uniform\n",
    "from sklearn.model_selection import GridSearchCV, RandomizedSearchCV, train_test_split\n",
    "from sklearn.ensemble import AdaBoostClassifier, BaggingClassifier, ExtraTreesClassifier, RandomForestClassifier, GradientBoostingClassifier\n",
    "from sklearn.linear_model import LogisticRegression, SGDClassifier\n",
    "from sklearn.naive_bayes import GaussianNB, MultinomialNB\n",
    "from sklearn.neighbors import KNeighborsClassifier"
   ]
  },
  {
   "cell_type": "code",
   "execution_count": 2,
   "metadata": {
    "collapsed": false
   },
   "outputs": [
    {
     "name": "stdout",
     "output_type": "stream",
     "text": [
      "Processing numerical data...\n",
      "Processing categorical data...\n"
     ]
    },
    {
     "ename": "KeyboardInterrupt",
     "evalue": "",
     "output_type": "error",
     "traceback": [
      "\u001b[0;31m---------------------------------------------------------------------------\u001b[0m",
      "\u001b[0;31mKeyboardInterrupt\u001b[0m                         Traceback (most recent call last)",
      "\u001b[0;32m<ipython-input-2-1adfa7bac655>\u001b[0m in \u001b[0;36m<module>\u001b[0;34m()\u001b[0m\n\u001b[1;32m     24\u001b[0m \u001b[0;31m# Only categorical data\u001b[0m\u001b[0;34m\u001b[0m\u001b[0;34m\u001b[0m\u001b[0m\n\u001b[1;32m     25\u001b[0m \u001b[0;32mprint\u001b[0m\u001b[0;34m(\u001b[0m\u001b[0;34m'Processing categorical data...'\u001b[0m\u001b[0;34m)\u001b[0m\u001b[0;34m\u001b[0m\u001b[0m\n\u001b[0;32m---> 26\u001b[0;31m \u001b[0mall_data_cat\u001b[0m \u001b[0;34m=\u001b[0m \u001b[0mpd\u001b[0m\u001b[0;34m.\u001b[0m\u001b[0mget_dummies\u001b[0m\u001b[0;34m(\u001b[0m\u001b[0mall_data\u001b[0m\u001b[0;34m[\u001b[0m\u001b[0mcategorical_columns\u001b[0m\u001b[0;34m]\u001b[0m\u001b[0;34m)\u001b[0m\u001b[0;34m\u001b[0m\u001b[0m\n\u001b[0m\u001b[1;32m     27\u001b[0m \u001b[0mtrain_data_cat\u001b[0m \u001b[0;34m=\u001b[0m \u001b[0mall_data_cat\u001b[0m\u001b[0;34m.\u001b[0m\u001b[0miloc\u001b[0m\u001b[0;34m[\u001b[0m\u001b[0;36m0\u001b[0m\u001b[0;34m:\u001b[0m\u001b[0mtrain_obs\u001b[0m\u001b[0;34m,\u001b[0m\u001b[0;34m]\u001b[0m\u001b[0;34m\u001b[0m\u001b[0m\n\u001b[1;32m     28\u001b[0m \u001b[0mtest_data_cat\u001b[0m \u001b[0;34m=\u001b[0m \u001b[0mall_data_cat\u001b[0m\u001b[0;34m.\u001b[0m\u001b[0miloc\u001b[0m\u001b[0;34m[\u001b[0m\u001b[0mtrain_obs\u001b[0m\u001b[0;34m:\u001b[0m\u001b[0;34m,\u001b[0m\u001b[0;34m]\u001b[0m\u001b[0;34m\u001b[0m\u001b[0m\n",
      "\u001b[0;32m/usr/local/lib/python2.7/site-packages/pandas/core/reshape.pyc\u001b[0m in \u001b[0;36mget_dummies\u001b[0;34m(data, prefix, prefix_sep, dummy_na, columns, sparse)\u001b[0m\n\u001b[1;32m   1069\u001b[0m                                     dummy_na=dummy_na, sparse=sparse)\n\u001b[1;32m   1070\u001b[0m             \u001b[0mwith_dummies\u001b[0m\u001b[0;34m.\u001b[0m\u001b[0mappend\u001b[0m\u001b[0;34m(\u001b[0m\u001b[0mdummy\u001b[0m\u001b[0;34m)\u001b[0m\u001b[0;34m\u001b[0m\u001b[0m\n\u001b[0;32m-> 1071\u001b[0;31m         \u001b[0mresult\u001b[0m \u001b[0;34m=\u001b[0m \u001b[0mconcat\u001b[0m\u001b[0;34m(\u001b[0m\u001b[0mwith_dummies\u001b[0m\u001b[0;34m,\u001b[0m \u001b[0maxis\u001b[0m\u001b[0;34m=\u001b[0m\u001b[0;36m1\u001b[0m\u001b[0;34m)\u001b[0m\u001b[0;34m\u001b[0m\u001b[0m\n\u001b[0m\u001b[1;32m   1072\u001b[0m     \u001b[0;32melse\u001b[0m\u001b[0;34m:\u001b[0m\u001b[0;34m\u001b[0m\u001b[0m\n\u001b[1;32m   1073\u001b[0m         result = _get_dummies_1d(data, prefix, prefix_sep, dummy_na,\n",
      "\u001b[0;32m/usr/local/lib/python2.7/site-packages/pandas/tools/merge.pyc\u001b[0m in \u001b[0;36mconcat\u001b[0;34m(objs, axis, join, join_axes, ignore_index, keys, levels, names, verify_integrity, copy)\u001b[0m\n\u001b[1;32m    811\u001b[0m                        \u001b[0mverify_integrity\u001b[0m\u001b[0;34m=\u001b[0m\u001b[0mverify_integrity\u001b[0m\u001b[0;34m,\u001b[0m\u001b[0;34m\u001b[0m\u001b[0m\n\u001b[1;32m    812\u001b[0m                        copy=copy)\n\u001b[0;32m--> 813\u001b[0;31m     \u001b[0;32mreturn\u001b[0m \u001b[0mop\u001b[0m\u001b[0;34m.\u001b[0m\u001b[0mget_result\u001b[0m\u001b[0;34m(\u001b[0m\u001b[0;34m)\u001b[0m\u001b[0;34m\u001b[0m\u001b[0m\n\u001b[0m\u001b[1;32m    814\u001b[0m \u001b[0;34m\u001b[0m\u001b[0m\n\u001b[1;32m    815\u001b[0m \u001b[0;34m\u001b[0m\u001b[0m\n",
      "\u001b[0;32m/usr/local/lib/python2.7/site-packages/pandas/tools/merge.pyc\u001b[0m in \u001b[0;36mget_result\u001b[0;34m(self)\u001b[0m\n\u001b[1;32m    993\u001b[0m \u001b[0;34m\u001b[0m\u001b[0m\n\u001b[1;32m    994\u001b[0m             new_data = concatenate_block_managers(\n\u001b[0;32m--> 995\u001b[0;31m                 mgrs_indexers, self.new_axes, concat_axis=self.axis, copy=self.copy)\n\u001b[0m\u001b[1;32m    996\u001b[0m             \u001b[0;32mif\u001b[0m \u001b[0;32mnot\u001b[0m \u001b[0mself\u001b[0m\u001b[0;34m.\u001b[0m\u001b[0mcopy\u001b[0m\u001b[0;34m:\u001b[0m\u001b[0;34m\u001b[0m\u001b[0m\n\u001b[1;32m    997\u001b[0m                 \u001b[0mnew_data\u001b[0m\u001b[0;34m.\u001b[0m\u001b[0m_consolidate_inplace\u001b[0m\u001b[0;34m(\u001b[0m\u001b[0;34m)\u001b[0m\u001b[0;34m\u001b[0m\u001b[0m\n",
      "\u001b[0;32m/usr/local/lib/python2.7/site-packages/pandas/core/internals.pyc\u001b[0m in \u001b[0;36mconcatenate_block_managers\u001b[0;34m(mgrs_indexers, axes, concat_axis, copy)\u001b[0m\n\u001b[1;32m   4454\u001b[0m                                                 copy=copy),\n\u001b[1;32m   4455\u001b[0m                          placement=placement)\n\u001b[0;32m-> 4456\u001b[0;31m               for placement, join_units in concat_plan]\n\u001b[0m\u001b[1;32m   4457\u001b[0m \u001b[0;34m\u001b[0m\u001b[0m\n\u001b[1;32m   4458\u001b[0m     \u001b[0;32mreturn\u001b[0m \u001b[0mBlockManager\u001b[0m\u001b[0;34m(\u001b[0m\u001b[0mblocks\u001b[0m\u001b[0;34m,\u001b[0m \u001b[0maxes\u001b[0m\u001b[0;34m)\u001b[0m\u001b[0;34m\u001b[0m\u001b[0m\n",
      "\u001b[0;32m/usr/local/lib/python2.7/site-packages/pandas/core/internals.pyc\u001b[0m in \u001b[0;36mconcatenate_join_units\u001b[0;34m(join_units, concat_axis, copy)\u001b[0m\n\u001b[1;32m   4547\u001b[0m         \u001b[0;32mraise\u001b[0m \u001b[0mAssertionError\u001b[0m\u001b[0;34m(\u001b[0m\u001b[0;34m\"Concatenating join units along axis0\"\u001b[0m\u001b[0;34m)\u001b[0m\u001b[0;34m\u001b[0m\u001b[0m\n\u001b[1;32m   4548\u001b[0m \u001b[0;34m\u001b[0m\u001b[0m\n\u001b[0;32m-> 4549\u001b[0;31m     \u001b[0mempty_dtype\u001b[0m\u001b[0;34m,\u001b[0m \u001b[0mupcasted_na\u001b[0m \u001b[0;34m=\u001b[0m \u001b[0mget_empty_dtype_and_na\u001b[0m\u001b[0;34m(\u001b[0m\u001b[0mjoin_units\u001b[0m\u001b[0;34m)\u001b[0m\u001b[0;34m\u001b[0m\u001b[0m\n\u001b[0m\u001b[1;32m   4550\u001b[0m \u001b[0;34m\u001b[0m\u001b[0m\n\u001b[1;32m   4551\u001b[0m     to_concat = [ju.get_reindexed_values(empty_dtype=empty_dtype,\n",
      "\u001b[0;32m/usr/local/lib/python2.7/site-packages/pandas/core/internals.pyc\u001b[0m in \u001b[0;36mget_empty_dtype_and_na\u001b[0;34m(join_units)\u001b[0m\n\u001b[1;32m   4508\u001b[0m         \u001b[0;31m# are only null blocks, when same upcasting rules must be applied to\u001b[0m\u001b[0;34m\u001b[0m\u001b[0;34m\u001b[0m\u001b[0m\n\u001b[1;32m   4509\u001b[0m         \u001b[0;31m# null upcast classes.\u001b[0m\u001b[0;34m\u001b[0m\u001b[0;34m\u001b[0m\u001b[0m\n\u001b[0;32m-> 4510\u001b[0;31m         \u001b[0;32mif\u001b[0m \u001b[0munit\u001b[0m\u001b[0;34m.\u001b[0m\u001b[0mis_null\u001b[0m\u001b[0;34m:\u001b[0m\u001b[0;34m\u001b[0m\u001b[0m\n\u001b[0m\u001b[1;32m   4511\u001b[0m             \u001b[0mnull_upcast_classes\u001b[0m\u001b[0;34m[\u001b[0m\u001b[0mupcast_cls\u001b[0m\u001b[0;34m]\u001b[0m\u001b[0;34m.\u001b[0m\u001b[0mappend\u001b[0m\u001b[0;34m(\u001b[0m\u001b[0mdtype\u001b[0m\u001b[0;34m)\u001b[0m\u001b[0;34m\u001b[0m\u001b[0m\n\u001b[1;32m   4512\u001b[0m         \u001b[0;32melse\u001b[0m\u001b[0;34m:\u001b[0m\u001b[0;34m\u001b[0m\u001b[0m\n",
      "\u001b[0;32mpandas/src/properties.pyx\u001b[0m in \u001b[0;36mpandas.lib.cache_readonly.__get__ (pandas/lib.c:44341)\u001b[0;34m()\u001b[0m\n",
      "\u001b[0;32m/usr/local/lib/python2.7/site-packages/pandas/core/internals.pyc\u001b[0m in \u001b[0;36mis_null\u001b[0;34m(self)\u001b[0m\n\u001b[1;32m   4780\u001b[0m             \u001b[0mvalues_flat\u001b[0m \u001b[0;34m=\u001b[0m \u001b[0mvalues\u001b[0m\u001b[0;34m.\u001b[0m\u001b[0mcategories\u001b[0m\u001b[0;34m\u001b[0m\u001b[0m\n\u001b[1;32m   4781\u001b[0m         \u001b[0;32melse\u001b[0m\u001b[0;34m:\u001b[0m\u001b[0;34m\u001b[0m\u001b[0m\n\u001b[0;32m-> 4782\u001b[0;31m             \u001b[0mvalues_flat\u001b[0m \u001b[0;34m=\u001b[0m \u001b[0mvalues\u001b[0m\u001b[0;34m.\u001b[0m\u001b[0mravel\u001b[0m\u001b[0;34m(\u001b[0m\u001b[0;34m)\u001b[0m\u001b[0;34m\u001b[0m\u001b[0m\n\u001b[0m\u001b[1;32m   4783\u001b[0m         \u001b[0mtotal_len\u001b[0m \u001b[0;34m=\u001b[0m \u001b[0mvalues_flat\u001b[0m\u001b[0;34m.\u001b[0m\u001b[0mshape\u001b[0m\u001b[0;34m[\u001b[0m\u001b[0;36m0\u001b[0m\u001b[0;34m]\u001b[0m\u001b[0;34m\u001b[0m\u001b[0m\n\u001b[1;32m   4784\u001b[0m         \u001b[0mchunk_len\u001b[0m \u001b[0;34m=\u001b[0m \u001b[0mmax\u001b[0m\u001b[0;34m(\u001b[0m\u001b[0mtotal_len\u001b[0m \u001b[0;34m//\u001b[0m \u001b[0;36m40\u001b[0m\u001b[0;34m,\u001b[0m \u001b[0;36m1000\u001b[0m\u001b[0;34m)\u001b[0m\u001b[0;34m\u001b[0m\u001b[0m\n",
      "\u001b[0;31mKeyboardInterrupt\u001b[0m: "
     ]
    }
   ],
   "source": [
    "train = pd.read_csv('data.csv', sep=\",\")\n",
    "test_data = pd.read_csv('quiz.csv', sep=\",\")\n",
    "\n",
    "train_data = train.iloc[:,:-1]\n",
    "train_labels = train.iloc[:,-1]\n",
    "\n",
    "train_data, holdout_data, train_labels, holdout_label = train_test_split(train_data, train_labels, \n",
    "                                                                         test_size=0.2, random_state=1)\n",
    "all_data = pd.concat([train_data, test_data])\n",
    "train_obs = len(train_data)\n",
    "test_obs = len(test_data)\n",
    "\n",
    "# Change dtype of categorical columns\n",
    "categorical_columns = ['0','5','7','8','9','14','16','17','18','20','23','25','26','56','57','58']\n",
    "for i in range(0,len(categorical_columns)):\n",
    "    all_data[categorical_columns[i]] = all_data[categorical_columns[i]].astype('category')\n",
    "    \n",
    "# Only numerical data\n",
    "print('Processing numerical data...')\n",
    "all_data_num = all_data.drop(categorical_columns, axis=1)\n",
    "train_data_num = all_data_num.iloc[0:train_obs,]\n",
    "test_data_num = all_data_num.iloc[train_obs:,]\n",
    "\n",
    "# Only categorical data\n",
    "print('Processing categorical data...')\n",
    "all_data_cat = pd.get_dummies(all_data[categorical_columns])\n",
    "train_data_cat = all_data_cat.iloc[0:train_obs,]\n",
    "test_data_cat = all_data_cat.iloc[train_obs:,]\n",
    "\n",
    "# Combine the two\n",
    "print('Combining data...')\n",
    "train_data_combo = pd.concat([train_data_num, train_data_cat], axis=1)\n",
    "test_data_combo = pd.concat([test_data_num, test_data_cat], axis=1)\n",
    "\n",
    "print('Processing finished!')"
   ]
  },
  {
   "cell_type": "code",
   "execution_count": 19,
   "metadata": {
    "collapsed": false
   },
   "outputs": [
    {
     "name": "stdout",
     "output_type": "stream",
     "text": [
      "Fitting 3 folds for each of 10 candidates, totalling 30 fits\n",
      "[CV] penalty=l2, C=0.505552636179, n_jobs=-1 .........................\n",
      "[CV]  penalty=l2, C=0.505552636179, n_jobs=-1, score=0.890581 -  25.6s\n",
      "[CV] penalty=l2, C=0.505552636179, n_jobs=-1 .........................\n",
      "[CV]  penalty=l2, C=0.505552636179, n_jobs=-1, score=0.890962 -  24.7s\n",
      "[CV] penalty=l2, C=0.505552636179, n_jobs=-1 .........................\n",
      "[CV]  penalty=l2, C=0.505552636179, n_jobs=-1, score=0.895364 -  25.6s\n",
      "[CV] penalty=l1, C=0.902967739143, n_jobs=-1 .........................\n",
      "[CV]  penalty=l1, C=0.902967739143, n_jobs=-1, score=0.891083 -  32.7s\n",
      "[CV] penalty=l1, C=0.902967739143, n_jobs=-1 .........................\n",
      "[CV]  penalty=l1, C=0.902967739143, n_jobs=-1, score=0.891021 -  35.1s\n",
      "[CV] penalty=l1, C=0.902967739143, n_jobs=-1 .........................\n",
      "[CV]  penalty=l1, C=0.902967739143, n_jobs=-1, score=0.896014 -  29.9s\n",
      "[CV] penalty=l2, C=0.595889106942, n_jobs=-1 .........................\n",
      "[CV]  penalty=l2, C=0.595889106942, n_jobs=-1, score=0.890433 -  24.7s\n",
      "[CV] penalty=l2, C=0.595889106942, n_jobs=-1 .........................\n",
      "[CV]  penalty=l2, C=0.595889106942, n_jobs=-1, score=0.891110 -  25.3s\n",
      "[CV] penalty=l2, C=0.595889106942, n_jobs=-1 .........................\n",
      "[CV]  penalty=l2, C=0.595889106942, n_jobs=-1, score=0.895453 -  25.1s\n",
      "[CV] penalty=l1, C=0.288209345056, n_jobs=-1 .........................\n",
      "[CV]  penalty=l1, C=0.288209345056, n_jobs=-1, score=0.889487 -  34.4s\n",
      "[CV] penalty=l1, C=0.288209345056, n_jobs=-1 .........................\n",
      "[CV]  penalty=l1, C=0.288209345056, n_jobs=-1, score=0.890104 -  30.1s\n",
      "[CV] penalty=l1, C=0.288209345056, n_jobs=-1 .........................\n",
      "[CV]  penalty=l1, C=0.288209345056, n_jobs=-1, score=0.893620 -  37.3s\n",
      "[CV] penalty=l1, C=0.678885640135, n_jobs=-1 .........................\n",
      "[CV]  penalty=l1, C=0.678885640135, n_jobs=-1, score=0.890462 -  33.8s\n",
      "[CV] penalty=l1, C=0.678885640135, n_jobs=-1 .........................\n",
      "[CV]  penalty=l1, C=0.678885640135, n_jobs=-1, score=0.891524 -  33.4s\n",
      "[CV] penalty=l1, C=0.678885640135, n_jobs=-1 .........................\n",
      "[CV]  penalty=l1, C=0.678885640135, n_jobs=-1, score=0.895364 -  33.8s\n",
      "[CV] penalty=l1, C=0.0913362716553, n_jobs=-1 ........................\n",
      "[CV]  penalty=l1, C=0.0913362716553, n_jobs=-1, score=0.885082 -  30.0s\n",
      "[CV] penalty=l1, C=0.0913362716553, n_jobs=-1 ........................\n",
      "[CV]  penalty=l1, C=0.0913362716553, n_jobs=-1, score=0.885492 -  29.7s\n",
      "[CV] penalty=l1, C=0.0913362716553, n_jobs=-1 ........................\n",
      "[CV]  penalty=l1, C=0.0913362716553, n_jobs=-1, score=0.889362 -  30.3s\n",
      "[CV] penalty=l2, C=0.396364300454, n_jobs=-1 .........................\n",
      "[CV]  penalty=l2, C=0.396364300454, n_jobs=-1, score=0.890315 -  24.8s\n",
      "[CV] penalty=l2, C=0.396364300454, n_jobs=-1 .........................\n",
      "[CV]  penalty=l2, C=0.396364300454, n_jobs=-1, score=0.891257 -  24.4s\n",
      "[CV] penalty=l2, C=0.396364300454, n_jobs=-1 .........................\n",
      "[CV]  penalty=l2, C=0.396364300454, n_jobs=-1, score=0.895453 -  24.5s\n",
      "[CV] penalty=l1, C=0.11505728244, n_jobs=-1 ..........................\n",
      "[CV] . penalty=l1, C=0.11505728244, n_jobs=-1, score=0.886028 -  30.8s\n",
      "[CV] penalty=l1, C=0.11505728244, n_jobs=-1 ..........................\n",
      "[CV] . penalty=l1, C=0.11505728244, n_jobs=-1, score=0.886586 -  30.4s\n",
      "[CV] penalty=l1, C=0.11505728244, n_jobs=-1 ..........................\n",
      "[CV] . penalty=l1, C=0.11505728244, n_jobs=-1, score=0.890722 -  30.0s\n",
      "[CV] penalty=l1, C=0.728055947624, n_jobs=-1 .........................\n",
      "[CV]  penalty=l1, C=0.728055947624, n_jobs=-1, score=0.890344 -  32.5s\n",
      "[CV] penalty=l1, C=0.728055947624, n_jobs=-1 .........................\n",
      "[CV]  penalty=l1, C=0.728055947624, n_jobs=-1, score=0.891524 -  33.7s\n",
      "[CV] penalty=l1, C=0.728055947624, n_jobs=-1 .........................\n",
      "[CV]  penalty=l1, C=0.728055947624, n_jobs=-1, score=0.895305 -  33.2s\n",
      "[CV] penalty=l1, C=0.896475755924, n_jobs=-1 .........................\n",
      "[CV]  penalty=l1, C=0.896475755924, n_jobs=-1, score=0.891083 -  34.1s\n",
      "[CV] penalty=l1, C=0.896475755924, n_jobs=-1 .........................\n",
      "[CV]  penalty=l1, C=0.896475755924, n_jobs=-1, score=0.891021 -  35.4s\n",
      "[CV] penalty=l1, C=0.896475755924, n_jobs=-1 .........................\n",
      "[CV]  penalty=l1, C=0.896475755924, n_jobs=-1, score=0.895896 -  33.6s\n"
     ]
    },
    {
     "name": "stderr",
     "output_type": "stream",
     "text": [
      "[Parallel(n_jobs=1)]: Done  30 out of  30 | elapsed: 15.3min finished\n"
     ]
    },
    {
     "data": {
      "text/plain": [
       "RandomizedSearchCV(cv=3, error_score='raise',\n",
       "          estimator=LogisticRegression(C=1.0, class_weight=None, dual=False, fit_intercept=True,\n",
       "          intercept_scaling=1, max_iter=100, multi_class='ovr', n_jobs=1,\n",
       "          penalty='l2', random_state=None, solver='liblinear', tol=0.0001,\n",
       "          verbose=0, warm_start=False),\n",
       "          fit_params={}, iid=True, n_iter=10, n_jobs=1,\n",
       "          param_distributions={'penalty': ['l1', 'l2'], 'C': <scipy.stats._distn_infrastructure.rv_frozen object at 0x106fe2190>, 'n_jobs': [-1]},\n",
       "          pre_dispatch='2*n_jobs', random_state=None, refit=True,\n",
       "          scoring=None, verbose=3)"
      ]
     },
     "execution_count": 19,
     "metadata": {},
     "output_type": "execute_result"
    }
   ],
   "source": [
    "params = {'penalty': ['l1','l2'],\n",
    "          'C': sp_uniform(0,1),\n",
    "          'n_jobs': [-1]\n",
    "}\n",
    "classifier = LogisticRegression()\n",
    "search_results = RandomizedSearchCV(estimator = classifier,\n",
    "                                        param_distributions = params,\n",
    "                                        n_iter = 10, n_jobs = 1,\n",
    "                                        cv = 3, verbose = 3 )\n",
    "search_results.fit(train_data_combo, train_labels)"
   ]
  },
  {
   "cell_type": "code",
   "execution_count": 20,
   "metadata": {
    "collapsed": false
   },
   "outputs": [
    {
     "data": {
      "text/plain": [
       "0.892706146704905"
      ]
     },
     "execution_count": 20,
     "metadata": {},
     "output_type": "execute_result"
    }
   ],
   "source": [
    "search_results.best_score_"
   ]
  },
  {
   "cell_type": "code",
   "execution_count": 21,
   "metadata": {
    "collapsed": false
   },
   "outputs": [
    {
     "data": {
      "text/plain": [
       "[mean: 0.89230, std: 0.00217, params: {'penalty': 'l2', 'C': 0.5055526361793926, 'n_jobs': -1},\n",
       " mean: 0.89271, std: 0.00234, params: {'penalty': 'l1', 'C': 0.9029677391429398, 'n_jobs': -1},\n",
       " mean: 0.89233, std: 0.00222, params: {'penalty': 'l2', 'C': 0.595889106941752, 'n_jobs': -1},\n",
       " mean: 0.89107, std: 0.00182, params: {'penalty': 'l1', 'C': 0.2882093450562242, 'n_jobs': -1},\n",
       " mean: 0.89245, std: 0.00211, params: {'penalty': 'l1', 'C': 0.6788856401352185, 'n_jobs': -1},\n",
       " mean: 0.88665, std: 0.00193, params: {'penalty': 'l1', 'C': 0.09133627165533109, 'n_jobs': -1},\n",
       " mean: 0.89234, std: 0.00223, params: {'penalty': 'l2', 'C': 0.39636430045354476, 'n_jobs': -1},\n",
       " mean: 0.88778, std: 0.00209, params: {'penalty': 'l1', 'C': 0.115057282439877, 'n_jobs': -1},\n",
       " mean: 0.89239, std: 0.00212, params: {'penalty': 'l1', 'C': 0.7280559476243866, 'n_jobs': -1},\n",
       " mean: 0.89267, std: 0.00228, params: {'penalty': 'l1', 'C': 0.896475755924302, 'n_jobs': -1}]"
      ]
     },
     "execution_count": 21,
     "metadata": {},
     "output_type": "execute_result"
    }
   ],
   "source": [
    "search_results.grid_scores_"
   ]
  },
  {
   "cell_type": "code",
   "execution_count": null,
   "metadata": {
    "collapsed": true
   },
   "outputs": [],
   "source": []
  }
 ],
 "metadata": {
  "kernelspec": {
   "display_name": "Python 2",
   "language": "python",
   "name": "python2"
  },
  "language_info": {
   "codemirror_mode": {
    "name": "ipython",
    "version": 2
   },
   "file_extension": ".py",
   "mimetype": "text/x-python",
   "name": "python",
   "nbconvert_exporter": "python",
   "pygments_lexer": "ipython2",
   "version": "2.7.11"
  }
 },
 "nbformat": 4,
 "nbformat_minor": 0
}
