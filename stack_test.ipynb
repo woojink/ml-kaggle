{
 "cells": [
  {
   "cell_type": "code",
   "execution_count": 1,
   "metadata": {
    "collapsed": true
   },
   "outputs": [],
   "source": [
    "import csv\n",
    "import numpy as np\n",
    "import pandas as pd\n",
    "import random\n",
    "\n",
    "#########################\n",
    "# Load the datasets\n",
    "train = pd.read_csv('data.csv', sep=\",\")\n",
    "train_data = train.iloc[:,:-1]\n",
    "train_labels = train.iloc[:,-1]\n",
    "\n",
    "test_data = pd.read_csv('quiz.csv', sep=\",\")\n",
    "\n",
    "all_data = pd.concat([train_data, test_data])\n",
    "train_obs = len(train_data)\n",
    "test_obs = len(test_data)\n",
    "\n",
    "# Change dtype of categorical columns\n",
    "categorical_columns = ['0','5','7','8','9','14','16','17','18','20','23','25','26','56','57','58']\n",
    "for i in xrange(0,len(categorical_columns)):\n",
    "    all_data[categorical_columns[i]] = all_data[categorical_columns[i]].astype('category')\n",
    "\n",
    "#########################\n",
    "# Only numerical data\n",
    "all_data_num = all_data.drop(categorical_columns, axis=1)\n",
    "train_data_num = all_data_num.iloc[0:train_obs,]\n",
    "test_data_num = all_data_num.iloc[train_obs:,]\n",
    "\n",
    "#########################\n",
    "# Only categorial data\n",
    "all_data_cat = pd.get_dummies(all_data[categorical_columns])\n",
    "train_data_cat = all_data_cat.iloc[0:train_obs,]\n",
    "test_data_cat = all_data_cat.iloc[train_obs:,]\n",
    "\n",
    "#########################\n",
    "# Ignoring two large columns ('slim')\n",
    "categorical_columns_slim = ['0','5','7','8','9','14','16','17','18','20','25','26','56','57']\n",
    "\n",
    "all_data_cat_slim = pd.get_dummies(all_data[categorical_columns_slim])\n",
    "train_data_cat_slim = all_data_cat_slim.iloc[0:train_obs,]\n",
    "test_data_cat_slim = all_data_cat_slim.iloc[train_obs:,]\n",
    "\n",
    "#########################\n",
    "# Combined sets\n",
    "train_data_combo = pd.concat([train_data_num, train_data_cat], axis=1)\n",
    "test_data_combo = pd.concat([test_data_num, test_data_cat], axis=1)\n",
    "\n",
    "train_data_combo_slim = pd.concat([train_data_num, train_data_cat_slim], axis=1)\n",
    "test_data_combo_slim = pd.concat([test_data_num, test_data_cat_slim], axis=1)"
   ]
  },
  {
   "cell_type": "code",
   "execution_count": 2,
   "metadata": {
    "collapsed": false
   },
   "outputs": [],
   "source": [
    "from sklearn.ensemble import AdaBoostClassifier, BaggingClassifier, ExtraTreesClassifier, RandomForestClassifier, GradientBoostingClassifier\n",
    "from sklearn.linear_model import LogisticRegression, SGDClassifier\n",
    "from sklearn.naive_bayes import GaussianNB, MultinomialNB\n",
    "from sklearn.neighbors import KNeighborsClassifier\n",
    "# from sklearn.neural_network import MLPClassifier\n",
    "from sklearn.svm import SVR\n",
    "# from xgboost import XGBClassifier\n",
    "\n",
    "from sklearn.tree import ExtraTreeClassifier\n",
    "\n",
    "def cv_run_ada(train_data, train_labels, test_data, test_labels):\n",
    "    model = AdaBoostClassifier().fit(train_data, train_labels)\n",
    "    preds = model.predict(test_data)    \n",
    "    error = 1 - sum(preds == test_labels)/float(len(test_labels))\n",
    "    return preds, error\n",
    "\n",
    "def cv_run_bag(train_data, train_labels, test_data, test_labels):\n",
    "    model = BaggingClassifier(max_features=0.75, n_estimators=20, random_state=1).fit(train_data, train_labels)\n",
    "    preds = model.predict(test_data)\n",
    "    error = 1 - sum(preds == test_labels)/float(len(test_labels))\n",
    "    return preds, error\n",
    "\n",
    "def cv_run_et(train_data, train_labels, test_data, test_labels):\n",
    "    model = ExtraTreesClassifier(max_features=None, n_estimators=20, n_jobs=-1, random_state=1).fit(train_data, train_labels)\n",
    "    preds = model.predict(test_data)\n",
    "    error = 1 - sum(preds == test_labels)/float(len(test_labels))\n",
    "    return preds, error\n",
    "\n",
    "def cv_run_et2(train_data, train_labels, test_data, test_labels):\n",
    "    model = ExtraTreesClassifier(max_features=None, n_jobs=-1, random_state=1).fit(train_data, train_labels)\n",
    "    preds = model.predict(test_data)\n",
    "    error = 1 - sum(preds == test_labels)/float(len(test_labels))\n",
    "    return preds, error\n",
    "\n",
    "def cv_run_gb(train_data, train_labels, test_data, test_labels):\n",
    "    model = GradientBoostingClassifier(loss='exponential', n_estimators=200, max_features=None, random_state=1).fit(train_data, train_labels)\n",
    "    preds = model.predict(test_data)\n",
    "    error = 1 - sum(preds == test_labels)/float(len(test_labels))\n",
    "    return preds, error\n",
    "\n",
    "def cv_run_knn(train_data, train_labels, test_data, test_labels, n_neigh):\n",
    "    model = KNeighborsClassifier(n_neighbors=n_neigh).fit(train_data, train_labels)\n",
    "    preds = model.predict(test_data)\n",
    "    error = 1 - sum(preds == test_labels)/float(len(test_labels))\n",
    "    return preds, error\n",
    "\n",
    "def cv_run_logistic(train_data, train_labels, test_data, test_labels):\n",
    "    model = LogisticRegression().fit(train_data, train_labels)\n",
    "    preds = model.predict(test_data)\n",
    "    error = 1 - sum(preds == test_labels)/float(len(test_labels))\n",
    "    return preds, error\n",
    "\n",
    "def cv_run_nb(train_data, train_labels, test_data, test_labels):\n",
    "    model = GaussianNB().fit(train_data, train_labels)\n",
    "    preds = model.predict(test_data)\n",
    "    error = 1 - sum(preds == test_labels)/float(len(test_labels))\n",
    "    return preds, error\n",
    "\n",
    "# def cv_run_neural(train_data, train_labels, test_data, test_labels):\n",
    "#     model = MLPClassifier().fit(train_data, train_labels)\n",
    "#     preds = model.predict(test_data)\n",
    "#     error = 1 - sum(preds == test_labels)/float(len(test_labels))\n",
    "#     return preds, error\n",
    "\n",
    "def cv_run_rf(train_data, train_labels, test_data, test_labels):\n",
    "    model = RandomForestClassifier(max_features=300, n_estimators=20, random_state=1).fit(train_data, train_labels)\n",
    "    preds = model.predict(test_data)\n",
    "    error = 1 - sum(preds == test_labels)/float(len(test_labels))\n",
    "    return preds, error\n",
    "\n",
    "def cv_run_rf2(train_data, train_labels, test_data, test_labels):\n",
    "    model = RandomForestClassifier(max_features=None, random_state=1).fit(train_data, train_labels)\n",
    "    preds = model.predict(test_data)\n",
    "    error = 1 - sum(preds == test_labels)/float(len(test_labels))\n",
    "    return preds, error\n",
    "\n",
    "def cv_run_sgd(train_data, train_labels, test_data, test_labels):    \n",
    "    model = SGDClassifier(loss='perceptron').fit(train_data, train_labels)\n",
    "    preds = model.predict(test_data)\n",
    "    error = 1 - sum(preds == test_labels)/float(len(test_labels))\n",
    "    return preds, error\n",
    "\n",
    "def cv_run_svm(train_data, train_labels, test_data, test_labels):    \n",
    "    model = SVR().fit(train_data, train_labels)\n",
    "    preds = model.predict(test_data)\n",
    "    error = 1 - sum(preds == test_labels)/float(len(test_labels))\n",
    "    return preds, error\n",
    "\n",
    "# def cv_run_xg(train_data, train_labels, test_data, test_labels):\n",
    "#     model = XGBClassifier().fit(train_data, train_labels)\n",
    "#     preds = model.predict(test_data)\n",
    "#     error = 1 - sum(preds == test_labels)/float(len(test_labels))\n",
    "#     return preds, error"
   ]
  },
  {
   "cell_type": "code",
   "execution_count": 3,
   "metadata": {
    "collapsed": false
   },
   "outputs": [
    {
     "name": "stdout",
     "output_type": "stream",
     "text": [
      "Starting fold #1\n",
      "Fold #1 errors:\n",
      "(0.057907600126143155, 0.054635761589403975, 0.055778934090192411, 0.10410753705455689, 0.084752444023967199, 0.081401766004415066, 0.10832544938505206, 0.12543361715547141)\n",
      "\n",
      "Starting fold #2\n"
     ]
    },
    {
     "ename": "KeyboardInterrupt",
     "evalue": "",
     "output_type": "error",
     "traceback": [
      "\u001b[0;31m---------------------------------------------------------------------------\u001b[0m",
      "\u001b[0;31mKeyboardInterrupt\u001b[0m                         Traceback (most recent call last)",
      "\u001b[0;32m<ipython-input-3-5df45db6dfae>\u001b[0m in \u001b[0;36m<module>\u001b[0;34m()\u001b[0m\n\u001b[1;32m     24\u001b[0m     \u001b[0mpreds_2\u001b[0m\u001b[0;34m,\u001b[0m \u001b[0merror_2\u001b[0m \u001b[0;34m=\u001b[0m \u001b[0mcv_run_rf\u001b[0m\u001b[0;34m(\u001b[0m\u001b[0mcv_train_data\u001b[0m\u001b[0;34m,\u001b[0m \u001b[0mcv_train_labels\u001b[0m\u001b[0;34m,\u001b[0m \u001b[0mcv_test_data\u001b[0m\u001b[0;34m,\u001b[0m \u001b[0mcv_test_labels\u001b[0m\u001b[0;34m)\u001b[0m\u001b[0;34m\u001b[0m\u001b[0m\n\u001b[1;32m     25\u001b[0m     \u001b[0mpreds_3\u001b[0m\u001b[0;34m,\u001b[0m \u001b[0merror_3\u001b[0m \u001b[0;34m=\u001b[0m \u001b[0mcv_run_bag\u001b[0m\u001b[0;34m(\u001b[0m\u001b[0mcv_train_data\u001b[0m\u001b[0;34m,\u001b[0m \u001b[0mcv_train_labels\u001b[0m\u001b[0;34m,\u001b[0m \u001b[0mcv_test_data\u001b[0m\u001b[0;34m,\u001b[0m \u001b[0mcv_test_labels\u001b[0m\u001b[0;34m)\u001b[0m\u001b[0;34m\u001b[0m\u001b[0m\n\u001b[0;32m---> 26\u001b[0;31m     \u001b[0mpreds_4\u001b[0m\u001b[0;34m,\u001b[0m \u001b[0merror_4\u001b[0m \u001b[0;34m=\u001b[0m \u001b[0mcv_run_logistic\u001b[0m\u001b[0;34m(\u001b[0m\u001b[0mcv_train_data\u001b[0m\u001b[0;34m,\u001b[0m \u001b[0mcv_train_labels\u001b[0m\u001b[0;34m,\u001b[0m \u001b[0mcv_test_data\u001b[0m\u001b[0;34m,\u001b[0m \u001b[0mcv_test_labels\u001b[0m\u001b[0;34m)\u001b[0m\u001b[0;34m\u001b[0m\u001b[0m\n\u001b[0m\u001b[1;32m     27\u001b[0m     \u001b[0mpreds_5\u001b[0m\u001b[0;34m,\u001b[0m \u001b[0merror_5\u001b[0m \u001b[0;34m=\u001b[0m \u001b[0mcv_run_knn\u001b[0m\u001b[0;34m(\u001b[0m\u001b[0mcv_train_data_slim\u001b[0m\u001b[0;34m,\u001b[0m \u001b[0mcv_train_labels\u001b[0m\u001b[0;34m,\u001b[0m \u001b[0mcv_test_data_slim\u001b[0m\u001b[0;34m,\u001b[0m \u001b[0mcv_test_labels\u001b[0m\u001b[0;34m,\u001b[0m \u001b[0;36m1\u001b[0m\u001b[0;34m)\u001b[0m\u001b[0;34m\u001b[0m\u001b[0m\n\u001b[1;32m     28\u001b[0m     \u001b[0mpreds_6\u001b[0m\u001b[0;34m,\u001b[0m \u001b[0merror_6\u001b[0m \u001b[0;34m=\u001b[0m \u001b[0mcv_run_knn\u001b[0m\u001b[0;34m(\u001b[0m\u001b[0mcv_train_data_slim\u001b[0m\u001b[0;34m,\u001b[0m \u001b[0mcv_train_labels\u001b[0m\u001b[0;34m,\u001b[0m \u001b[0mcv_test_data_slim\u001b[0m\u001b[0;34m,\u001b[0m \u001b[0mcv_test_labels\u001b[0m\u001b[0;34m,\u001b[0m \u001b[0;36m2\u001b[0m\u001b[0;34m)\u001b[0m\u001b[0;34m\u001b[0m\u001b[0m\n",
      "\u001b[0;32m<ipython-input-2-0eaf83195a2b>\u001b[0m in \u001b[0;36mcv_run_logistic\u001b[0;34m(train_data, train_labels, test_data, test_labels)\u001b[0m\n\u001b[1;32m     46\u001b[0m \u001b[0;34m\u001b[0m\u001b[0m\n\u001b[1;32m     47\u001b[0m \u001b[0;32mdef\u001b[0m \u001b[0mcv_run_logistic\u001b[0m\u001b[0;34m(\u001b[0m\u001b[0mtrain_data\u001b[0m\u001b[0;34m,\u001b[0m \u001b[0mtrain_labels\u001b[0m\u001b[0;34m,\u001b[0m \u001b[0mtest_data\u001b[0m\u001b[0;34m,\u001b[0m \u001b[0mtest_labels\u001b[0m\u001b[0;34m)\u001b[0m\u001b[0;34m:\u001b[0m\u001b[0;34m\u001b[0m\u001b[0m\n\u001b[0;32m---> 48\u001b[0;31m     \u001b[0mmodel\u001b[0m \u001b[0;34m=\u001b[0m \u001b[0mLogisticRegression\u001b[0m\u001b[0;34m(\u001b[0m\u001b[0;34m)\u001b[0m\u001b[0;34m.\u001b[0m\u001b[0mfit\u001b[0m\u001b[0;34m(\u001b[0m\u001b[0mtrain_data\u001b[0m\u001b[0;34m,\u001b[0m \u001b[0mtrain_labels\u001b[0m\u001b[0;34m)\u001b[0m\u001b[0;34m\u001b[0m\u001b[0m\n\u001b[0m\u001b[1;32m     49\u001b[0m     \u001b[0mpreds\u001b[0m \u001b[0;34m=\u001b[0m \u001b[0mmodel\u001b[0m\u001b[0;34m.\u001b[0m\u001b[0mpredict\u001b[0m\u001b[0;34m(\u001b[0m\u001b[0mtest_data\u001b[0m\u001b[0;34m)\u001b[0m\u001b[0;34m\u001b[0m\u001b[0m\n\u001b[1;32m     50\u001b[0m     \u001b[0merror\u001b[0m \u001b[0;34m=\u001b[0m \u001b[0;36m1\u001b[0m \u001b[0;34m-\u001b[0m \u001b[0msum\u001b[0m\u001b[0;34m(\u001b[0m\u001b[0mpreds\u001b[0m \u001b[0;34m==\u001b[0m \u001b[0mtest_labels\u001b[0m\u001b[0;34m)\u001b[0m\u001b[0;34m/\u001b[0m\u001b[0mfloat\u001b[0m\u001b[0;34m(\u001b[0m\u001b[0mlen\u001b[0m\u001b[0;34m(\u001b[0m\u001b[0mtest_labels\u001b[0m\u001b[0;34m)\u001b[0m\u001b[0;34m)\u001b[0m\u001b[0;34m\u001b[0m\u001b[0m\n",
      "\u001b[0;32m/usr/local/lib/python2.7/site-packages/sklearn/linear_model/logistic.pyc\u001b[0m in \u001b[0;36mfit\u001b[0;34m(self, X, y, sample_weight)\u001b[0m\n\u001b[1;32m   1184\u001b[0m                 \u001b[0mself\u001b[0m\u001b[0;34m.\u001b[0m\u001b[0mclass_weight\u001b[0m\u001b[0;34m,\u001b[0m \u001b[0mself\u001b[0m\u001b[0;34m.\u001b[0m\u001b[0mpenalty\u001b[0m\u001b[0;34m,\u001b[0m \u001b[0mself\u001b[0m\u001b[0;34m.\u001b[0m\u001b[0mdual\u001b[0m\u001b[0;34m,\u001b[0m \u001b[0mself\u001b[0m\u001b[0;34m.\u001b[0m\u001b[0mverbose\u001b[0m\u001b[0;34m,\u001b[0m\u001b[0;34m\u001b[0m\u001b[0m\n\u001b[1;32m   1185\u001b[0m                 \u001b[0mself\u001b[0m\u001b[0;34m.\u001b[0m\u001b[0mmax_iter\u001b[0m\u001b[0;34m,\u001b[0m \u001b[0mself\u001b[0m\u001b[0;34m.\u001b[0m\u001b[0mtol\u001b[0m\u001b[0;34m,\u001b[0m \u001b[0mself\u001b[0m\u001b[0;34m.\u001b[0m\u001b[0mrandom_state\u001b[0m\u001b[0;34m,\u001b[0m\u001b[0;34m\u001b[0m\u001b[0m\n\u001b[0;32m-> 1186\u001b[0;31m                 sample_weight=sample_weight)\n\u001b[0m\u001b[1;32m   1187\u001b[0m             \u001b[0mself\u001b[0m\u001b[0;34m.\u001b[0m\u001b[0mn_iter_\u001b[0m \u001b[0;34m=\u001b[0m \u001b[0mnp\u001b[0m\u001b[0;34m.\u001b[0m\u001b[0marray\u001b[0m\u001b[0;34m(\u001b[0m\u001b[0;34m[\u001b[0m\u001b[0mn_iter_\u001b[0m\u001b[0;34m]\u001b[0m\u001b[0;34m)\u001b[0m\u001b[0;34m\u001b[0m\u001b[0m\n\u001b[1;32m   1188\u001b[0m             \u001b[0;32mreturn\u001b[0m \u001b[0mself\u001b[0m\u001b[0;34m\u001b[0m\u001b[0m\n",
      "\u001b[0;32m/usr/local/lib/python2.7/site-packages/sklearn/svm/base.pyc\u001b[0m in \u001b[0;36m_fit_liblinear\u001b[0;34m(X, y, C, fit_intercept, intercept_scaling, class_weight, penalty, dual, verbose, max_iter, tol, random_state, multi_class, loss, epsilon, sample_weight)\u001b[0m\n\u001b[1;32m    901\u001b[0m         \u001b[0mX\u001b[0m\u001b[0;34m,\u001b[0m \u001b[0my_ind\u001b[0m\u001b[0;34m,\u001b[0m \u001b[0msp\u001b[0m\u001b[0;34m.\u001b[0m\u001b[0misspmatrix\u001b[0m\u001b[0;34m(\u001b[0m\u001b[0mX\u001b[0m\u001b[0;34m)\u001b[0m\u001b[0;34m,\u001b[0m \u001b[0msolver_type\u001b[0m\u001b[0;34m,\u001b[0m \u001b[0mtol\u001b[0m\u001b[0;34m,\u001b[0m \u001b[0mbias\u001b[0m\u001b[0;34m,\u001b[0m \u001b[0mC\u001b[0m\u001b[0;34m,\u001b[0m\u001b[0;34m\u001b[0m\u001b[0m\n\u001b[1;32m    902\u001b[0m         \u001b[0mclass_weight_\u001b[0m\u001b[0;34m,\u001b[0m \u001b[0mmax_iter\u001b[0m\u001b[0;34m,\u001b[0m \u001b[0mrnd\u001b[0m\u001b[0;34m.\u001b[0m\u001b[0mrandint\u001b[0m\u001b[0;34m(\u001b[0m\u001b[0mnp\u001b[0m\u001b[0;34m.\u001b[0m\u001b[0miinfo\u001b[0m\u001b[0;34m(\u001b[0m\u001b[0;34m'i'\u001b[0m\u001b[0;34m)\u001b[0m\u001b[0;34m.\u001b[0m\u001b[0mmax\u001b[0m\u001b[0;34m)\u001b[0m\u001b[0;34m,\u001b[0m\u001b[0;34m\u001b[0m\u001b[0m\n\u001b[0;32m--> 903\u001b[0;31m         epsilon, sample_weight)\n\u001b[0m\u001b[1;32m    904\u001b[0m     \u001b[0;31m# Regarding rnd.randint(..) in the above signature:\u001b[0m\u001b[0;34m\u001b[0m\u001b[0;34m\u001b[0m\u001b[0m\n\u001b[1;32m    905\u001b[0m     \u001b[0;31m# seed for srand in range [0..INT_MAX); due to limitations in Numpy\u001b[0m\u001b[0;34m\u001b[0m\u001b[0;34m\u001b[0m\u001b[0m\n",
      "\u001b[0;31mKeyboardInterrupt\u001b[0m: "
     ]
    }
   ],
   "source": [
    "#########################\n",
    "# Cross validation (first stage)\n",
    "random.seed(1)\n",
    "n_folds = 5\n",
    "num_train = len(train_data_combo)\n",
    "indices = random.sample(xrange(num_train), num_train)\n",
    "cv_folds = np.array_split(indices, n_folds)\n",
    "\n",
    "cv_preds = []\n",
    "for i, fold in enumerate(cv_folds):\n",
    "    cv_train_index = np.setxor1d(indices, fold)\n",
    "    cv_test_index = fold\n",
    "    \n",
    "    cv_train_data = train_data_combo.iloc[cv_train_index,:]\n",
    "    cv_train_data_slim = train_data_combo_slim.iloc[cv_train_index,:]\n",
    "    cv_train_labels = train_labels[cv_train_index]\n",
    "\n",
    "    cv_test_data = train_data_combo.iloc[cv_test_index,:]\n",
    "    cv_test_data_slim = train_data_combo_slim.iloc[cv_test_index,:]\n",
    "    cv_test_labels = train_labels[cv_test_index]\n",
    "    \n",
    "    print(\"Starting fold #{}\".format(i+1))\n",
    "    preds_1, error_1 = cv_run_et(cv_train_data, cv_train_labels, cv_test_data, cv_test_labels)\n",
    "    preds_2, error_2 = cv_run_rf(cv_train_data, cv_train_labels, cv_test_data, cv_test_labels)\n",
    "    preds_3, error_3 = cv_run_bag(cv_train_data, cv_train_labels, cv_test_data, cv_test_labels)\n",
    "    preds_4, error_4 = cv_run_logistic(cv_train_data, cv_train_labels, cv_test_data, cv_test_labels)\n",
    "    preds_5, error_5 = cv_run_knn(cv_train_data_slim, cv_train_labels, cv_test_data_slim, cv_test_labels, 1)\n",
    "    preds_6, error_6 = cv_run_knn(cv_train_data_slim, cv_train_labels, cv_test_data_slim, cv_test_labels, 2)\n",
    "    preds_7, error_7 = cv_run_knn(cv_train_data_slim, cv_train_labels, cv_test_data_slim, cv_test_labels, 5)\n",
    "    preds_8, error_8 = cv_run_knn(cv_train_data_slim, cv_train_labels, cv_test_data_slim, cv_test_labels, 10)\n",
    "    \n",
    "#     fold_preds = pd.concat([preds_1, preds_2, preds_3, preds_4, preds_5, preds_6, preds_7, preds_8], axis=1)\n",
    "    fold_preds = np.column_stack((preds_1, preds_2, preds_3, preds_4, preds_5, preds_6, preds_7, preds_8))\n",
    "    if len(cv_preds) == 0:\n",
    "        cv_preds = fold_preds\n",
    "    else:\n",
    "        cv_preds = np.vstack((cv_preds,fold_preds))\n",
    "    print(\"Fold #{} errors:\".format(i+1))\n",
    "    print(error_1, error_2, error_3,error_4, error_5, error_6, error_7, error_8)\n",
    "    print('')\n",
    "\n",
    "# print(sum(cv_errors)/float(n_folds))"
   ]
  },
  {
   "cell_type": "code",
   "execution_count": null,
   "metadata": {
    "collapsed": false
   },
   "outputs": [],
   "source": [
    "#########################\n",
    "# CV Errors\n",
    "cv_labels = train_labels[indices]\n",
    "for i in xrange(cv_preds.shape[1]):\n",
    "    print(\"Method #{}: {}\".format(i, 1 - sum(cv_preds[:,i] == cv_labels)/float(len(cv_labels))))\n",
    "cv_labels = cv_labels.as_matrix()"
   ]
  },
  {
   "cell_type": "code",
   "execution_count": null,
   "metadata": {
    "collapsed": false
   },
   "outputs": [],
   "source": [
    "from sklearn.cross_validation import KFold\n",
    "\n",
    "cv_preds_stack = pd.DataFrame(cv_preds)\n",
    "\n",
    "n = len(cv_labels)\n",
    "kf = KFold(n, n_folds=5)\n",
    "cv_errors = []\n",
    "for i, (train, test) in enumerate(kf):\n",
    "    cv_train_data = cv_preds_stack.iloc[train,:]\n",
    "    cv_train_labels = cv_labels[train]\n",
    "    cv_test_data = cv_preds_stack.iloc[test,:]\n",
    "    cv_test_labels = cv_labels[test]\n",
    "    \n",
    "    print(\"Starting fold #{}\".format(i+1))\n",
    "    preds_0, error_0 = cv_run_ada(cv_train_data, cv_train_labels, cv_test_data, cv_test_labels)\n",
    "    preds_1, error_1 = cv_run_et2(cv_train_data, cv_train_labels, cv_test_data, cv_test_labels)\n",
    "    preds_2, error_2 = cv_run_rf2(cv_train_data, cv_train_labels, cv_test_data, cv_test_labels)\n",
    "    preds_3, error_3 = cv_run_bag(cv_train_data, cv_train_labels, cv_test_data, cv_test_labels)\n",
    "    preds_4, error_4 = cv_run_logistic(cv_train_data, cv_train_labels, cv_test_data, cv_test_labels)\n",
    "    preds_5, error_5 = cv_run_knn(cv_train_data, cv_train_labels, cv_test_data, cv_test_labels, 1)\n",
    "    preds_6, error_6 = cv_run_knn(cv_train_data, cv_train_labels, cv_test_data, cv_test_labels, 2)\n",
    "    preds_7, error_7 = cv_run_knn(cv_train_data, cv_train_labels, cv_test_data, cv_test_labels, 5)\n",
    "    preds_8, error_8 = cv_run_knn(cv_train_data, cv_train_labels, cv_test_data, cv_test_labels, 10)\n",
    "    print(error_0, error_1, error_2, error_3, error_4, error_5, error_6, error_7, error_8)\n",
    "    fold_error = [error_0, error_1, error_2, error_3, error_4, error_5, error_6, error_7, error_8]\n",
    "    \n",
    "    cv_errors.append(fold_errors)\n",
    "    \n",
    "# print(sum(cv_errors)/float(len(cv_errors)))"
   ]
  },
  {
   "cell_type": "markdown",
   "metadata": {},
   "source": [
    "## Train all models for export"
   ]
  },
  {
   "cell_type": "code",
   "execution_count": null,
   "metadata": {
    "collapsed": false
   },
   "outputs": [],
   "source": [
    "print('Model 1')\n",
    "model = ExtraTreesClassifier(max_features=400, n_estimators=20, n_jobs=-1, \n",
    "                             random_state=1).fit(train_data_combo, train_labels)\n",
    "preds_1 = model.predict(test_data_combo)"
   ]
  },
  {
   "cell_type": "code",
   "execution_count": null,
   "metadata": {
    "collapsed": false
   },
   "outputs": [],
   "source": [
    "print('Model 2')\n",
    "model = RandomForestClassifier(max_features=200, random_state=1).fit(train_data_combo, train_labels)\n",
    "preds_2 = model.predict(test_data_combo)"
   ]
  },
  {
   "cell_type": "code",
   "execution_count": null,
   "metadata": {
    "collapsed": false
   },
   "outputs": [],
   "source": [
    "print('Model 3')\n",
    "model = BaggingClassifier(max_features=0.75, random_state=1).fit(train_data_combo, train_labels)\n",
    "preds_3 = model.predict(test_data_combo)"
   ]
  },
  {
   "cell_type": "code",
   "execution_count": null,
   "metadata": {
    "collapsed": false
   },
   "outputs": [],
   "source": [
    "print('Model 4')\n",
    "model = LogisticRegression().fit(train_data_combo, train_labels)\n",
    "preds_4 = model.predict(test_data_combo)"
   ]
  },
  {
   "cell_type": "code",
   "execution_count": null,
   "metadata": {
    "collapsed": false
   },
   "outputs": [],
   "source": [
    "print('Model 5')\n",
    "model = KNeighborsClassifier(n_neighbors=1).fit(train_data_combo_slim, train_labels)\n",
    "preds_5 = model.predict(test_data_combo_slim)\n",
    "print('Model 6')\n",
    "model = KNeighborsClassifier(n_neighbors=2).fit(train_data_combo_slim, train_labels)\n",
    "preds_6 = model.predict(test_data_combo_slim)\n",
    "print('Model 7')\n",
    "model = KNeighborsClassifier(n_neighbors=5).fit(train_data_combo_slim, train_labels)\n",
    "preds_7 = model.predict(test_data_combo_slim)\n",
    "print('Model 8')\n",
    "model = KNeighborsClassifier(n_neighbors=10).fit(train_data_combo_slim, train_labels)\n",
    "preds_8 = model.predict(test_data_combo_slim)"
   ]
  },
  {
   "cell_type": "code",
   "execution_count": null,
   "metadata": {
    "collapsed": false
   },
   "outputs": [],
   "source": [
    "preds = np.column_stack((preds_1, preds_2, preds_3, preds_4, preds_5, preds_6, preds_7, preds_8))"
   ]
  },
  {
   "cell_type": "code",
   "execution_count": null,
   "metadata": {
    "collapsed": true
   },
   "outputs": [],
   "source": [
    "model = ExtraTreesClassifier(max_features=None, n_jobs=-1, random_state=1).fit(cv_preds_stack, cv_labels)\n",
    "results = model.predict(preds)"
   ]
  },
  {
   "cell_type": "code",
   "execution_count": null,
   "metadata": {
    "collapsed": false
   },
   "outputs": [],
   "source": [
    "# with open('results_20160401-3(stack).csv', 'w') as f:\n",
    "#     writer = csv.writer(f)\n",
    "#     writer.writerow((\"Id\",\"Prediction\"))\n",
    "#     writer.writerows(zip(range(1,len(results)+1), results))"
   ]
  },
  {
   "cell_type": "code",
   "execution_count": null,
   "metadata": {
    "collapsed": true
   },
   "outputs": [],
   "source": []
  }
 ],
 "metadata": {
  "kernelspec": {
   "display_name": "Python 2",
   "language": "python",
   "name": "python2"
  },
  "language_info": {
   "codemirror_mode": {
    "name": "ipython",
    "version": 2
   },
   "file_extension": ".py",
   "mimetype": "text/x-python",
   "name": "python",
   "nbconvert_exporter": "python",
   "pygments_lexer": "ipython2",
   "version": "2.7.11"
  }
 },
 "nbformat": 4,
 "nbformat_minor": 0
}
