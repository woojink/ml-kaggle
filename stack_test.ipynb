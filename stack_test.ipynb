{
 "cells": [
  {
   "cell_type": "code",
   "execution_count": 12,
   "metadata": {
    "collapsed": true
   },
   "outputs": [],
   "source": [
    "import csv\n",
    "import numpy as np\n",
    "import pandas as pd\n",
    "import random\n",
    "\n",
    "#########################\n",
    "# Load the datasets\n",
    "train = pd.read_csv('data.csv', sep=\",\")\n",
    "train_data = train.iloc[:,:-1]\n",
    "train_labels = train.iloc[:,-1]\n",
    "\n",
    "test_data = pd.read_csv('quiz.csv', sep=\",\")\n",
    "\n",
    "all_data = pd.concat([train_data, test_data])\n",
    "train_obs = len(train_data)\n",
    "test_obs = len(test_data)\n",
    "\n",
    "# Change dtype of categorical columns\n",
    "categorical_columns = ['0','5','7','8','9','14','16','17','18','20','23','25','26','56','57','58']\n",
    "for i in xrange(0,len(categorical_columns)):\n",
    "    all_data[categorical_columns[i]] = all_data[categorical_columns[i]].astype('category')\n",
    "\n",
    "#########################\n",
    "# Only numerical data\n",
    "all_data_num = all_data.drop(categorical_columns, axis=1)\n",
    "train_data_num = all_data_num.iloc[0:train_obs,]\n",
    "test_data_num = all_data_num.iloc[train_obs:,]\n",
    "\n",
    "#########################\n",
    "# Only categorial data\n",
    "all_data_cat = pd.get_dummies(all_data[categorical_columns])\n",
    "train_data_cat = all_data_cat.iloc[0:train_obs,]\n",
    "test_data_cat = all_data_cat.iloc[train_obs:,]\n",
    "\n",
    "#########################\n",
    "# Ignoring two large columns ('slim')\n",
    "categorical_columns_slim = ['0','5','7','8','9','14','16','17','18','20','25','26','56','57']\n",
    "\n",
    "all_data_cat_slim = pd.get_dummies(all_data[categorical_columns_slim])\n",
    "train_data_cat_slim = all_data_cat_slim.iloc[0:train_obs,]\n",
    "test_data_cat_slim = all_data_cat_slim.iloc[train_obs:,]\n",
    "\n",
    "#########################\n",
    "# Combined sets\n",
    "train_data_combo = pd.concat([train_data_num, train_data_cat], axis=1)\n",
    "test_data_combo = pd.concat([test_data_num, test_data_cat], axis=1)\n",
    "\n",
    "train_data_combo_slim = pd.concat([train_data_num, train_data_cat_slim], axis=1)\n",
    "test_data_combo_slim = pd.concat([test_data_num, test_data_cat_slim], axis=1)"
   ]
  },
  {
   "cell_type": "code",
   "execution_count": 252,
   "metadata": {
    "collapsed": false
   },
   "outputs": [],
   "source": [
    "from sklearn.ensemble import AdaBoostClassifier, BaggingClassifier, ExtraTreesClassifier, RandomForestClassifier, GradientBoostingClassifier\n",
    "from sklearn.linear_model import LogisticRegression, SGDClassifier\n",
    "from sklearn.naive_bayes import GaussianNB, MultinomialNB\n",
    "from sklearn.neighbors import KNeighborsClassifier\n",
    "# from sklearn.neural_network import MLPClassifier\n",
    "from sklearn.svm import SVR\n",
    "# from xgboost import XGBClassifier\n",
    "\n",
    "from sklearn.tree import ExtraTreeClassifier\n",
    "\n",
    "def cv_run_ada(train_data, train_labels, test_data, test_labels):\n",
    "    model = AdaBoostClassifier().fit(train_data, train_labels)\n",
    "    preds = model.predict(test_data)    \n",
    "    error = 1 - sum(preds == test_labels)/float(len(test_labels))\n",
    "    return preds, error\n",
    "\n",
    "def cv_run_bag(train_data, train_labels, test_data, test_labels):\n",
    "    model = BaggingClassifier(max_features=0.75, random_state=1).fit(train_data, train_labels)\n",
    "    preds = model.predict(test_data)\n",
    "    error = 1 - sum(preds == test_labels)/float(len(test_labels))\n",
    "    return preds, error\n",
    "\n",
    "def cv_run_et(train_data, train_labels, test_data, test_labels):\n",
    "    model = ExtraTreesClassifier(max_features=400, n_estimators=20, n_jobs=-1, random_state=1).fit(train_data, train_labels)\n",
    "    preds = model.predict(test_data)\n",
    "    error = 1 - sum(preds == test_labels)/float(len(test_labels))\n",
    "    return preds, error\n",
    "\n",
    "def cv_run_et2(train_data, train_labels, test_data, test_labels):\n",
    "    model = ExtraTreesClassifier(max_features=None, n_jobs=-1, random_state=1).fit(train_data, train_labels)\n",
    "    preds = model.predict(test_data)\n",
    "    error = 1 - sum(preds == test_labels)/float(len(test_labels))\n",
    "    return preds, error\n",
    "\n",
    "def cv_run_gb(train_data, train_labels, test_data, test_labels):\n",
    "    model = GradientBoostingClassifier(loss='exponential', n_estimators=200, max_features=None, random_state=1).fit(train_data, train_labels)\n",
    "    preds = model.predict(test_data)\n",
    "    error = 1 - sum(preds == test_labels)/float(len(test_labels))\n",
    "    return preds, error\n",
    "\n",
    "def cv_run_knn(train_data, train_labels, test_data, test_labels, n_neigh):\n",
    "    model = KNeighborsClassifier(n_neighbors=n_neigh).fit(train_data, train_labels)\n",
    "    preds = model.predict(test_data)\n",
    "    error = 1 - sum(preds == test_labels)/float(len(test_labels))\n",
    "    return preds, error\n",
    "\n",
    "def cv_run_logistic(train_data, train_labels, test_data, test_labels):\n",
    "    model = LogisticRegression().fit(train_data, train_labels)\n",
    "    preds = model.predict(test_data)\n",
    "    error = 1 - sum(preds == test_labels)/float(len(test_labels))\n",
    "    return preds, error\n",
    "\n",
    "def cv_run_nb(train_data, train_labels, test_data, test_labels):\n",
    "    model = GaussianNB().fit(train_data, train_labels)\n",
    "    preds = model.predict(test_data)\n",
    "    error = 1 - sum(preds == test_labels)/float(len(test_labels))\n",
    "    return preds, error\n",
    "\n",
    "# def cv_run_neural(train_data, train_labels, test_data, test_labels):\n",
    "#     model = MLPClassifier().fit(train_data, train_labels)\n",
    "#     preds = model.predict(test_data)\n",
    "#     error = 1 - sum(preds == test_labels)/float(len(test_labels))\n",
    "#     return preds, error\n",
    "\n",
    "def cv_run_rf(train_data, train_labels, test_data, test_labels):\n",
    "    model = RandomForestClassifier(max_features=200, random_state=1).fit(train_data, train_labels)\n",
    "    preds = model.predict(test_data)\n",
    "    error = 1 - sum(preds == test_labels)/float(len(test_labels))\n",
    "    return preds, error\n",
    "\n",
    "def cv_run_rf2(train_data, train_labels, test_data, test_labels):\n",
    "    model = RandomForestClassifier(max_features=None, random_state=1).fit(train_data, train_labels)\n",
    "    preds = model.predict(test_data)\n",
    "    error = 1 - sum(preds == test_labels)/float(len(test_labels))\n",
    "    return preds, error\n",
    "\n",
    "def cv_run_sgd(train_data, train_labels, test_data, test_labels):    \n",
    "    model = SGDClassifier(loss='perceptron').fit(train_data, train_labels)\n",
    "    preds = model.predict(test_data)\n",
    "    error = 1 - sum(preds == test_labels)/float(len(test_labels))\n",
    "    return preds, error\n",
    "\n",
    "def cv_run_svm(train_data, train_labels, test_data, test_labels):    \n",
    "    model = SVR().fit(train_data, train_labels)\n",
    "    preds = model.predict(test_data)\n",
    "    error = 1 - sum(preds == test_labels)/float(len(test_labels))\n",
    "    return preds, error\n",
    "\n",
    "# def cv_run_xg(train_data, train_labels, test_data, test_labels):\n",
    "#     model = XGBClassifier().fit(train_data, train_labels)\n",
    "#     preds = model.predict(test_data)\n",
    "#     error = 1 - sum(preds == test_labels)/float(len(test_labels))\n",
    "#     return preds, error"
   ]
  },
  {
   "cell_type": "code",
   "execution_count": 170,
   "metadata": {
    "collapsed": false
   },
   "outputs": [
    {
     "name": "stdout",
     "output_type": "stream",
     "text": [
      "Starting fold #1\n",
      "Fold #1 errors:\n",
      "(0.057237464522232773, 0.058577735730053648, 0.10410753705455689, 0.084752444023967199)\n",
      "\n",
      "Starting fold #2\n",
      "Fold #2 errors:\n",
      "(0.056685588142541765, 0.058971933144118527, 0.10726111636707658, 0.08230842005676442)\n",
      "\n",
      "Starting fold #3\n",
      "Fold #3 errors:\n",
      "(0.055859975558796848, 0.057160878306461105, 0.10588559940079634, 0.079867544447510541)\n",
      "\n",
      "Starting fold #4\n",
      "Fold #4 errors:\n",
      "(0.056293609808018341, 0.059526156029487076, 0.10702881696692557, 0.082942405487444359)\n",
      "\n",
      "Starting fold #5\n",
      "Fold #5 errors:\n",
      "(0.056727244057239723, 0.057752197737217625, 0.1092364095084164, 0.08451925730279497)\n",
      "\n"
     ]
    }
   ],
   "source": [
    "#########################\n",
    "# Cross validation (first stage)\n",
    "random.seed(1)\n",
    "n_folds = 5\n",
    "num_train = len(train_data_combo)\n",
    "indices = random.sample(xrange(num_train), num_train)\n",
    "cv_folds = np.array_split(indices, n_folds)\n",
    "\n",
    "cv_preds = []\n",
    "for i, fold in enumerate(cv_folds):\n",
    "    cv_train_index = np.setxor1d(indices, fold)\n",
    "    cv_test_index = fold\n",
    "    \n",
    "    cv_train_data = train_data_combo.iloc[cv_train_index,:]\n",
    "    cv_train_data_slim = train_data_combo_slim.iloc[cv_train_index,:]\n",
    "    cv_train_labels = train_labels[cv_train_index]\n",
    "\n",
    "    cv_test_data = train_data_combo.iloc[cv_test_index,:]\n",
    "    cv_test_data_slim = train_data_combo_slim.iloc[cv_test_index,:]\n",
    "    cv_test_labels = train_labels[cv_test_index]\n",
    "    \n",
    "    print(\"Starting fold #{}\".format(i+1))\n",
    "    preds_1, error_1 = cv_run_et(cv_train_data, cv_train_labels, cv_test_data, cv_test_labels)\n",
    "    preds_2, error_2 = cv_run_rf(cv_train_data, cv_train_labels, cv_test_data, cv_test_labels)\n",
    "#     preds_3, error_3 = cv_run_bag(cv_train_data, cv_train_labels, cv_test_data, cv_test_labels)\n",
    "    preds_4, error_4 = cv_run_logistic(cv_train_data, cv_train_labels, cv_test_data, cv_test_labels)\n",
    "    preds_5, error_5 = cv_run_knn(cv_train_data_slim, cv_train_labels, cv_test_data_slim, cv_test_labels, 1)\n",
    "#     preds_6, error_6 = cv_run_knn(cv_train_data_slim, cv_train_labels, cv_test_data_slim, cv_test_labels, 2)\n",
    "#     preds_7, error_7 = cv_run_knn(cv_train_data_slim, cv_train_labels, cv_test_data_slim, cv_test_labels, 5)\n",
    "#     preds_8, error_8 = cv_run_knn(cv_train_data_slim, cv_train_labels, cv_test_data_slim, cv_test_labels, 10)\n",
    "    \n",
    "#     fold_preds = pd.concat([preds_1, preds_2, preds_3, preds_4, preds_5, preds_6, preds_7, preds_8], axis=1)\n",
    "    fold_preds = np.column_stack((preds_1, preds_2, preds_4, preds_5))\n",
    "    if len(cv_preds) == 0:\n",
    "        cv_preds = fold_preds\n",
    "    else:\n",
    "        cv_preds = np.vstack((cv_preds,fold_preds))\n",
    "    print(\"Fold #{} errors:\".format(i+1))\n",
    "    print(error_1, error_2, error_4, error_5)\n",
    "    print('')\n",
    "\n",
    "# print(sum(cv_errors)/float(n_folds))"
   ]
  },
  {
   "cell_type": "code",
   "execution_count": 239,
   "metadata": {
    "collapsed": false
   },
   "outputs": [
    {
     "name": "stdout",
     "output_type": "stream",
     "text": [
      "Method #0: 0.0565607827369\n",
      "Method #1: 0.058397786135\n",
      "Method #2: 0.106703879783\n",
      "Method #3: 0.0828780245512\n"
     ]
    }
   ],
   "source": [
    "#########################\n",
    "# CV Errors\n",
    "cv_labels = train_labels[indices]\n",
    "for i in xrange(cv_preds.shape[1]):\n",
    "    print(\"Method #{}: {}\".format(i, 1 - sum(cv_preds[:,i] == cv_labels)/float(len(cv_labels))))\n",
    "cv_labels = cv_labels.as_matrix()"
   ]
  },
  {
   "cell_type": "code",
   "execution_count": 255,
   "metadata": {
    "collapsed": false
   },
   "outputs": [
    {
     "name": "stdout",
     "output_type": "stream",
     "text": [
      "Starting fold #1\n",
      "(0.056054872280037804, 0.055660674865972926, 0.055660674865972926, 0.055778934090192411, 0.056054872280037804, 0.076277199621570535, 0.076158940397350938, 0.057671081677704183, 0.055069378744875386)\n",
      "Starting fold #2\n",
      "(0.056843267108167783, 0.05534531693472089, 0.05534531693472089, 0.05534531693472089, 0.055581835383159861, 0.057158625039419708, 0.05861715547146007, 0.055069378744875386, 0.055227057710501404)\n",
      "Starting fold #3\n",
      "(0.0551109709465053, 0.053691804312689717, 0.052942799700398169, 0.052942799700398169, 0.053810068198841043, 0.061891433752513159, 0.059053100484881882, 0.053967753380376071, 0.054559072811132592)\n",
      "Starting fold #4\n",
      "(0.054953285764970272, 0.055820554263413147, 0.055544605195726682, 0.055544605195726682, 0.054953285764970272, 0.06094532266330277, 0.061024165254070284, 0.056214767217250716, 0.056884929238774751)\n",
      "Starting fold #5\n",
      "(0.054637915401900106, 0.054519651515748779, 0.054519651515748779, 0.054519651515748779, 0.054637915401900106, 0.055426341309575466, 0.056017660740331876, 0.055347498718807953, 0.055229234832656626)\n",
      "0.0550076003785\n"
     ]
    }
   ],
   "source": [
    "from sklearn.cross_validation import KFold\n",
    "\n",
    "cv_preds_stack = pd.DataFrame(cv_preds)\n",
    "\n",
    "n = len(cv_labels)\n",
    "kf = KFold(n, n_folds=5)\n",
    "cv_errors = []\n",
    "for i, (train, test) in enumerate(kf):\n",
    "    cv_train_data = cv_preds_stack.iloc[train,:]\n",
    "    cv_train_labels = cv_labels[train]\n",
    "    cv_test_data = cv_preds_stack.iloc[test,:]\n",
    "    cv_test_labels = cv_labels[test]\n",
    "    \n",
    "    print(\"Starting fold #{}\".format(i+1))\n",
    "    preds_0, error_0 = cv_run_ada(cv_train_data, cv_train_labels, cv_test_data, cv_test_labels)\n",
    "    preds_1, error_1 = cv_run_et2(cv_train_data, cv_train_labels, cv_test_data, cv_test_labels)\n",
    "    preds_2, error_2 = cv_run_rf2(cv_train_data, cv_train_labels, cv_test_data, cv_test_labels)\n",
    "    preds_3, error_3 = cv_run_bag(cv_train_data, cv_train_labels, cv_test_data, cv_test_labels)\n",
    "    preds_4, error_4 = cv_run_logistic(cv_train_data, cv_train_labels, cv_test_data, cv_test_labels)\n",
    "    preds_5, error_5 = cv_run_knn(cv_train_data, cv_train_labels, cv_test_data, cv_test_labels, 1)\n",
    "    preds_6, error_6 = cv_run_knn(cv_train_data, cv_train_labels, cv_test_data, cv_test_labels, 2)\n",
    "    preds_7, error_7 = cv_run_knn(cv_train_data, cv_train_labels, cv_test_data, cv_test_labels, 5)\n",
    "    preds_8, error_8 = cv_run_knn(cv_train_data, cv_train_labels, cv_test_data, cv_test_labels, 10)\n",
    "    print(error_0, error_1, error_2, error_3, error_4, error_5, error_6, error_7, error_8)\n",
    "    cv_errors.append(error_1)\n",
    "    \n",
    "print(sum(cv_errors)/float(len(cv_errors)))"
   ]
  },
  {
   "cell_type": "markdown",
   "metadata": {},
   "source": [
    "## Train all models for export"
   ]
  },
  {
   "cell_type": "code",
   "execution_count": 259,
   "metadata": {
    "collapsed": false
   },
   "outputs": [
    {
     "name": "stdout",
     "output_type": "stream",
     "text": [
      "Model 1\n"
     ]
    }
   ],
   "source": [
    "print('Model 1')\n",
    "model = ExtraTreesClassifier(max_features=400, n_estimators=20, n_jobs=-1, \n",
    "                             random_state=1).fit(train_data_combo, train_labels)\n",
    "preds_1 = model.predict(test_data_combo)"
   ]
  },
  {
   "cell_type": "code",
   "execution_count": 260,
   "metadata": {
    "collapsed": false
   },
   "outputs": [
    {
     "name": "stdout",
     "output_type": "stream",
     "text": [
      "Model 2\n"
     ]
    }
   ],
   "source": [
    "print('Model 2')\n",
    "model = RandomForestClassifier(max_features=200, random_state=1).fit(train_data_combo, train_labels)\n",
    "preds_2 = model.predict(test_data_combo)"
   ]
  },
  {
   "cell_type": "code",
   "execution_count": 261,
   "metadata": {
    "collapsed": false
   },
   "outputs": [
    {
     "name": "stdout",
     "output_type": "stream",
     "text": [
      "Model 3\n"
     ]
    }
   ],
   "source": [
    "print('Model 3')\n",
    "model = LogisticRegression().fit(train_data_combo, train_labels)\n",
    "preds_3 = model.predict(test_data_combo)"
   ]
  },
  {
   "cell_type": "code",
   "execution_count": 262,
   "metadata": {
    "collapsed": false
   },
   "outputs": [
    {
     "name": "stdout",
     "output_type": "stream",
     "text": [
      "Model 4\n"
     ]
    }
   ],
   "source": [
    "print('Model 4')\n",
    "model = KNeighborsClassifier(n_neighbors=1).fit(train_data_combo_slim, train_labels)\n",
    "preds_4 = model.predict(test_data_combo_slim)"
   ]
  },
  {
   "cell_type": "code",
   "execution_count": 276,
   "metadata": {
    "collapsed": false
   },
   "outputs": [],
   "source": [
    "preds = np.column_stack((preds_1, preds_2, preds_3, preds_4))"
   ]
  },
  {
   "cell_type": "code",
   "execution_count": 277,
   "metadata": {
    "collapsed": true
   },
   "outputs": [],
   "source": [
    "model = RandomForestClassifier(max_features=None, random_state=1).fit(cv_preds_stack, cv_labels)\n",
    "results = model.predict(preds)"
   ]
  },
  {
   "cell_type": "code",
   "execution_count": 270,
   "metadata": {
    "collapsed": false
   },
   "outputs": [],
   "source": [
    "with open('results_20160401-1(stack).csv', 'w') as f:\n",
    "    writer = csv.writer(f)\n",
    "    writer.writerow((\"Id\",\"Prediction\"))\n",
    "    writer.writerows(zip(range(1,len(preds)+1), preds))"
   ]
  }
 ],
 "metadata": {
  "kernelspec": {
   "display_name": "Python 2",
   "language": "python",
   "name": "python2"
  },
  "language_info": {
   "codemirror_mode": {
    "name": "ipython",
    "version": 2
   },
   "file_extension": ".py",
   "mimetype": "text/x-python",
   "name": "python",
   "nbconvert_exporter": "python",
   "pygments_lexer": "ipython2",
   "version": "2.7.11"
  }
 },
 "nbformat": 4,
 "nbformat_minor": 0
}
