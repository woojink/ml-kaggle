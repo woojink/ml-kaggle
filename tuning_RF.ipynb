{
 "cells": [
  {
   "cell_type": "code",
   "execution_count": 1,
   "metadata": {
    "collapsed": false
   },
   "outputs": [],
   "source": [
    "import csv\n",
    "import numpy as np\n",
    "import pandas as pd\n",
    "import random\n",
    "from sklearn.cross_validation import train_test_split\n",
    "from sklearn.grid_search import GridSearchCV\n",
    "\n",
    "train = pd.read_csv('data.csv', sep=\",\")\n",
    "train_data = train.iloc[:,:-1]\n",
    "train_labels = train.iloc[:,-1]\n",
    "\n",
    "test_data = pd.read_csv('quiz.csv', sep=\",\")\n",
    "\n",
    "train_data, holdout_data, train_labels, holdout_label = train_test_split(train_data, train_labels, test_size=0.2, random_state=1)"
   ]
  },
  {
   "cell_type": "code",
   "execution_count": 2,
   "metadata": {
    "collapsed": true
   },
   "outputs": [],
   "source": [
    "all_data = pd.concat([train_data, test_data])\n",
    "train_obs = len(train_data)\n",
    "test_obs = len(test_data)\n",
    "\n",
    "# Change dtype of categorical columns\n",
    "categorical_columns = ['0','5','7','8','9','14','16','17','18','20','23','25','26','56','57','58']\n",
    "for i in range(0,len(categorical_columns)):\n",
    "    all_data[categorical_columns[i]] = all_data[categorical_columns[i]].astype('category')\n",
    "    "
   ]
  },
  {
   "cell_type": "code",
   "execution_count": 3,
   "metadata": {
    "collapsed": false
   },
   "outputs": [],
   "source": [
    "from sklearn.ensemble import AdaBoostClassifier, BaggingClassifier, ExtraTreesClassifier, RandomForestClassifier, GradientBoostingClassifier\n",
    "from sklearn.linear_model import LogisticRegression, SGDClassifier\n",
    "from sklearn.naive_bayes import GaussianNB, MultinomialNB\n",
    "from sklearn.neighbors import KNeighborsClassifier\n",
    "#from sklearn.neural_network import MLPClassifier\n",
    "#from sklearn.svm import SVR\n",
    "#from xgboost import XGBClassifier\n",
    "\n",
    "from sklearn.tree import ExtraTreeClassifier\n",
    "\n"
   ]
  },
  {
   "cell_type": "code",
   "execution_count": 4,
   "metadata": {
    "collapsed": false
   },
   "outputs": [],
   "source": [
    "params = {'n_estimators': np.array([100,125,150,175]),'n_jobs':[-1]}\n",
    "RF = RandomForestClassifier()\n",
    "GridRFClassifier = GridSearchCV(estimator=RF, param_grid=params, n_jobs = 1, cv =5, verbose=2)"
   ]
  },
  {
   "cell_type": "code",
   "execution_count": 5,
   "metadata": {
    "collapsed": true
   },
   "outputs": [],
   "source": [
    "all_data_num = all_data.drop(categorical_columns, axis=1)\n",
    "train_data_num = all_data_num.iloc[0:train_obs,]\n",
    "test_data_num = all_data_num.iloc[train_obs:,]"
   ]
  },
  {
   "cell_type": "code",
   "execution_count": 6,
   "metadata": {
    "collapsed": false
   },
   "outputs": [],
   "source": [
    "all_data_cat = pd.get_dummies(all_data[categorical_columns])\n",
    "train_data_cat = all_data_cat.iloc[0:train_obs,]\n",
    "test_data_cat = all_data_cat.iloc[train_obs:,]\n",
    "\n",
    "train_data_combo = pd.concat([train_data_num, train_data_cat], axis=1)\n",
    "test_data_combo = pd.concat([test_data_num, test_data_cat], axis=1)"
   ]
  },
  {
   "cell_type": "code",
   "execution_count": 7,
   "metadata": {
    "collapsed": false
   },
   "outputs": [],
   "source": [
    "categorical_columns_tiny = ['0','5','7','8','9','14','16','17','18','20','25','26','56','57']\n",
    "\n",
    "all_data_cat_tiny = pd.get_dummies(all_data[categorical_columns_tiny])\n",
    "train_data_cat_tiny = all_data_cat_tiny.iloc[0:train_obs,]\n",
    "test_data_cat_tiny = all_data_cat_tiny.iloc[train_obs:,]\n",
    "\n",
    "train_data_combo_tiny = pd.concat([train_data_num, train_data_cat_tiny], axis=1)\n",
    "test_data_combo_tiny = pd.concat([test_data_num, test_data_cat_tiny], axis=1)"
   ]
  },
  {
   "cell_type": "code",
   "execution_count": 8,
   "metadata": {
    "collapsed": false,
    "scrolled": true
   },
   "outputs": [
    {
     "name": "stdout",
     "output_type": "stream",
     "text": [
      "Fitting 5 folds for each of 4 candidates, totalling 20 fits\n",
      "[CV] n_estimators=100, n_jobs=-1 .....................................\n",
      "[CV] ............................ n_estimators=100, n_jobs=-1 - 3.4min\n",
      "[CV] n_estimators=100, n_jobs=-1 .....................................\n",
      "[CV] ............................ n_estimators=100, n_jobs=-1 - 2.2min\n",
      "[CV] n_estimators=100, n_jobs=-1 .....................................\n",
      "[CV] ............................ n_estimators=100, n_jobs=-1 - 3.7min\n",
      "[CV] n_estimators=100, n_jobs=-1 .....................................\n",
      "[CV] ............................ n_estimators=100, n_jobs=-1 - 4.3min\n",
      "[CV] n_estimators=100, n_jobs=-1 .....................................\n",
      "[CV] ............................ n_estimators=100, n_jobs=-1 - 3.4min\n",
      "[CV] n_estimators=125, n_jobs=-1 .....................................\n",
      "[CV] ............................ n_estimators=125, n_jobs=-1 - 5.1min\n",
      "[CV] n_estimators=125, n_jobs=-1 .....................................\n",
      "[CV] ............................ n_estimators=125, n_jobs=-1 - 5.0min\n",
      "[CV] n_estimators=125, n_jobs=-1 .....................................\n",
      "[CV] ............................ n_estimators=125, n_jobs=-1 - 5.0min\n",
      "[CV] n_estimators=125, n_jobs=-1 .....................................\n",
      "[CV] ............................ n_estimators=125, n_jobs=-1 - 5.0min\n",
      "[CV] n_estimators=125, n_jobs=-1 .....................................\n",
      "[CV] ............................ n_estimators=125, n_jobs=-1 - 5.0min\n",
      "[CV] n_estimators=150, n_jobs=-1 .....................................\n",
      "[CV] ............................ n_estimators=150, n_jobs=-1 - 6.2min\n",
      "[CV] n_estimators=150, n_jobs=-1 .....................................\n",
      "[CV] ............................ n_estimators=150, n_jobs=-1 - 6.1min\n",
      "[CV] n_estimators=150, n_jobs=-1 .....................................\n",
      "[CV] ............................ n_estimators=150, n_jobs=-1 - 4.3min\n",
      "[CV] n_estimators=150, n_jobs=-1 .....................................\n",
      "[CV] ............................ n_estimators=150, n_jobs=-1 - 3.9min\n",
      "[CV] n_estimators=150, n_jobs=-1 .....................................\n",
      "[CV] ............................ n_estimators=150, n_jobs=-1 - 5.4min\n",
      "[CV] n_estimators=175, n_jobs=-1 .....................................\n",
      "[CV] ............................ n_estimators=175, n_jobs=-1 - 6.3min\n",
      "[CV] n_estimators=175, n_jobs=-1 .....................................\n",
      "[CV] ............................ n_estimators=175, n_jobs=-1 - 5.9min\n",
      "[CV] n_estimators=175, n_jobs=-1 .....................................\n",
      "[CV] ............................ n_estimators=175, n_jobs=-1 - 6.1min\n",
      "[CV] n_estimators=175, n_jobs=-1 .....................................\n",
      "[CV] ............................ n_estimators=175, n_jobs=-1 - 7.4min\n",
      "[CV] n_estimators=175, n_jobs=-1 .....................................\n",
      "[CV] ............................ n_estimators=175, n_jobs=-1 - 7.2min\n"
     ]
    },
    {
     "name": "stderr",
     "output_type": "stream",
     "text": [
      "[Parallel(n_jobs=1)]: Done  20 out of  20 | elapsed: 100.9min finished\n"
     ]
    },
    {
     "data": {
      "text/plain": [
       "GridSearchCV(cv=5, error_score='raise',\n",
       "       estimator=RandomForestClassifier(bootstrap=True, class_weight=None, criterion='gini',\n",
       "            max_depth=None, max_features='auto', max_leaf_nodes=None,\n",
       "            min_samples_leaf=1, min_samples_split=2,\n",
       "            min_weight_fraction_leaf=0.0, n_estimators=10, n_jobs=1,\n",
       "            oob_score=False, random_state=None, verbose=0,\n",
       "            warm_start=False),\n",
       "       fit_params={}, iid=True, n_jobs=1,\n",
       "       param_grid={'n_estimators': array([100, 125, 150, 175]), 'n_jobs': [-1]},\n",
       "       pre_dispatch='2*n_jobs', refit=True, scoring=None, verbose=2)"
      ]
     },
     "execution_count": 8,
     "metadata": {},
     "output_type": "execute_result"
    }
   ],
   "source": [
    "GridRFClassifier.fit(train_data_combo, train_labels)"
   ]
  },
  {
   "cell_type": "code",
   "execution_count": 9,
   "metadata": {
    "collapsed": false
   },
   "outputs": [
    {
     "data": {
      "text/plain": [
       "[mean: 0.89389, std: 0.00221, params: {'n_estimators': 1, 'n_jobs': -1},\n",
       " mean: 0.92810, std: 0.00234, params: {'n_estimators': 5, 'n_jobs': -1},\n",
       " mean: 0.93919, std: 0.00142, params: {'n_estimators': 20, 'n_jobs': -1},\n",
       " mean: 0.94059, std: 0.00114, params: {'n_estimators': 50, 'n_jobs': -1},\n",
       " mean: 0.94166, std: 0.00093, params: {'n_estimators': 100, 'n_jobs': -1}]"
      ]
     },
     "execution_count": 9,
     "metadata": {},
     "output_type": "execute_result"
    }
   ],
   "source": [
    "#GridLogiClassifier.best_score_\n",
    "GridRFClassifier.grid_scores_\n"
   ]
  },
  {
   "cell_type": "code",
   "execution_count": 12,
   "metadata": {
    "collapsed": false
   },
   "outputs": [
    {
     "data": {
      "text/plain": [
       "[mean: 0.94195, std: 0.00076, params: {'n_estimators': 100, 'n_jobs': -1},\n",
       " mean: 0.94157, std: 0.00079, params: {'n_estimators': 200, 'n_jobs': -1},\n",
       " mean: 0.94165, std: 0.00059, params: {'n_estimators': 300, 'n_jobs': -1},\n",
       " mean: 0.94183, std: 0.00072, params: {'n_estimators': 400, 'n_jobs': -1},\n",
       " mean: 0.94180, std: 0.00054, params: {'n_estimators': 500, 'n_jobs': -1}]"
      ]
     },
     "execution_count": 12,
     "metadata": {},
     "output_type": "execute_result"
    }
   ],
   "source": [
    "#GridLogiClassifier.best_score_\n",
    "GridRFClassifier.grid_scores_\n",
    "\n"
   ]
  },
  {
   "cell_type": "code",
   "execution_count": 9,
   "metadata": {
    "collapsed": false
   },
   "outputs": [
    {
     "data": {
      "text/plain": [
       "[mean: 0.94163, std: 0.00054, params: {'n_estimators': 100, 'n_jobs': -1},\n",
       " mean: 0.94094, std: 0.00064, params: {'n_estimators': 125, 'n_jobs': -1},\n",
       " mean: 0.94172, std: 0.00120, params: {'n_estimators': 150, 'n_jobs': -1},\n",
       " mean: 0.94153, std: 0.00081, params: {'n_estimators': 175, 'n_jobs': -1}]"
      ]
     },
     "execution_count": 9,
     "metadata": {},
     "output_type": "execute_result"
    }
   ],
   "source": [
    "GridRFClassifier.grid_scores_"
   ]
  },
  {
   "cell_type": "code",
   "execution_count": null,
   "metadata": {
    "collapsed": true
   },
   "outputs": [],
   "source": []
  }
 ],
 "metadata": {
  "kernelspec": {
   "display_name": "Python 2",
   "language": "python",
   "name": "python2"
  },
  "language_info": {
   "codemirror_mode": {
    "name": "ipython",
    "version": 2
   },
   "file_extension": ".py",
   "mimetype": "text/x-python",
   "name": "python",
   "nbconvert_exporter": "python",
   "pygments_lexer": "ipython2",
   "version": "2.7.11"
  }
 },
 "nbformat": 4,
 "nbformat_minor": 0
}
